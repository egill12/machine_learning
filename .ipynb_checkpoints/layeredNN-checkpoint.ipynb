{
 "cells": [
  {
   "cell_type": "code",
   "execution_count": 4,
   "metadata": {
    "collapsed": true
   },
   "outputs": [],
   "source": [
    "import numpy as np"
   ]
  },
  {
   "cell_type": "code",
   "execution_count": 27,
   "metadata": {},
   "outputs": [],
   "source": [
    "# sigmoid fn\n",
    "def nonlin(x, deriv = False):\n",
    "    if(deriv==True):\n",
    "        return x*(1-x)\n",
    "    return 1/(1+np.exp(-x))\n"
   ]
  },
  {
   "cell_type": "code",
   "execution_count": 52,
   "metadata": {},
   "outputs": [],
   "source": [
    "X = np.array([[0, 0, 1], [0, 1, 1], [1, 0, 1], [1, 1, 1]])\n",
    "y = np.array([[0, 0, 1, 1]]).T\n",
    "y_hard = np.array([[0, 1, 1, 0]]).T \n",
    "np.random.seed(10)\n",
    "syn0 = 2*np.random.random((3,1)) - 1\n",
    "first_ovbs = []"
   ]
  },
  {
   "cell_type": "code",
   "execution_count": 62,
   "metadata": {},
   "outputs": [],
   "source": [
    "# iterate through as far as poss\n",
    "y = y_hard\n",
    "for i in range(0,1000):\n",
    "    # input layer, 4 obvs and 3 features\n",
    "    l0 = X\n",
    "    # hidden layer. we calculate the matrix product of synapse weights\n",
    "    # and the input values. gives us a 4x1 matrix which we then use the sigmoid fn\n",
    "    # to get to the output layer\n",
    "    l1 = nonlin(np.dot(l0,syn0))\n",
    "    first_ovbs.append(nonlin(np.random.random(1)[0]))\n",
    "    # find error of our predictions\n",
    "    l1_error = y - l1\n",
    "    # find out where we are on the sigmoid function and what the slope is at that point\n",
    "    l1_delta = l1_error*nonlin(l1,True)\n",
    "    # update the weights as needed\n",
    "    # here we adjust the weights of the synapse by the input values and\n",
    "    # the slope of the direction from the sigmoid function\n",
    "    syn0 += np.dot(l0.T, l1_delta) \n",
    "    i += 1\n"
   ]
  },
  {
   "cell_type": "code",
   "execution_count": 63,
   "metadata": {},
   "outputs": [
    {
     "data": {
      "image/png": "[encoded data removed]",
      "text/plain": [
       "<matplotlib.figure.Figure at 0x98c2cb0>"
      ]
     },
     "metadata": {},
     "output_type": "display_data"
    }
   ],
   "source": [
    "from matplotlib import pyplot as plt\n",
    "plt.plot(first_ovbs)\n",
    "plt.show()\n",
    "#np.dot(X,syn0)"
   ]
  },
  {
   "cell_type": "code",
   "execution_count": 61,
   "metadata": {},
   "outputs": [
    {
     "data": {
      "text/plain": [
       "0.4985070123025904"
      ]
     },
     "execution_count": 61,
     "metadata": {},
     "output_type": "execute_result"
    }
   ],
   "source": []
  }
 ],
 "metadata": {
  "kernelspec": {
   "display_name": "Python 3",
   "language": "python",
   "name": "python3"
  },
  "language_info": {
   "codemirror_mode": {
    "name": "ipython",
    "version": 3
   },
   "file_extension": ".py",
   "mimetype": "text/x-python",
   "name": "python",
   "nbconvert_exporter": "python",
   "pygments_lexer": "ipython3",
   "version": "3.6.3"
  }
 },
 "nbformat": 4,
 "nbformat_minor": 1
}
