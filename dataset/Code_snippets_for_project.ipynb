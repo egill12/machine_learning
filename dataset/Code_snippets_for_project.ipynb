{
 "cells": [
  {
   "cell_type": "code",
   "execution_count": null,
   "metadata": {
    "collapsed": true
   },
   "outputs": [],
   "source": [
    "'''\n",
    "This outlines some of the code needed to create the charts in the report\n",
    "'''\n",
    "\n",
    "import pandas as pd\n",
    "import numpy as np\n",
    "import datetime \n",
    "from scipy.stats import norm\n",
    "import math\n",
    "from matplotlib import pyplot as plt\n",
    "csv_path = r\"eurusd_hour.csv\"\n",
    "eurusd = pd.read_csv(csv_path)\n",
    "eurusd['date'] = pd.to_datetime(eurusd['Date'])\n",
    "#Make the neccessary transforms on the data.\n",
    "eurusd.columns\n",
    "eurusd['MidOpen'] = (eurusd['BidOpen'] + eurusd['AskOpen'])/2\n",
    "eurusd['MidClose'] = (eurusd['BidClose'] + eurusd['AskClose'])/2\n",
    "eurusd['MidClose_pct_chg'] = eurusd['MidClose'].pct_change()\n",
    "eurusd[\"bid_offer\"] = eurusd['BidClose'] + eurusd['AskClose']\n",
    "daily_0800 = eurusd.loc[eurusd['Hour'] == \"08:00\"]\n",
    "daily_0800['MidClose_pct_chg'] = daily_0800['MidClose'].pct_change()\n",
    "daily_1600 = eurusd.loc[eurusd['Hour'] == \"16:00\"]\n",
    "daily_1600['MidClose_pct_chg'] = daily_1600['MidClose'].pct_change()\n",
    "(mu, sigma) = norm.fit(daily_0800['MidClose_pct_chg'].dropna(how='all'))\n",
    "daily_0800['MidClose_pct_chg'] = daily_0800['MidClose_pct_chg'].replace(np.nan, 0)\n",
    "daily_1600['MidClose_pct_chg'] = daily_1600['MidClose_pct_chg'].replace(np.nan, 0)\n",
    "# this reverses the dataframe and provides you with forward returns\n",
    "eurusd['MidClose_24h_fwd'] = eurusd['MidClose_pct_chg'].iloc[::-1].rolling(24).sum().iloc[::-1]\n",
    "eurusd['MidClose_24h_fwd_sign'] = eurusd['MidClose_24h_fwd'].apply(np.sign)\n",
    "eurusd['MidClose_24h_prior'] = eurusd['MidClose_pct_chg'].rolling(24).sum()\n",
    "eurusd['MidClose_12h_prior'] = eurusd['MidClose_pct_chg'].rolling(12).sum()\n",
    "eurusd['MidClose_24h_fwd'] = eurusd['MidClose_24h_fwd'].replace(np.nan, 0)\n",
    "eurusd['MidClose_24h_fwd_sign'] = eurusd['MidClose_24h_fwd_sign'].replace(np.nan, 0)\n",
    "eurusd['MidClose_24h_prior'] = eurusd['MidClose_24h_prior'].replace(np.nan, 0)\n",
    "eurusd['MidClose_12h_prior'] = eurusd['MidClose_12h_prior'].replace(np.nan, 0)\n",
    "rolling_sd_1600 = daily_1600['MidClose_pct_chg'].rolling(252).std()*math.sqrt(252)\n",
    "rolling_sd_0800 = daily_0800['MidClose_pct_chg'].rolling(252).std()*math.sqrt(252)\n",
    "fig = plt.figure(1,figsize=(10,8))\n",
    "ax = fig.add_subplot(111)\n",
    "ax.plot(pd.to_datetime(daily_1600['Date'].iloc[252:]),rolling_sd_1600.iloc[252:], c = \"b\")\n",
    "ax.plot(pd.to_datetime(daily_0800['Date'].iloc[252:]),rolling_sd_0800.iloc[252:], c = \"r\")\n",
    "ax.set_xlabel(\"Date\")\n",
    "ax.set_ylabel(\"Standard Deviation of Returns\")\n",
    "ax.legend(['16:00 Daily Volatility', '08:00 Daily Volatility'])\n",
    "plt.show()\n",
    "ax.get_figure().savefig(\"EURUSDRollingVol.png\")"
   ]
  },
  {
   "cell_type": "code",
   "execution_count": null,
   "metadata": {},
   "outputs": [],
   "source": [
    "fig = plt.figure(1,figsize=(10,8))\n",
    "ax = fig.add_subplot(111)\n",
    "ax.scatter(eurusd['MidClose_24h_prior'].iloc[:-1], eurusd['MidClose_12h_prior'].iloc[:-1], cmap=\"RdYlGn\", c = eurusd['MidClose_24h_fwd_sign'].loc[1:])\n",
    "ax.set_xlabel(\"Return Momentum Last 12 Hours\")\n",
    "ax.set_ylabel(\"Return Momentum Last 24 Hours\")\n",
    "plt.show()\n",
    "ax.get_figure().savefig(\"EURUSDMomentum.png\")"
   ]
  },
  {
   "cell_type": "code",
   "execution_count": null,
   "metadata": {},
   "outputs": [],
   "source": [
    "import matplotlib.mlab as mlab\n",
    "#bins = 100\n",
    "mu_08 = daily_0800.loc[(daily_0800['Date'] >= \"2006-02-01\") & (daily_0800['Date'] <= \"2008-02-01\"),\"MidClose_pct_chg\"].mean()\n",
    "sd_08 = daily_0800.loc[(daily_0800['Date'] >= \"2006-02-01\") & (daily_0800['Date'] <= \"2008-02-01\"),\"MidClose_pct_chg\"].std()\n",
    "mu_14 = daily_0800.loc[(daily_0800['Date'] >= \"2014-04-01\") & (daily_0800['Date'] <= \"2015-04-01\"),\"MidClose_pct_chg\"].mean()\n",
    "sd_14 = daily_0800.loc[(daily_0800['Date'] >= \"2014-04-01\") & (daily_0800['Date'] <= \"2015-04-01\"),\"MidClose_pct_chg\"].std()\n",
    "plt.figure(1, figsize=(10, 8))\n",
    "n, bins, patches = plt.hist(daily_0800.loc[(daily_0800['Date'] >= \"2006-02-01\") & (daily_0800['Date'] <= \"2008-02-01\"),\"MidClose_pct_chg\"], \n",
    "                            normed=True, bins=100,color = \"r\",alpha = 0.4)\n",
    "n, bins, patches = plt.hist(daily_0800.loc[(daily_0800['Date'] >= \"2014-04-01\") & (daily_0800['Date'] <= \"2015-04-01\"),\"MidClose_pct_chg\"], \n",
    "                            normed=True, bins=100,color = \"b\",alpha= 0.3)\n",
    "dist_08 = mlab.normpdf( bins, mu_08, sd_08)\n",
    "dist_14 = mlab.normpdf( bins, mu_14, sd_14)\n",
    "l08 = plt.plot(bins, dist_08, 'r--', linewidth=2)\n",
    "l14 = plt.plot(bins, dist_14, 'b*', linewidth=2)\n",
    "plt.xlabel('Daily % Changes')\n",
    "plt.ylabel('Frequency')\n",
    "plt.title(r'Histogram of Daily Changes in EURUSD Split By Different Market regimes')\n",
    "plt.legend(['Gaussian Distribution Pre 2008',\"Gaussian Distribution Post 2014\" ,\"Pre 2008\", \"Post 2014\"])\n",
    "plt.savefig(\"Regimehist.png\")"
   ]
  }
 ],
 "metadata": {
  "kernelspec": {
   "display_name": "Python 2",
   "language": "python",
   "name": "python2"
  },
  "language_info": {
   "codemirror_mode": {
    "name": "ipython",
    "version": 2
   },
   "file_extension": ".py",
   "mimetype": "text/x-python",
   "name": "python",
   "nbconvert_exporter": "python",
   "pygments_lexer": "ipython2",
   "version": "2.7.6"
  }
 },
 "nbformat": 4,
 "nbformat_minor": 0
}
