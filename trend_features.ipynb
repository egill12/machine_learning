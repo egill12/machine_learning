{
 "cells": [
  {
   "cell_type": "code",
   "execution_count": 1,
   "metadata": {
    "collapsed": false
   },
   "outputs": [
    {
     "name": "stderr",
     "output_type": "stream",
     "text": [
      "C:\\Users\\edgil\\AppData\\Local\\Programs\\Python\\Python36\\lib\\site-packages\\ipykernel_launcher.py:28: SettingWithCopyWarning: \nA value is trying to be set on a copy of a slice from a DataFrame.\nTry using .loc[row_indexer,col_indexer] = value instead\n\nSee the caveats in the documentation: http://pandas.pydata.org/pandas-docs/stable/indexing.html#indexing-view-versus-copy\n"
     ]
    }
   ],
   "source": [
    "# this file creates the features used in the trend RNN.\n",
    "# features will revolve around high frequency (intra-day) mid-freq (daily to weekly), long term ( monthly trends)\n",
    "# for the intraday factor, should we try for minutely data?\n",
    "import pandas as pd\n",
    "import jupyter\n",
    "import numpy as np\n",
    "import datetime \n",
    "from scipy.stats import norm\n",
    "import math\n",
    "from matplotlib import pyplot as plt\n",
    "# Set up the data that we want to create a DT on.\n",
    "# import the fx data , econ and value data for EURUSD.\n",
    "# then create the features (on trend and econ data) standardise and run a DT on the x_train sample.\n",
    "# what is  target? 1 day ahead or long days ahead? trade on binary data.\n",
    "csv_file = {\"FXData\" : r\"C:\\Users\\edgil\\Documents\\Masters\\dissertation\\data\\CurrencyData.csv\",\n",
    "            \"ValueData\" : r\"\",\n",
    "            \"EconData\" : r\"\",\n",
    "            }\n",
    "fxdata = pd.read_csv(csv_file[\"FXData\"])\n",
    "fxdata['Date'] = pd.to_datetime(fxdata['Date'], format= '%d/%m/%Y %H:%M')\n",
    "# Separate out the EURUSD factor\n",
    "eurusd = fxdata[[\"Date\", \"EURUSD\"]]\n",
    "def get_time(row):\n",
    "    '''\n",
    "    Get the time stamp of the day \n",
    "    '''\n",
    "    return row.time()\n",
    "eurusd['timestamp'] = eurusd['Date'].apply(get_time)\n",
    "df = eurusd"
   ]
  },
  {
   "cell_type": "code",
   "execution_count": 2,
   "metadata": {},
   "outputs": [
    {
     "name": "stderr",
     "output_type": "stream",
     "text": [
      "C:\\Users\\edgil\\AppData\\Local\\Programs\\Python\\Python36\\lib\\site-packages\\pandas\\core\\indexing.py:194: SettingWithCopyWarning: \nA value is trying to be set on a copy of a slice from a DataFrame\n\nSee the caveats in the documentation: http://pandas.pydata.org/pandas-docs/stable/indexing.html#indexing-view-versus-copy\n  self._setitem_with_indexer(indexer, value)\n"
     ]
    }
   ],
   "source": [
    "# Very important step is to truncate the data so that we do not see the last 1 year of data.\n",
    "# Q. should we not have a rolling window type of model? or just always aggregate the data from the start?\n",
    "# how long is testing? we should we the train and test to sizes which make sense to the type of model we use going forward.\n",
    "eurusd = eurusd.loc[eurusd['Date'] < \"2018-01-01 00:00\"]\n",
    "# create a target vector to train on.\n",
    "# What is the target? binary return? sharpe ratio? This can then help us to position size the trade,\n",
    "# Build out the feature set on price, this may need to be created using functional process.\n",
    "eurusd[\"logret\"] = np.log(eurusd[\"EURUSD\"]) - np.log(eurusd[\"EURUSD\"].shift(1))\n",
    "# Standardising the daily rets and accumulating the standardised returns, or should we sum the % ret and standardise by its own history\n",
    "# is difference between different accumulated retusn horizons the same as the macd?\n",
    "# should we standardise by the 1 year forward vol?\n",
    "# TODO# Functionise the feature code for easy iteration.\n",
    "short = 5\n",
    "medium = 15\n",
    "long = 55\n",
    "longest = 100\n",
    "# TODO: Should this be an EMA or simple average? Using EWMA now as we \n",
    "# overweight recent history\n",
    "eurusd['HF_short'] = eurusd[\"EURUSD\"].ewm(short).mean()\n",
    "eurusd['HF_medium'] = eurusd[\"EURUSD\"].ewm(medium).mean()\n",
    "eurusd['HF_long'] = eurusd[\"EURUSD\"].ewm(long).mean()\n",
    "eurusd['HF_longest'] = eurusd[\"EURUSD\"].ewm(longest).mean()\n",
    "# differences to spot\n",
    "eurusd['spot_v_HF_short'] = eurusd[\"EURUSD\"] - eurusd['HF_short']\n",
    "eurusd['spot_v_HF_medium'] = eurusd[\"EURUSD\"] - eurusd['HF_medium']\n",
    "eurusd['spot_v_HF_long'] = eurusd[\"EURUSD\"] - eurusd['HF_long']\n",
    "eurusd['spot_v_HF_longest'] = eurusd[\"EURUSD\"] - eurusd['HF_longest'] \n",
    "\n",
    "# medium frequency factors, multiplyer allows us to scale up the lookback as needed.\n",
    "# days to weeks\n",
    "medium_multiplyer = 24\n",
    "eurusd['MF_short'] = eurusd[\"EURUSD\"].ewm(short*medium_multiplyer).mean()\n",
    "eurusd['MF_medium'] = eurusd[\"EURUSD\"].ewm(medium*medium_multiplyer).mean()\n",
    "eurusd['MF_long'] = eurusd[\"EURUSD\"].ewm(long*medium_multiplyer).mean()\n",
    "eurusd['MF_longest'] = eurusd[\"EURUSD\"].ewm(longest*medium_multiplyer).mean()\n",
    "# differences to spot\n",
    "# to measure relative momentum\n",
    "eurusd['spot_v_MF_short'] = eurusd[\"EURUSD\"] - eurusd['MF_short']\n",
    "eurusd['spot_v_MF_medium'] = eurusd[\"EURUSD\"] - eurusd['MF_medium']\n",
    "eurusd['spot_v_MF_long'] = eurusd[\"EURUSD\"] - eurusd['MF_long']\n",
    "eurusd['spot_v_MF_longest'] = eurusd[\"EURUSD\"] - eurusd['MF_longest'] \n",
    "# long term factors\n",
    "# weeks to months\n",
    "long_multiplyer = 120 # each period is now one business week, 24*5\n",
    "eurusd['LF_short'] = eurusd[\"EURUSD\"].ewm(short*long_multiplyer).mean()\n",
    "eurusd['LF_medium'] = eurusd[\"EURUSD\"].ewm(medium*long_multiplyer).mean()\n",
    "eurusd['LF_long'] = eurusd[\"EURUSD\"].ewm(long*long_multiplyer).mean()\n",
    "eurusd['LF_longest'] = eurusd[\"EURUSD\"].ewm(longest*long_multiplyer).mean()\n",
    "# differences to spot\n",
    "# to measure relative momentum\n",
    "eurusd['spot_v_LF_short'] = eurusd[\"EURUSD\"] - eurusd['LF_short']\n",
    "eurusd['spot_v_LF_medium'] = eurusd[\"EURUSD\"] - eurusd['LF_medium']\n",
    "eurusd['spot_v_LF_long'] = eurusd[\"EURUSD\"] - eurusd['LF_long']\n",
    "eurusd['spot_v_LF_longest'] = eurusd[\"EURUSD\"] - eurusd['LF_longest'] \n",
    "\n",
    "# average of both spot distance and each ema distance\n",
    "# take simple average of the divergences at each time frame\n",
    "eurusd['spot_v_HF'] = (eurusd['spot_v_HF_short'] + eurusd['spot_v_HF_medium'] + eurusd['spot_v_HF_long'] + eurusd['spot_v_HF_longest'])/4\n",
    "eurusd['spot_v_MF'] = (eurusd['spot_v_MF_short'] + eurusd['spot_v_MF_medium'] + eurusd['spot_v_MF_long'] + eurusd['spot_v_MF_longest'])/4\n",
    "eurusd['spot_v_LF'] = (eurusd['spot_v_LF_short'] + eurusd['spot_v_LF_medium'] + eurusd['spot_v_LF_long'] + eurusd['spot_v_LF_longest'])/4 \n",
    "#differences to each ema\n",
    "# This can capture the divergences between the EMAs, which allows us to grasp the speed of the move\n",
    "eurusd['HF_ema_diff'] = (eurusd['HF_short']-eurusd['HF_medium']) + (eurusd['HF_medium']-eurusd['HF_long']) + (eurusd['HF_long']-eurusd['HF_longest'])\n",
    "eurusd['MF_ema_diff'] = (eurusd['MF_short']-eurusd['MF_medium']) + (eurusd['MF_medium']-eurusd['MF_long']) + (eurusd['MF_long']-eurusd['MF_longest'])\n",
    "eurusd['LF_ema_diff'] = (eurusd['LF_short']-eurusd['LF_medium']) + (eurusd['LF_medium']-eurusd['LF_long']) + (eurusd['LF_long']-eurusd['LF_longest'])\n",
    "# Add in hourly feature times. Think this is important as there can be certain patterns that occur into and out\n",
    "# of these time frames\n",
    "# London and NY liquid hours\n",
    "eurusd['LDN'] = 0\n",
    "eurusd['NY'] = 0\n",
    "eurusd['Asia'] = 0\n",
    "# adding in timezone changes\n",
    "eurusd['LDN'].loc[(eurusd[\"timestamp\"] >= datetime.time(7,0)) & (eurusd[\"timestamp\"] <= datetime.time(12,0))] = 1\n",
    "eurusd['LDN'].loc[(eurusd[\"timestamp\"] >= datetime.time(13,0)) & (eurusd[\"timestamp\"] <= datetime.time(17,0))] = 0.5\n",
    "eurusd['NY'].loc[(eurusd[\"timestamp\"] >= datetime.time(13,0)) & (eurusd[\"timestamp\"] <= datetime.time(17,0))] = 0.5\n",
    "eurusd['NY'].loc[(eurusd[\"timestamp\"] >= datetime.time(18,0)) & (eurusd[\"timestamp\"] <= datetime.time(22,0))] = 1\n",
    "eurusd['Asia'].loc[(eurusd[\"timestamp\"] >= datetime.time(23,0))] = 1\n",
    "eurusd['Asia'].loc[(eurusd[\"timestamp\"] <= datetime.time(6,0))] = 1\n",
    "\n",
    "# Now adding the target vector\n",
    "targetlkbk = 24\n",
    "# Using a shift = 2 so that the forward return starts from exactly the next future time step.\n",
    "eurusd[\"target\"] = eurusd['logret'].iloc[::-1].shift(2).rolling(targetlkbk).sum().values[::-1]\n",
    "eurusd['target_binary'] = eurusd['target'].apply(np.sign) \n",
    "eurusd['CCY'] = eurusd['EURUSD']\n",
    "eurusd.to_csv(r\"C:\\Users\\edgil\\Documents\\Masters\\dissertation\\code64\\data_set\\ccyData.csv\"\n",
    "                           , index = False)"
   ]
  },
  {
   "cell_type": "code",
   "execution_count": 5,
   "metadata": {},
   "outputs": [
    {
     "name": "stdout",
     "output_type": "stream",
     "text": [
      "(56352, 13)\n"
     ]
    }
   ],
   "source": [
    "# train size should be at least 5 years?\n",
    "eurusd_train = eurusd.loc[eurusd['Date'] < \"2009-01-01 00:00\"].reset_index(drop = False)\n",
    "eurusd_test = eurusd.loc[eurusd['Date'] > \"2009-02-01 00:00\"].reset_index(drop = False)\n",
    "\n",
    "# Very important step is to truncate the data so that we do not see the last 1 year of data.\n",
    "# Q. should we not have a rolling window type of model? or just always aggregate the data from the start?\n",
    "# Standardise the data using sklearn\n",
    "from sklearn.preprocessing import StandardScaler\n",
    "scaler = StandardScaler()\n",
    "# standardise the data now.\n",
    "# remove dates\n",
    "# data_cols = [col for col in eurusd_train.columns if col not in [\"Date\", \"timestamp\", \"target\", \"target_binary\", \"LDN\", \"NY\", \"Asia\"]]\n",
    "# this feature set is a small sample that incorporates the features from most of the array\n",
    "# must functionise this code so that we can compute the train and from there move ahead with the test scaling.\n",
    "data_cols = [\"spot_v_HF\", \"spot_v_MF\", \"spot_v_LF\", \"HF_ema_diff\",\t\"MF_ema_diff\",\"LF_ema_diff\"]\n",
    "data_train = eurusd_train.loc[:, data_cols]\n",
    "data_test = eurusd_test.loc[:, data_cols]\n",
    "# this applies te standardisation across the while data set\n",
    "eurusd_train_normed = pd.DataFrame(scaler.fit_transform(data_train), columns = list(data_train.columns))\n",
    "# need to add, date , EURUSD also the log rets.\n",
    "eurusd_train_normed['Date'] = eurusd_train['Date']\n",
    "eurusd_train_normed['CCY'] = eurusd_train['EURUSD']\n",
    "eurusd_train_normed['logret'] = eurusd_train['logret']\n",
    "eurusd_train_normed['LDN'] = eurusd_train['LDN']\n",
    "eurusd_train_normed['NY'] = eurusd_train['NY']\n",
    "eurusd_train_normed['Asia'] = eurusd_train['Asia']\n",
    "eurusd_train_normed['target'] = eurusd_train['target_binary']\n",
    "eurusd_test_normed = pd.DataFrame(scaler.transform(data_test), columns = list(data_test.columns))\n",
    "eurusd_test_normed['Date'] = eurusd_test['Date']\n",
    "eurusd_test_normed['CCY'] = eurusd_test['EURUSD']\n",
    "eurusd_test_normed['logret'] = eurusd_test['logret']\n",
    "eurusd_test_normed['LDN'] = eurusd_test['LDN']\n",
    "eurusd_test_normed['NY'] = eurusd_test['NY']\n",
    "eurusd_test_normed['Asia'] = eurusd_test['Asia']\n",
    "eurusd_test_normed['target_raw'] = eurusd_test['target']\n",
    "eurusd_test_normed['target'] = eurusd_test['target_binary']\n",
    "#print(eurusd_train_normed.tail(50))\n",
    "print(eurusd_train_normed.shape)\n",
    "# send to a a csv so we can pick up for the LSTM\n",
    "eurusd_train_normed.to_csv(r\"C:\\Users\\edgil\\Documents\\Masters\\dissertation\\code64\\data_set\\eurusd_train_normed.csv\", index = False)\n",
    "eurusd_test_normed.to_csv(r\"C:\\Users\\edgil\\Documents\\Masters\\dissertation\\code64\\data_set\\eurusd_test_normed.csv\", index = False)"
   ]
  },
  {
   "cell_type": "code",
   "execution_count": 24,
   "metadata": {},
   "outputs": [
    {
     "name": "stdout",
     "output_type": "stream",
     "text": [
      "spot_v_HF     -0.043220\nspot_v_MF     -0.173409\nspot_v_LF     -0.037299\nHF_ema_diff   -0.054672\nMF_ema_diff   -0.187242\nLF_ema_diff    0.211935\ndtype: float64\n"
     ]
    }
   ],
   "source": [
    "def standardise_data(dataset,cols, window):\n",
    "    '''\n",
    "    This function computes the standardised returns.\n",
    "    :param dataframe:\n",
    "    :param cols:\n",
    "    :return:\n",
    "    '''\n",
    "    rolling_mean  = dataset[cols].rolling(window).mean()\n",
    "    rolling_std = dataset[cols].rolling(window).std()\n",
    "\n",
    "    train_standardised = dataset.subtract(rolling_mean)\n",
    "    train_standardised = train_standardised.divide(rolling_std)\n",
    "    # we will only return the data which is outide the initial window standardisation period\n",
    "    return train_standardised.loc[window:,:]\n",
    "\n",
    "df = standardise_data(data_train, data_cols, 30000)\n",
    "print(df.mean())"
   ]
  },
  {
   "cell_type": "code",
   "execution_count": 4,
   "metadata": {},
   "outputs": [
    {
     "data": {
      "text/plain": [
       "True"
      ]
     },
     "execution_count": 4,
     "metadata": {},
     "output_type": "execute_result"
    }
   ],
   "source": [
    "#### This is where we choose and set up the random forest model for some quick tests.\n",
    "# Decision trees\n",
    "from sklearn import tree\n",
    "from sklearn.ensemble import RandomForestClassifier\n",
    "# need to re do the models here.\n",
    "X = eurusd_train_normed[['spot_v_HF', 'spot_v_MF',\n",
    "       'spot_v_LF', 'HF_ema_diff', 'MF_ema_diff', 'LF_ema_diff', 'LDN', 'NY',\n",
    "       'Asia']]\n",
    "Y = eurusd_train[\"target_binary\"]\n",
    "X_test = eurusd_test_normed[['spot_v_HF', 'spot_v_MF',\n",
    "       'spot_v_LF', 'HF_ema_diff', 'MF_ema_diff', 'LF_ema_diff', 'LDN', 'NY',\n",
    "       'Asia']]\n",
    "Y_test = eurusd_test[\"target_binary\"]\n",
    "# clean the data and nan values\n",
    "X = X.replace(np.nan, 0)\n",
    "Y = Y.replace(np.nan, 0)\n",
    "X_test = X_test.replace(np.nan, 0)\n",
    "Y_test = Y_test.replace(np.nan, 0)\n",
    "#RF = RandomForestClassifier(n_estimators = 150, max_features = 5)\n",
    "#RF.fit(X, Y)\n",
    "clf = tree.DecisionTreeClassifier(max_leaf_nodes = 10)\n",
    "clf = clf.fit(X, Y)\n",
    "# visualise the data\n",
    "from sklearn.externals.six import StringIO  \n",
    "from IPython.display import Image  \n",
    "from sklearn.tree import export_graphviz\n",
    "import pydotplus\n",
    "\n",
    "dot_data = StringIO()\n",
    "\"\"\"export_graphviz(clf, out_file=dot_data,  \n",
    "                filled=True, rounded=True,\n",
    "                special_characters=True)\n",
    "                \"\"\"\n",
    "tree.export_graphviz(clf, out_file=dot_data, class_names=['Sell',\"Hold\",\"Buy\"], feature_names= ['spot_v_HF', 'spot_v_MF',\n",
    "       'spot_v_LF', 'HF_ema_diff', 'MF_ema_diff', 'LF_ema_diff', 'LDN', 'NY',\n",
    "       'Asia'], filled=True, rounded=True, special_characters = True) \n",
    "graph = pydotplus.graph_from_dot_data(dot_data.getvalue()) \n",
    "graph.write_pdf(\"trend.pdf\")"
   ]
  },
  {
   "cell_type": "code",
   "execution_count": 74,
   "metadata": {},
   "outputs": [
    {
     "data": {
      "text/plain": [
       "<matplotlib.axes._subplots.AxesSubplot at 0x1637fd30>"
      ]
     },
     "execution_count": 74,
     "metadata": {},
     "output_type": "execute_result"
    },
    {
     "data": {
      "image/png": "[encoded data removed]",
      "text/plain": [
       "<matplotlib.figure.Figure at 0x15e41bd0>"
      ]
     },
     "metadata": {},
     "output_type": "display_data"
    }
   ],
   "source": [
    "# creating some interesting plots\n",
    "fig , ax = plt.subplots(4,1)\n",
    "eurusd.plot(x = \"Date\", y = \"EURUSD\" , ax = ax[0], c = \"g\")\n",
    "eurusd.plot(x = \"Date\", y = \"HF_longest\" , ax = ax[0])\n",
    "eurusd.plot(x = \"Date\", y = \"MF_longest\", ax = ax[0], c = \"r\")\n",
    "eurusd.plot(x = \"Date\", y = \"LF_longest\", ax = ax[0], c = \"g\")\n",
    "# plot on the second axis.\n",
    "eurusd.plot(x = \"Date\", y = 'LDN', ax = ax[1], c = \"r\")\n",
    "eurusd.plot(x = \"Date\", y = 'NY', ax = ax[2], c = \"g\")\n",
    "eurusd.plot(x = \"Date\", y = 'Asia', ax = ax[3], c = \"b\")\n",
    "\n"
   ]
  },
  {
   "cell_type": "code",
   "execution_count": 6,
   "metadata": {},
   "outputs": [
    {
     "name": "stderr",
     "output_type": "stream",
     "text": [
      "C:\\Users\\edgil\\AppData\\Local\\Programs\\Python\\Python36\\lib\\site-packages\\pandas\\core\\indexing.py:194: SettingWithCopyWarning: \nA value is trying to be set on a copy of a slice from a DataFrame\n\nSee the caveats in the documentation: http://pandas.pydata.org/pandas-docs/stable/indexing.html#indexing-view-versus-copy\n  self._setitem_with_indexer(indexer, value)\n"
     ]
    }
   ],
   "source": [
    "#eurusd['timestamp'].loc[(eurusd[\"timestamp\"] >= datetime.time(8,0) & eurusd[\"timestamp\"] <= datetime.time(17,0) )]\n",
    "#eurusd[\"timestamp\"].loc[1] > datetime.time(8,0)\n",
    "#eurusd['LDN'] = eurusd['timestamp'].loc[(eurusd[\"timestamp\"] >= datetime.time(8,0)) & (eurusd[\"timestamp\"] <= datetime.time(12,0))] = 1\n",
    "#eurusd['LDN'] = 0\n",
    "#eurusd['NY'] = 0\n",
    "eurusd['Asia'] = 0\n",
    "# adding in timezone changes\n",
    "eurusd['LDN'] = eurusd['LDN'].loc[(eurusd[\"timestamp\"] >= datetime.time(7,0)) & (eurusd[\"timestamp\"] <= datetime.time(12,0))] = 1\n",
    "eurusd['LDN'].loc[(eurusd[\"timestamp\"] >= datetime.time(13,0)) & (eurusd[\"timestamp\"] <= datetime.time(17,0))] = 0.5\n",
    "eurusd['NY'].loc[(eurusd[\"timestamp\"] >= datetime.time(13,0)) & (eurusd[\"timestamp\"] <= datetime.time(17,0))] = 0.5\n",
    "eurusd['NY'].loc[(eurusd[\"timestamp\"] >= datetime.time(18,0)) & (eurusd[\"timestamp\"] <= datetime.time(22,0))] = 1\n",
    "eurusd['Asia'].loc[(eurusd[\"timestamp\"] >= datetime.time(23,0))] = 1\n",
    "eurusd['Asia'].loc[(eurusd[\"timestamp\"] <= datetime.time(6,0))] = 1"
   ]
  },
  {
   "cell_type": "code",
   "execution_count": 7,
   "metadata": {},
   "outputs": [
    {
     "ename": "ValueError",
     "evalue": "Classification metrics can't handle a mix of multiclass and continuous-multioutput targets",
     "traceback": [
      "\u001b[1;31m---------------------------------------------------------------------------\u001b[0m",
      "\u001b[1;31mValueError\u001b[0m                                Traceback (most recent call last)",
      "\u001b[1;32m<ipython-input-7-15672f948f8d>\u001b[0m in \u001b[0;36m<module>\u001b[1;34m\u001b[0m\n\u001b[0;32m      6\u001b[0m \u001b[1;32mfrom\u001b[0m \u001b[0msklearn\u001b[0m\u001b[1;33m.\u001b[0m\u001b[0mmetrics\u001b[0m \u001b[1;32mimport\u001b[0m \u001b[0maccuracy_score\u001b[0m\u001b[1;33m\u001b[0m\u001b[0m\n\u001b[0;32m      7\u001b[0m \u001b[1;32mfrom\u001b[0m \u001b[0msklearn\u001b[0m\u001b[1;33m.\u001b[0m\u001b[0mmetrics\u001b[0m \u001b[1;32mimport\u001b[0m \u001b[0mconfusion_matrix\u001b[0m\u001b[1;33m\u001b[0m\u001b[0m\n\u001b[1;32m----> 8\u001b[1;33m \u001b[0mprint\u001b[0m\u001b[1;33m(\u001b[0m\u001b[0maccuracy_score\u001b[0m\u001b[1;33m(\u001b[0m\u001b[0mY_test\u001b[0m\u001b[1;33m,\u001b[0m \u001b[0mY_predict\u001b[0m\u001b[1;33m)\u001b[0m\u001b[1;33m)\u001b[0m\u001b[1;33m\u001b[0m\u001b[0m\n\u001b[0m\u001b[0;32m      9\u001b[0m \u001b[1;33m\u001b[0m\u001b[0m\n\u001b[0;32m     10\u001b[0m print(pd.DataFrame(\n",
      "\u001b[1;32m~\\AppData\\Local\\Programs\\Python\\Python36\\lib\\site-packages\\sklearn\\metrics\\classification.py\u001b[0m in \u001b[0;36maccuracy_score\u001b[1;34m(y_true, y_pred, normalize, sample_weight)\u001b[0m\n\u001b[0;32m    174\u001b[0m \u001b[1;33m\u001b[0m\u001b[0m\n\u001b[0;32m    175\u001b[0m     \u001b[1;31m# Compute accuracy for each possible representation\u001b[0m\u001b[1;33m\u001b[0m\u001b[1;33m\u001b[0m\u001b[0m\n\u001b[1;32m--> 176\u001b[1;33m     \u001b[0my_type\u001b[0m\u001b[1;33m,\u001b[0m \u001b[0my_true\u001b[0m\u001b[1;33m,\u001b[0m \u001b[0my_pred\u001b[0m \u001b[1;33m=\u001b[0m \u001b[0m_check_targets\u001b[0m\u001b[1;33m(\u001b[0m\u001b[0my_true\u001b[0m\u001b[1;33m,\u001b[0m \u001b[0my_pred\u001b[0m\u001b[1;33m)\u001b[0m\u001b[1;33m\u001b[0m\u001b[0m\n\u001b[0m\u001b[0;32m    177\u001b[0m     \u001b[0mcheck_consistent_length\u001b[0m\u001b[1;33m(\u001b[0m\u001b[0my_true\u001b[0m\u001b[1;33m,\u001b[0m \u001b[0my_pred\u001b[0m\u001b[1;33m,\u001b[0m \u001b[0msample_weight\u001b[0m\u001b[1;33m)\u001b[0m\u001b[1;33m\u001b[0m\u001b[0m\n\u001b[0;32m    178\u001b[0m     \u001b[1;32mif\u001b[0m \u001b[0my_type\u001b[0m\u001b[1;33m.\u001b[0m\u001b[0mstartswith\u001b[0m\u001b[1;33m(\u001b[0m\u001b[1;34m'multilabel'\u001b[0m\u001b[1;33m)\u001b[0m\u001b[1;33m:\u001b[0m\u001b[1;33m\u001b[0m\u001b[0m\n",
      "\u001b[1;32m~\\AppData\\Local\\Programs\\Python\\Python36\\lib\\site-packages\\sklearn\\metrics\\classification.py\u001b[0m in \u001b[0;36m_check_targets\u001b[1;34m(y_true, y_pred)\u001b[0m\n\u001b[0;32m     79\u001b[0m     \u001b[1;32mif\u001b[0m \u001b[0mlen\u001b[0m\u001b[1;33m(\u001b[0m\u001b[0my_type\u001b[0m\u001b[1;33m)\u001b[0m \u001b[1;33m>\u001b[0m \u001b[1;36m1\u001b[0m\u001b[1;33m:\u001b[0m\u001b[1;33m\u001b[0m\u001b[0m\n\u001b[0;32m     80\u001b[0m         raise ValueError(\"Classification metrics can't handle a mix of {0} \"\n\u001b[1;32m---> 81\u001b[1;33m                          \"and {1} targets\".format(type_true, type_pred))\n\u001b[0m\u001b[0;32m     82\u001b[0m \u001b[1;33m\u001b[0m\u001b[0m\n\u001b[0;32m     83\u001b[0m     \u001b[1;31m# We can't have more than one value on y_type => The set is no more needed\u001b[0m\u001b[1;33m\u001b[0m\u001b[1;33m\u001b[0m\u001b[0m\n",
      "\u001b[1;31mValueError\u001b[0m: Classification metrics can't handle a mix of multiclass and continuous-multioutput targets"
     ],
     "output_type": "error"
    }
   ],
   "source": [
    "#eurusd['LDN'] = 0\n",
    "#eurusd['LDN'].loc[(eurusd[\"timestamp\"] >= datetime.time(7,0)) & (eurusd[\"timestamp\"] <= datetime.time(12,0))] = 1\n",
    "#print(eurusd[[\"Date\", \"Asia\", 'LDN', \"NY\"]].head(50))\n",
    "Y_predict = clf.predict_log_proba(X_test)\n",
    "\n",
    "from sklearn.metrics import accuracy_score\n",
    "from sklearn.metrics import confusion_matrix\n",
    "print(accuracy_score(Y_test, Y_predict))\n",
    "\n",
    "print(pd.DataFrame(\n",
    "    confusion_matrix(Y_test, Y_predict),\n",
    "    columns=['Predicted Buy', 'Predicted Hold','Predicted Sell'],\n",
    "    index=['True Buy', \"True Hold\", 'True Sell']\n",
    "))"
   ]
  },
  {
   "cell_type": "code",
   "execution_count": 8,
   "metadata": {},
   "outputs": [
    {
     "name": "stderr",
     "output_type": "stream",
     "text": [
      "C:\\Users\\edgil\\AppData\\Local\\Programs\\Python\\Python36\\lib\\site-packages\\pandas\\core\\indexing.py:194: SettingWithCopyWarning: \nA value is trying to be set on a copy of a slice from a DataFrame\n\nSee the caveats in the documentation: http://pandas.pydata.org/pandas-docs/stable/indexing.html#indexing-view-versus-copy\n  self._setitem_with_indexer(indexer, value)\n"
     ]
    }
   ],
   "source": [
    "Y_predict = clf.predict_proba(X_test)\n",
    "#plt.hist(Y_predict)\n",
    "signal_thold = 0.52\n",
    "eurusd_test['sell'] = pd.Series(Y_predict[:,0])\n",
    "eurusd_test['hold'] = pd.Series(Y_predict[:,1])\n",
    "eurusd_test['buy'] = pd.Series(Y_predict[:,2])\n",
    "eurusd_test['signal'] = 0\n",
    "eurusd_test['signal'].loc[eurusd_test['sell'] > signal_thold ] = -1\n",
    "eurusd_test['signal'].loc[eurusd_test['buy'] > signal_thold ] = 1\n",
    "eurusd_test['return'] = eurusd_test['signal']*eurusd_test['logret'].shift(2)\n",
    "eurusd_test['cumul_return'] = eurusd_test['return'].cumsum()\n"
   ]
  },
  {
   "cell_type": "code",
   "execution_count": 3,
   "metadata": {},
   "outputs": [
    {
     "name": "stderr",
     "output_type": "stream",
     "text": [
      "C:\\Users\\edgil\\Documents\\Masters\\dissertation\\code\\create_model_features.py:29: SettingWithCopyWarning: \nA value is trying to be set on a copy of a slice from a DataFrame.\nTry using .loc[row_indexer,col_indexer] = value instead\n\nSee the caveats in the documentation: http://pandas.pydata.org/pandas-docs/stable/indexing.html#indexing-view-versus-copy\n  data[\"logret\"] = np.log(data[CCY_COL]) - np.log(data[CCY_COL].shift(1))\nC:\\Users\\edgil\\Documents\\Masters\\dissertation\\code\\create_model_features.py:33: SettingWithCopyWarning: \nA value is trying to be set on a copy of a slice from a DataFrame.\nTry using .loc[row_indexer,col_indexer] = value instead\n\nSee the caveats in the documentation: http://pandas.pydata.org/pandas-docs/stable/indexing.html#indexing-view-versus-copy\n  data['HF_short'] = data[CCY_COL].ewm(short).mean()\nC:\\Users\\edgil\\Documents\\Masters\\dissertation\\code\\create_model_features.py:34: SettingWithCopyWarning: \nA value is trying to be set on a copy of a slice from a DataFrame.\nTry using .loc[row_indexer,col_indexer] = value instead\n\nSee the caveats in the documentation: http://pandas.pydata.org/pandas-docs/stable/indexing.html#indexing-view-versus-copy\n  data['HF_medium'] = data[CCY_COL].ewm(medium).mean()\nC:\\Users\\edgil\\Documents\\Masters\\dissertation\\code\\create_model_features.py:35: SettingWithCopyWarning: \nA value is trying to be set on a copy of a slice from a DataFrame.\nTry using .loc[row_indexer,col_indexer] = value instead\n\nSee the caveats in the documentation: http://pandas.pydata.org/pandas-docs/stable/indexing.html#indexing-view-versus-copy\n  data['HF_long'] = data[CCY_COL].ewm(long).mean()\n"
     ]
    },
    {
     "name": "stderr",
     "output_type": "stream",
     "text": [
      "C:\\Users\\edgil\\Documents\\Masters\\dissertation\\code\\create_model_features.py:36: SettingWithCopyWarning: \nA value is trying to be set on a copy of a slice from a DataFrame.\nTry using .loc[row_indexer,col_indexer] = value instead\n\nSee the caveats in the documentation: http://pandas.pydata.org/pandas-docs/stable/indexing.html#indexing-view-versus-copy\n  data['HF_longest'] = data[CCY_COL].ewm(longest).mean()\n"
     ]
    }
   ],
   "source": [
    "from create_model_features import *\n",
    "CCY_COL = \"EURUSD\"\n",
    "short, medium, long, longest = 21, 55, 100 ,200\n",
    "medium_multiplier  = 24 # daily\n",
    "long_multplier = 120 # weekly\n",
    "df = trends_features(df,CCY_COL, short, medium, long, longest, medium_multiplier,long_multplier)\n",
    "df.to_csv(r\"C:\\Users\\edgil\\Documents\\Masters\\dissertation\\code64\\data_set\\CcyDataLONGER.csv\")"
   ]
  },
  {
   "cell_type": "code",
   "execution_count": 6,
   "metadata": {},
   "outputs": [
    {
     "name": "stderr",
     "output_type": "stream",
     "text": [
      "C:\\Users\\edgil\\AppData\\Local\\Programs\\Python\\Python36\\lib\\site-packages\\pandas\\core\\indexing.py:194: SettingWithCopyWarning: \nA value is trying to be set on a copy of a slice from a DataFrame\n\nSee the caveats in the documentation: http://pandas.pydata.org/pandas-docs/stable/indexing.html#indexing-view-versus-copy\n  self._setitem_with_indexer(indexer, value)\n"
     ]
    },
    {
     "name": "stdout",
     "output_type": "stream",
     "text": [
      "                      Date   EURUSD timestamp    logret  HF_short  HF_medium  \\\n0      2000-01-03 00:00:00  1.01285  00:00:00       NaN  1.012850   1.012850   \n1      2000-01-03 01:00:00  1.01285  01:00:00  0.000000  1.012850   1.012850   \n2      2000-01-03 02:00:00  1.01750  02:00:00  0.004580  1.014690   1.014501   \n3      2000-01-03 03:00:00  1.01750  03:00:00  0.000000  1.015594   1.015325   \n4      2000-01-03 04:00:00  1.01675  04:00:00 -0.000737  1.015916   1.015648   \n5      2000-01-03 05:00:00  1.01675  05:00:00  0.000000  1.016125   1.015862   \n6      2000-01-03 06:00:00  1.01690  06:00:00  0.000148  1.016304   1.016041   \n7      2000-01-03 07:00:00  1.01690  07:00:00  0.000000  1.016434   1.016174   \n8      2000-01-03 08:00:00  1.01375  08:00:00 -0.003102  1.015879   1.015830   \n9      2000-01-03 09:00:00  1.01375  09:00:00  0.000000  1.015456   1.015557   \n10     2000-01-03 10:00:00  1.01165  10:00:00 -0.002074  1.014723   1.015076   \n11     2000-01-03 11:00:00  1.01165  11:00:00  0.000000  1.014146   1.014679   \n12     2000-01-03 12:00:00  1.00840  12:00:00 -0.003218  1.013090   1.013988   \n13     2000-01-03 13:00:00  1.00840  13:00:00  0.000000  1.012242   1.013401   \n14     2000-01-03 14:00:00  1.00880  14:00:00  0.000397  1.011628   1.012937   \n15     2000-01-03 15:00:00  1.00880  15:00:00  0.000000  1.011130   1.012536   \n16     2000-01-03 16:00:00  1.01575  16:00:00  0.006866  1.011936   1.012837   \n17     2000-01-03 17:00:00  1.01575  17:00:00  0.000000  1.012597   1.013102   \n18     2000-01-03 18:00:00  1.01960  18:00:00  0.003783  1.013802   1.013677   \n19     2000-01-03 19:00:00  1.01960  19:00:00  0.000000  1.014794   1.014188   \n20     2000-01-03 20:00:00  1.02825  20:00:00  0.008448  1.017087   1.015372   \n21     2000-01-03 21:00:00  1.02825  21:00:00  0.000000  1.018981   1.016433   \n22     2000-01-03 22:00:00  1.02555  22:00:00 -0.002629  1.020093   1.017170   \n23     2000-01-03 23:00:00  1.02555  23:00:00  0.000000  1.021014   1.017835   \n24     2000-01-04 00:00:00  1.02400  00:00:00 -0.001513  1.021517   1.018316   \n25     2000-01-04 01:00:00  1.02400  01:00:00  0.000000  1.021934   1.018753   \n26     2000-01-04 02:00:00  1.02495  02:00:00  0.000927  1.022441   1.019223   \n27     2000-01-04 03:00:00  1.02495  03:00:00  0.000000  1.022861   1.019651   \n28     2000-01-04 04:00:00  1.02500  04:00:00  0.000049  1.023220   1.020046   \n29     2000-01-04 05:00:00  1.02500  05:00:00  0.000000  1.023518   1.020408   \n...                    ...      ...       ...       ...       ...        ...   \n121050 2019-05-02 18:00:00  1.11780  18:00:00 -0.000626  1.119281   1.120275   \n121051 2019-05-02 19:00:00  1.11790  19:00:00  0.000089  1.119051   1.120126   \n121052 2019-05-02 20:00:00  1.11750  20:00:00 -0.000358  1.118792   1.119962   \n121053 2019-05-02 21:00:00  1.11730  21:00:00 -0.000179  1.118544   1.119796   \n121054 2019-05-02 22:00:00  1.11720  22:00:00 -0.000090  1.118320   1.119634   \n121055 2019-05-02 23:00:00  1.11720  23:00:00  0.000000  1.118133   1.119481   \n121056 2019-05-03 00:00:00  1.11750  00:00:00  0.000268  1.118028   1.119358   \n121057 2019-05-03 01:00:00  1.11730  01:00:00 -0.000179  1.117906   1.119229   \n121058 2019-05-03 02:00:00  1.11780  02:00:00  0.000447  1.117889   1.119140   \n121059 2019-05-03 03:00:00  1.11750  03:00:00 -0.000268  1.117824   1.119037   \n121060 2019-05-03 04:00:00  1.11750  04:00:00  0.000000  1.117770   1.118941   \n121061 2019-05-03 05:00:00  1.11740  05:00:00 -0.000089  1.117708   1.118845   \n121062 2019-05-03 06:00:00  1.11690  06:00:00 -0.000448  1.117574   1.118723   \n121063 2019-05-03 07:00:00  1.11720  07:00:00  0.000269  1.117511   1.118628   \n121064 2019-05-03 08:00:00  1.11620  08:00:00 -0.000895  1.117293   1.118476   \n121065 2019-05-03 09:00:00  1.11680  09:00:00  0.000537  1.117211   1.118372   \n121066 2019-05-03 10:00:00  1.11655  10:00:00 -0.000224  1.117101   1.118258   \n121067 2019-05-03 11:00:00  1.11550  11:00:00 -0.000941  1.116834   1.118085   \n121068 2019-05-03 12:00:00  1.11530  12:00:00 -0.000179  1.116578   1.117911   \n121069 2019-05-03 13:00:00  1.11530  13:00:00  0.000000  1.116365   1.117748   \n121070 2019-05-03 14:00:00  1.11600  14:00:00  0.000627  1.116304   1.117639   \n121071 2019-05-03 15:00:00  1.11670  15:00:00  0.000627  1.116370   1.117580   \n121072 2019-05-03 16:00:00  1.11870  16:00:00  0.001789  1.116759   1.117650   \n121073 2019-05-03 17:00:00  1.11880  17:00:00  0.000089  1.117099   1.117722   \n121074 2019-05-03 18:00:00  1.11960  18:00:00  0.000715  1.117516   1.117839   \n121075 2019-05-03 19:00:00  1.11930  19:00:00 -0.000268  1.117813   1.117931   \n121076 2019-05-03 20:00:00  1.11940  20:00:00  0.000089  1.118078   1.118022   \n121077 2019-05-03 21:00:00  1.12000  21:00:00  0.000536  1.118398   1.118146   \n121078 2019-05-03 22:00:00  1.12020  22:00:00  0.000179  1.118698   1.118274   \n121079 2019-05-03 23:00:00  1.12025  23:00:00  0.000045  1.118957   1.118398   \n\n         HF_long  HF_longest  spot_v_HF_short  spot_v_HF_medium  ...   \\\n0       1.012850    1.012850         0.000000          0.000000  ...    \n1       1.012850    1.012850         0.000000          0.000000  ...    \n2       1.014476    1.014415         0.002810          0.002999  ...    \n3       1.015288    1.015198         0.001906          0.002175  ...    \n4       1.015610    1.015515         0.000834          0.001102  ...    \n5       1.015824    1.015726         0.000625          0.000888  ...    \n6       1.016001    1.015899         0.000596          0.000859  ...    \n7       1.016133    1.016028         0.000466          0.000726  ...    \n8       1.015814    1.015765        -0.002129         -0.002080  ...    \n9       1.015559    1.015554        -0.001706         -0.001807  ...    \n10      1.015111    1.015181        -0.003073         -0.003426  ...    \n11      1.014739    1.014871        -0.002496         -0.003029  ...    \n12      1.014097    1.014343        -0.004690         -0.005588  ...    \n13      1.013549    1.013890        -0.003842         -0.005001  ...    \n14      1.013113    1.013527        -0.002828         -0.004137  ...    \n15      1.012734    1.013209        -0.002330         -0.003736  ...    \n16      1.012989    1.013370         0.003814          0.002913  ...    \n17      1.013214    1.013514         0.003153          0.002648  ...    \n18      1.013717    1.013864         0.005798          0.005923  ...    \n19      1.014166    1.014179         0.004806          0.005412  ...    \n20      1.015213    1.014917         0.011163          0.012878  ...    \n21      1.016156    1.015589         0.009269          0.011817  ...    \n22      1.016819    1.016071         0.005457          0.008380  ...    \n23      1.017422    1.016513         0.004536          0.007715  ...    \n24      1.017866    1.016849         0.002483          0.005684  ...    \n25      1.018273    1.017160         0.002066          0.005247  ...    \n26      1.018707    1.017487         0.002509          0.005727  ...    \n27      1.019106    1.017791         0.002089          0.005299  ...    \n28      1.019477    1.018076         0.001780          0.004954  ...    \n29      1.019819    1.018342         0.001482          0.004592  ...    \n...          ...         ...              ...               ...  ...    \n121050  1.120368    1.120350        -0.001481         -0.002475  ...    \n121051  1.120250    1.120326        -0.001151         -0.002226  ...    \n121052  1.120119    1.120298        -0.001292         -0.002462  ...    \n121053  1.119985    1.120269        -0.001244         -0.002496  ...    \n121054  1.119853    1.120238        -0.001120         -0.002434  ...    \n121055  1.119726    1.120208        -0.000933         -0.002281  ...    \n121056  1.119620    1.120181        -0.000528         -0.001858  ...    \n121057  1.119510    1.120153        -0.000606         -0.001929  ...    \n121058  1.119428    1.120129        -0.000089         -0.001340  ...    \n121059  1.119336    1.120103        -0.000324         -0.001537  ...    \n121060  1.119249    1.120078        -0.000270         -0.001441  ...    \n121061  1.119161    1.120051        -0.000308         -0.001445  ...    \n121062  1.119053    1.120020        -0.000674         -0.001823  ...    \n121063  1.118965    1.119992        -0.000311         -0.001428  ...    \n121064  1.118833    1.119954        -0.001093         -0.002276  ...    \n121065  1.118737    1.119923        -0.000411         -0.001572  ...    \n121066  1.118632    1.119890        -0.000551         -0.001708  ...    \n121067  1.118483    1.119846        -0.001334         -0.002585  ...    \n121068  1.118332    1.119801        -0.001278         -0.002611  ...    \n121069  1.118187    1.119757        -0.001065         -0.002448  ...    \n121070  1.118083    1.119720        -0.000304         -0.001639  ...    \n121071  1.118017    1.119690         0.000330         -0.000880  ...    \n121072  1.118050    1.119680         0.001941          0.001050  ...    \n121073  1.118086    1.119671         0.001701          0.001078  ...    \n121074  1.118158    1.119670         0.002084          0.001761  ...    \n121075  1.118212    1.119667         0.001487          0.001369  ...    \n121076  1.118269    1.119664         0.001322          0.001378  ...    \n121077  1.118351    1.119667         0.001602          0.001854  ...    \n121078  1.118439    1.119673         0.001502          0.001926  ...    \n121079  1.118525    1.119678         0.001293          0.001852  ...    \n\n        spot_v_LF_longest  spot_v_HF  spot_v_MF  spot_v_LF  HF_ema_diff  \\\n0                0.000000   0.000000   0.000000   0.000000     0.000000   \n1                0.000000   0.000000   0.000000   0.000000     0.000000   \n2                0.003100   0.002979   0.003095   0.003099     0.000274   \n3                0.002325   0.002149   0.002317   0.002323     0.000396   \n4                0.001260   0.001078   0.001252   0.001258     0.000402   \n5                0.001050   0.000866   0.001041   0.001048     0.000399   \n6                0.001028   0.000839   0.001019   0.001027     0.000406   \n7                0.000900   0.000708   0.000890   0.000898     0.000406   \n8               -0.002000  -0.002072  -0.002005  -0.002001     0.000114   \n9               -0.001800  -0.001782  -0.001802  -0.001800    -0.000098   \n10              -0.003545  -0.003373  -0.003541  -0.003545    -0.000459   \n11              -0.003250  -0.002959  -0.003240  -0.003248    -0.000725   \n12              -0.006000  -0.005479  -0.005981  -0.005996    -0.001253   \n13              -0.005571  -0.004870  -0.005544  -0.005566    -0.001648   \n14              -0.004826  -0.004001  -0.004793  -0.004820    -0.001898   \n15              -0.004524  -0.003602  -0.004486  -0.004517    -0.002079   \n16               0.002283   0.002967   0.002315   0.002289    -0.001434   \n17               0.002156   0.002643   0.002183   0.002161    -0.000917   \n18               0.005690   0.005835   0.005706   0.005693    -0.000062   \n19               0.005405   0.005268   0.005411   0.005406     0.000615   \n20               0.013385   0.012603   0.013368   0.013382     0.002169   \n21               0.012776   0.011460   0.012738   0.012770     0.003393   \n22               0.009638   0.008012   0.009585   0.009629     0.004022   \n23               0.009236   0.007354   0.009170   0.009224     0.004501   \n24               0.007378   0.005363   0.007303   0.007365     0.004668   \n25               0.007094   0.004970   0.007010   0.007079     0.004774   \n26               0.007746   0.005486   0.007652   0.007729     0.004953   \n27               0.007469   0.005098   0.007366   0.007451     0.005070   \n28               0.007259   0.004795   0.007148   0.007239     0.005144   \n29               0.007017   0.004478   0.006898   0.006996     0.005176   \n...                   ...        ...        ...        ...          ...   \n121050          -0.045871  -0.002269  -0.010591  -0.025043    -0.001069   \n121051          -0.045768  -0.002038  -0.010474  -0.024933    -0.001275   \n121052          -0.046164  -0.002293  -0.010856  -0.025323    -0.001506   \n121053          -0.046360  -0.002348  -0.011037  -0.025512    -0.001725   \n121054          -0.046456  -0.002311  -0.011118  -0.025602    -0.001918   \n121055          -0.046452  -0.002187  -0.011098  -0.025591    -0.002075   \n121056          -0.046148  -0.001797  -0.010781  -0.025281    -0.002154   \n121057          -0.046344  -0.001899  -0.010962  -0.025470    -0.002246   \n121058          -0.045841  -0.001347  -0.010445  -0.024960    -0.002241   \n121059          -0.046137  -0.001575  -0.010728  -0.025250    -0.002280   \n121060          -0.046133  -0.001509  -0.010710  -0.025240    -0.002308   \n121061          -0.046229  -0.001541  -0.010792  -0.025329    -0.002343   \n121062          -0.046725  -0.001942  -0.011272  -0.025818    -0.002446   \n121063          -0.046421  -0.001574  -0.010954  -0.025508    -0.002481   \n121064          -0.047417  -0.002439  -0.011932  -0.026497    -0.002662   \n121065          -0.046813  -0.001760  -0.011313  -0.025886    -0.002713   \n121066          -0.047060  -0.001920  -0.011542  -0.026125    -0.002789   \n121067          -0.048106  -0.002812  -0.012569  -0.027164    -0.003013   \n121068          -0.048301  -0.002856  -0.012744  -0.027352    -0.003223   \n121069          -0.048297  -0.002714  -0.012720  -0.027340    -0.003392   \n121070          -0.047593  -0.001936  -0.011998  -0.026629    -0.003415   \n121071          -0.046890  -0.001214  -0.011279  -0.025918    -0.003319   \n121072          -0.044886   0.000665  -0.009266  -0.023909    -0.002921   \n121073          -0.044782   0.000656  -0.009154  -0.023800    -0.002572   \n121074          -0.043978   0.001304  -0.008345  -0.022991    -0.002155   \n121075          -0.044275   0.000894  -0.008634  -0.023282    -0.001854   \n121076          -0.044171   0.000892  -0.008524  -0.023173    -0.001587   \n121077          -0.043567   0.001359  -0.007917  -0.022565    -0.001270   \n121078          -0.043364   0.001429  -0.007709  -0.022356    -0.000974   \n121079          -0.043310   0.001360  -0.007652  -0.022298    -0.000722   \n\n        MF_ema_diff   LF_ema_diff  LDN   NY  Asia  \n0          0.000000  0.000000e+00  0.0  0.0     1  \n1          0.000000  0.000000e+00  0.0  0.0     1  \n2          0.000012  2.452735e-06  0.0  0.0     1  \n3          0.000018  3.678029e-06  0.0  0.0     1  \n4          0.000020  3.937347e-06  0.0  0.0     1  \n5          0.000020  4.109741e-06  0.0  0.0     1  \n6          0.000022  4.334309e-06  0.0  0.0     1  \n7          0.000022  4.502320e-06  1.0  0.0     0  \n8          0.000012  2.413383e-06  1.0  0.0     0  \n9          0.000003  7.430698e-07  1.0  0.0     0  \n10        -0.000011 -2.136788e-06  1.0  0.0     0  \n11        -0.000023 -4.535159e-06  1.0  0.0     0  \n12        -0.000045 -8.943679e-06  1.0  0.0     0  \n13        -0.000064 -1.271982e-05  0.5  0.5     0  \n14        -0.000079 -1.569364e-05  0.5  0.5     0  \n15        -0.000092 -1.829362e-05  0.5  0.5     0  \n16        -0.000077 -1.538924e-05  0.5  0.5     0  \n17        -0.000064 -1.280859e-05  0.5  0.5     0  \n18        -0.000037 -7.601289e-06  0.0  1.0     0  \n19        -0.000013 -2.917253e-06  0.0  1.0     0  \n20         0.000042  7.870445e-06  0.0  1.0     0  \n21         0.000091  1.767145e-05  0.0  1.0     0  \n22         0.000126  2.455920e-05  0.0  1.0     0  \n23         0.000158  3.086864e-05  0.0  0.0     1  \n24         0.000181  3.548431e-05  0.0  0.0     1  \n25         0.000202  3.974161e-05  0.0  0.0     1  \n26         0.000225  4.440921e-05  0.0  0.0     1  \n27         0.000247  4.873992e-05  0.0  0.0     1  \n28         0.000267  5.280706e-05  0.0  0.0     1  \n29         0.000286  5.659977e-05  0.0  0.0     1  \n...             ...           ...  ...  ...   ...  \n121050    -0.021982 -3.665362e-02  0.0  1.0     0  \n121051    -0.021994 -3.666498e-02  0.0  1.0     0  \n121052    -0.022010 -3.667694e-02  0.0  1.0     0  \n121053    -0.022028 -3.668920e-02  0.0  1.0     0  \n121054    -0.022046 -3.670158e-02  0.0  1.0     0  \n121055    -0.022063 -3.671394e-02  0.0  0.0     1  \n121056    -0.022078 -3.672580e-02  0.0  0.0     1  \n121057    -0.022095 -3.673795e-02  0.0  0.0     1  \n121058    -0.022107 -3.674928e-02  0.0  0.0     1  \n121059    -0.022121 -3.676106e-02  0.0  0.0     1  \n121060    -0.022135 -3.677282e-02  0.0  0.0     1  \n121061    -0.022150 -3.678471e-02  0.0  0.0     1  \n121062    -0.022169 -3.679736e-02  0.0  0.0     1  \n121063    -0.022185 -3.680951e-02  1.0  0.0     0  \n121064    -0.022208 -3.682321e-02  1.0  0.0     0  \n121065    -0.022227 -3.683594e-02  1.0  0.0     0  \n121066    -0.022247 -3.684904e-02  1.0  0.0     0  \n121067    -0.022275 -3.686377e-02  1.0  0.0     0  \n121068    -0.022305 -3.687878e-02  1.0  0.0     0  \n121069    -0.022334 -3.689376e-02  0.5  0.5     0  \n121070    -0.022358 -3.690760e-02  0.5  0.5     0  \n121071    -0.022375 -3.692031e-02  0.5  0.5     0  \n121072    -0.022377 -3.692983e-02  0.5  0.5     0  \n121073    -0.022378 -3.693917e-02  0.5  0.5     0  \n121074    -0.022372 -3.694722e-02  0.0  1.0     0  \n121075    -0.022369 -3.695573e-02  0.0  1.0     0  \n121076    -0.022365 -3.696406e-02  0.0  1.0     0  \n121077    -0.022356 -3.697142e-02  0.0  1.0     0  \n121078    -0.022346 -3.697845e-02  0.0  1.0     0  \n121079    -0.022335 -3.698539e-02  0.0  0.0     1  \n\n[121080 rows x 37 columns]\n"
     ]
    }
   ],
   "source": [
    "df = add_timezones(df)\n",
    "print(df)"
   ]
  }
 ],
 "metadata": {
  "kernelspec": {
   "display_name": "Python 2",
   "language": "python",
   "name": "python2"
  },
  "language_info": {
   "codemirror_mode": {
    "name": "ipython",
    "version": 2
   },
   "file_extension": ".py",
   "mimetype": "text/x-python",
   "name": "python",
   "nbconvert_exporter": "python",
   "pygments_lexer": "ipython2",
   "version": "2.7.6"
  }
 },
 "nbformat": 4,
 "nbformat_minor": 0
}
