{
 "cells": [
  {
   "cell_type": "code",
   "execution_count": 1,
   "metadata": {
    "collapsed": true
   },
   "outputs": [],
   "source": [
    "# this file creates the features used in the trend RNN.\n",
    "# features will revolve around high frequency (intra-day) mid-freq (daily to weekly), long term ( monthly trends)\n",
    "# for the intraday factor, should we try for minutely data?\n",
    "import pandas as pd\n",
    "import numpy as np\n",
    "import datetime \n",
    "from scipy.stats import norm\n",
    "import math\n",
    "from matplotlib import pyplot as plt\n",
    "# Set up the data that we want to create a DT on.\n",
    "# import the fx data , econ and value data for EURUSD.\n",
    "# then create the features (on trend and econ data) standardise and run a DT on the x_train sample.\n",
    "# what is  target? 1 day ahead or long days ahead? trade on binary data.\n",
    "csv_file = {\"FXData\" : r\"C:\\Users\\edgil\\Documents\\Masters\\dissertation\\data\\CurrencyData.csv\",\n",
    "            \"ValueData\" : r\"\",\n",
    "            \"EconData\" : r\"\",\n",
    "            }\n",
    "fxdata = pd.read_csv(csv_file[\"FXData\"])\n",
    "fxdata['Date'] = pd.to_datetime(fxdata['Date'], format= '%d/%m/%Y %H:%M')\n",
    "# Separate out the EURUSD factor\n",
    "eurusd = fxdata[[\"Date\", \"EURUSD\"]]"
   ]
  },
  {
   "cell_type": "code",
   "execution_count": 18,
   "metadata": {},
   "outputs": [],
   "source": [
    "# Very important step is to truncate the data so that we do not see the last 1 year of data.\n",
    "# Q. should we not have a rollign window type of model? or just always aggregate the data from the start?\n",
    "# how ong is testing? we should we the train and test to sizes which make sense to the type of model we use going forward.\n",
    "eurusd = eurusd.loc[eurusd['Date'] < \"2018-01-01 00:00\"]\n",
    "# train size should be at least 5 years?\n",
    "eurusd_train = eurusd.loc[eurusd['Date'] < \"2003-01-01 00:00\"]\n",
    "eurusd_test = eurusd.loc[eurusd['Date'] > \"2010-02-01 00:00\"]\n",
    "# create a target vector to train on.\n",
    "# must think deeply about what this will look like\n",
    "# Build out the feature set on price, this may need to be created using funcional process.\n",
    "eurusd[\"logret\"] = np.log(eurusd[\"EURUSD\"]) - np.log(eurusd[\"EURUSD\"].shift(1))\n",
    "# Standardising the daily rets and accumulating the standardised returns, or should we sum the % ret and standardise by its own history\n",
    "# is difference between different accumulated retusn horizons the same as the macd?\n",
    "# should we standardise by the 1 year forward vol?\n",
    "targetlkbk = 5\n",
    "short = 5\n",
    "medium = 15\n",
    "long = 55\n",
    "longest = 100\n",
    "eurusd['HF_short'] = eurusd[\"EURUSD\"].ewm(short).mean()\n",
    "eurusd['HF_medium'] = eurusd[\"EURUSD\"].ewm(medium).mean()\n",
    "eurusd['HF_long'] = eurusd[\"EURUSD\"].ewm(long).mean()\n",
    "eurusd['HF_longest'] = eurusd[\"EURUSD\"].ewm(longest).mean()\n",
    "# differences to spot\n",
    "eurusd['spot_v_HF_short'] = eurusd[\"EURUSD\"] - eurusd['HF_short']\n",
    "eurusd['spot_v_HF_medium'] = eurusd[\"EURUSD\"] - eurusd['HF_medium']\n",
    "eurusd['spot_v_HF_long'] = eurusd[\"EURUSD\"] - eurusd['HF_long']\n",
    "eurusd['spot_v_HF_longest'] = eurusd[\"EURUSD\"] - eurusd['HF_longest'] \n",
    "\n",
    "# medium frequency factors, multiplyer allows us to scale up the lookback as needed.\n",
    "# days to weeks\n",
    "medium_multiplyer = 24\n",
    "eurusd['MF_short'] = eurusd[\"EURUSD\"].ewm(short*medium_multiplyer).mean()\n",
    "eurusd['MF_medium'] = eurusd[\"EURUSD\"].ewm(medium*medium_multiplyer).mean()\n",
    "eurusd['MF_long'] = eurusd[\"EURUSD\"].ewm(long*medium_multiplyer).mean()\n",
    "eurusd['MF_longest'] = eurusd[\"EURUSD\"].ewm(longest*medium_multiplyer).mean()\n",
    "# differences to spot\n",
    "eurusd['spot_v_MF_short'] = eurusd[\"EURUSD\"] - eurusd['MF_short']\n",
    "eurusd['spot_v_MF_medium'] = eurusd[\"EURUSD\"] - eurusd['MF_medium']\n",
    "eurusd['spot_v_MF_long'] = eurusd[\"EURUSD\"] - eurusd['MF_long']\n",
    "eurusd['spot_v_MF_longest'] = eurusd[\"EURUSD\"] - eurusd['MF_longest'] \n",
    "# long term factors\n",
    "# weeks to months\n",
    "long_multiplyer = 120 # each period is now one business week, 24*5\n",
    "eurusd['LF_short'] = eurusd[\"EURUSD\"].ewm(short*medium_multiplyer).mean()\n",
    "eurusd['LF_medium'] = eurusd[\"EURUSD\"].ewm(medium*medium_multiplyer).mean()\n",
    "eurusd['LF_long'] = eurusd[\"EURUSD\"].ewm(long*medium_multiplyer).mean()\n",
    "eurusd['LF_longest'] = eurusd[\"EURUSD\"].ewm(longest*medium_multiplyer).mean()\n",
    "# differences to spot\n",
    "eurusd['spot_v_LF_short'] = eurusd[\"EURUSD\"] - eurusd['LF_short']\n",
    "eurusd['spot_v_LF_medium'] = eurusd[\"EURUSD\"] - eurusd['LF_medium']\n",
    "eurusd['spot_v_LF_long'] = eurusd[\"EURUSD\"] - eurusd['LF_long']\n",
    "eurusd['spot_v_LF_longest'] = eurusd[\"EURUSD\"] - eurusd['LF_longest'] \n",
    "\n",
    "# average of both spot distance and each ema distance\n",
    "# take simple average of the divergences\n",
    "eurusd['spot_v_HF'] = (eurusd['spot_v_HF_short'] + eurusd['spot_v_HF_medium'] + eurusd['spot_v_HF_long'] + eurusd['spot_v_HF_longest'])/4\n",
    "eurusd['spot_v_MF'] = (eurusd['spot_v_MF_short'] + eurusd['spot_v_MF_medium'] + eurusd['spot_v_MF_long'] + eurusd['spot_v_MF_longest'])/4\n",
    "eurusd['spot_v_LF'] = (eurusd['spot_v_LF_short'] + eurusd['spot_v_LF_medium'] + eurusd['spot_v_LF_long'] + eurusd['spot_v_LF_longest'])/4 \n",
    "#differences to each ema\n",
    "eurusd['HF_ema_short_diff'] = eurusd['HF_short']  - eurusd['HF_medium'] - eurusd['HF_long'] - eurusd['HF_long'] - eurusd['HF_longest']\n",
    "eurusd['MF_ema_short_diff'] = eurusd['MF_short'] - eurusd['MF_medium'] - eurusd['MF_long'] - eurusd['MF_long'] - eurusd['MF_longest']\n",
    "eurusd['LF_ema_short_diff'] = eurusd['LF_short'] - eurusd['LF_medium'] - eurusd['LF_long'] - eurusd['LF_long'] - eurusd['LF_longest']\n"
   ]
  },
  {
   "cell_type": "code",
   "execution_count": 21,
   "metadata": {},
   "outputs": [
    {
     "name": "stdout",
     "output_type": "stream",
     "text": [
      "              EURUSD         logret       HF_short      HF_medium  \\\ncount  112680.000000  112679.000000  112680.000000  112680.000000   \nmean        1.216049       0.000002       1.216041       1.216025   \nstd         0.173805       0.001292       0.173791       0.173766   \nmin         0.824150      -0.022859       0.825967       0.826673   \n25%         1.102550      -0.000451       1.102554       1.102666   \n50%         1.249500       0.000000       1.249549       1.250031   \n75%         1.341450       0.000459       1.341490       1.341078   \nmax         1.601750       0.022458       1.598156       1.595781   \n\n             HF_long     HF_longest  spot_v_HF_short  spot_v_HF_medium  \\\ncount  112680.000000  112680.000000    112680.000000     112680.000000   \nmean        1.215966       1.215901         0.000008          0.000024   \nstd         0.173664       0.173547         0.002361          0.004213   \nmin         0.832665       0.838575        -0.026121         -0.032880   \n25%         1.102877       1.103315        -0.001067         -0.002177   \n50%         1.249798       1.250288         0.000019          0.000061   \n75%         1.340842       1.341300         0.001085          0.002292   \nmax         1.590754       1.587358         0.028923          0.040764   \n\n       spot_v_HF_long  spot_v_HF_longest        ...          spot_v_LF_short  \\\ncount   112680.000000      112680.000000        ...            112680.000000   \nmean         0.000083           0.000148        ...                 0.000176   \nstd          0.008126           0.011001        ...                 0.012075   \nmin         -0.052150          -0.068975        ...                -0.076037   \n25%         -0.004596          -0.006420        ...                -0.007129   \n50%          0.000223           0.000364        ...                 0.000434   \n75%          0.005054           0.007111        ...                 0.007844   \nmax          0.077073           0.105927        ...                 0.114639   \n\n       spot_v_LF_medium  spot_v_LF_long  spot_v_LF_longest      spot_v_HF  \\\ncount     112680.000000   112680.000000      112680.000000  112680.000000   \nmean           0.000536        0.002120           0.003863       0.000066   \nstd            0.021231        0.041113           0.054138       0.005936   \nmin           -0.130996       -0.218249          -0.235126      -0.041488   \n25%           -0.012143       -0.019565          -0.028521      -0.003341   \n50%            0.001123        0.005616           0.007866       0.000147   \n75%            0.014194        0.028684           0.040692       0.003653   \nmax            0.150613        0.120019           0.151965       0.057850   \n\n           spot_v_MF      spot_v_LF  HF_ema_short_diff  MF_ema_short_diff  \\\ncount  112680.000000  112680.000000      112680.000000      112680.000000   \nmean        0.001674       0.001674          -3.647817          -3.639684   \nstd         0.029614       0.029614           0.520894           0.510427   \nmin        -0.164963      -0.164963          -4.770671          -4.638633   \n25%        -0.014702      -0.014702          -4.022617          -4.018137   \n50%         0.004024       0.004024          -3.750041          -3.770550   \n75%         0.021039       0.021039          -3.310307          -3.321579   \nmax         0.101229       0.101229          -2.500826          -2.625198   \n\n       LF_ema_short_diff  \ncount      112680.000000  \nmean           -3.639684  \nstd             0.510427  \nmin            -4.638633  \n25%            -4.018137  \n50%            -3.770550  \n75%            -3.321579  \nmax            -2.625198  \n\n[8 rows x 32 columns]\n"
     ]
    }
   ],
   "source": [
    "# features for high frequency periods.\n",
    "print(eurusd.describe())"
   ]
  }
 ],
 "metadata": {
  "kernelspec": {
   "display_name": "Python 2",
   "language": "python",
   "name": "python2"
  },
  "language_info": {
   "codemirror_mode": {
    "name": "ipython",
    "version": 2
   },
   "file_extension": ".py",
   "mimetype": "text/x-python",
   "name": "python",
   "nbconvert_exporter": "python",
   "pygments_lexer": "ipython2",
   "version": "2.7.6"
  }
 },
 "nbformat": 4,
 "nbformat_minor": 0
}
