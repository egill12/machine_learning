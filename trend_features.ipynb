{
 "cells": [
  {
   "cell_type": "code",
   "execution_count": 1,
   "metadata": {
    "collapsed": false
   },
   "outputs": [
    {
     "name": "stderr",
     "output_type": "stream",
     "text": [
      "C:\\Users\\edgil\\AppData\\Local\\Programs\\Python\\Python36\\lib\\site-packages\\ipykernel_launcher.py:28: SettingWithCopyWarning: \nA value is trying to be set on a copy of a slice from a DataFrame.\nTry using .loc[row_indexer,col_indexer] = value instead\n\nSee the caveats in the documentation: http://pandas.pydata.org/pandas-docs/stable/indexing.html#indexing-view-versus-copy\n"
     ]
    }
   ],
   "source": [
    "# this file creates the features used in the trend RNN.\n",
    "# features will revolve around high frequency (intra-day) mid-freq (daily to weekly), long term ( monthly trends)\n",
    "# for the intraday factor, should we try for minutely data?\n",
    "import pandas as pd\n",
    "import jupyter\n",
    "import numpy as np\n",
    "import datetime \n",
    "from scipy.stats import norm\n",
    "import math\n",
    "from matplotlib import pyplot as plt\n",
    "# Set up the data that we want to create a DT on.\n",
    "# import the fx data , econ and value data for EURUSD.\n",
    "# then create the features (on trend and econ data) standardise and run a DT on the x_train sample.\n",
    "# what is  target? 1 day ahead or long days ahead? trade on binary data.\n",
    "csv_file = {\"FXData\" : r\"C:\\Users\\edgil\\Documents\\Masters\\dissertation\\data\\CurrencyData.csv\",\n",
    "            \"ValueData\" : r\"\",\n",
    "            \"EconData\" : r\"\",\n",
    "            }\n",
    "fxdata = pd.read_csv(csv_file[\"FXData\"])\n",
    "fxdata['Date'] = pd.to_datetime(fxdata['Date'], format= '%d/%m/%Y %H:%M')\n",
    "# Separate out the EURUSD factor\n",
    "eurusd = fxdata[[\"Date\", \"EURUSD\"]]\n",
    "def get_time(row):\n",
    "    '''\n",
    "    Get the time stamp of the day \n",
    "    '''\n",
    "    return row.time()\n",
    "eurusd['timestamp'] = eurusd['Date'].apply(get_time)\n"
   ]
  },
  {
   "cell_type": "code",
   "execution_count": 2,
   "metadata": {},
   "outputs": [
    {
     "name": "stderr",
     "output_type": "stream",
     "text": [
      "C:\\Users\\edgil\\AppData\\Local\\Programs\\Python\\Python36\\lib\\site-packages\\pandas\\core\\indexing.py:194: SettingWithCopyWarning: \nA value is trying to be set on a copy of a slice from a DataFrame\n\nSee the caveats in the documentation: http://pandas.pydata.org/pandas-docs/stable/indexing.html#indexing-view-versus-copy\n  self._setitem_with_indexer(indexer, value)\n"
     ]
    }
   ],
   "source": [
    "# Very important step is to truncate the data so that we do not see the last 1 year of data.\n",
    "# Q. should we not have a rolling window type of model? or just always aggregate the data from the start?\n",
    "# how long is testing? we should we the train and test to sizes which make sense to the type of model we use going forward.\n",
    "eurusd = eurusd.loc[eurusd['Date'] < \"2018-01-01 00:00\"]\n",
    "# create a target vector to train on.\n",
    "# What is the target? binary return? sharpe ratio? This can then help us to position size the trade,\n",
    "# Build out the feature set on price, this may need to be created using functional process.\n",
    "eurusd[\"logret\"] = np.log(eurusd[\"EURUSD\"]) - np.log(eurusd[\"EURUSD\"].shift(1))\n",
    "# Standardising the daily rets and accumulating the standardised returns, or should we sum the % ret and standardise by its own history\n",
    "# is difference between different accumulated retusn horizons the same as the macd?\n",
    "# should we standardise by the 1 year forward vol?\n",
    "# TODO# Functionise the feature code for easy iteration.\n",
    "short = 5\n",
    "medium = 15\n",
    "long = 55\n",
    "longest = 100\n",
    "# TODO: Should this be an EMA or simple average? Using EWMA now as we \n",
    "# overweight recent history\n",
    "eurusd['HF_short'] = eurusd[\"EURUSD\"].ewm(short).mean()\n",
    "eurusd['HF_medium'] = eurusd[\"EURUSD\"].ewm(medium).mean()\n",
    "eurusd['HF_long'] = eurusd[\"EURUSD\"].ewm(long).mean()\n",
    "eurusd['HF_longest'] = eurusd[\"EURUSD\"].ewm(longest).mean()\n",
    "# differences to spot\n",
    "eurusd['spot_v_HF_short'] = eurusd[\"EURUSD\"] - eurusd['HF_short']\n",
    "eurusd['spot_v_HF_medium'] = eurusd[\"EURUSD\"] - eurusd['HF_medium']\n",
    "eurusd['spot_v_HF_long'] = eurusd[\"EURUSD\"] - eurusd['HF_long']\n",
    "eurusd['spot_v_HF_longest'] = eurusd[\"EURUSD\"] - eurusd['HF_longest'] \n",
    "\n",
    "# medium frequency factors, multiplyer allows us to scale up the lookback as needed.\n",
    "# days to weeks\n",
    "medium_multiplyer = 24\n",
    "eurusd['MF_short'] = eurusd[\"EURUSD\"].ewm(short*medium_multiplyer).mean()\n",
    "eurusd['MF_medium'] = eurusd[\"EURUSD\"].ewm(medium*medium_multiplyer).mean()\n",
    "eurusd['MF_long'] = eurusd[\"EURUSD\"].ewm(long*medium_multiplyer).mean()\n",
    "eurusd['MF_longest'] = eurusd[\"EURUSD\"].ewm(longest*medium_multiplyer).mean()\n",
    "# differences to spot\n",
    "# to measure relative momentum\n",
    "eurusd['spot_v_MF_short'] = eurusd[\"EURUSD\"] - eurusd['MF_short']\n",
    "eurusd['spot_v_MF_medium'] = eurusd[\"EURUSD\"] - eurusd['MF_medium']\n",
    "eurusd['spot_v_MF_long'] = eurusd[\"EURUSD\"] - eurusd['MF_long']\n",
    "eurusd['spot_v_MF_longest'] = eurusd[\"EURUSD\"] - eurusd['MF_longest'] \n",
    "# long term factors\n",
    "# weeks to months\n",
    "long_multiplyer = 120 # each period is now one business week, 24*5\n",
    "eurusd['LF_short'] = eurusd[\"EURUSD\"].ewm(short*long_multiplyer).mean()\n",
    "eurusd['LF_medium'] = eurusd[\"EURUSD\"].ewm(medium*long_multiplyer).mean()\n",
    "eurusd['LF_long'] = eurusd[\"EURUSD\"].ewm(long*long_multiplyer).mean()\n",
    "eurusd['LF_longest'] = eurusd[\"EURUSD\"].ewm(longest*long_multiplyer).mean()\n",
    "# differences to spot\n",
    "# to measure relative momentum\n",
    "eurusd['spot_v_LF_short'] = eurusd[\"EURUSD\"] - eurusd['LF_short']\n",
    "eurusd['spot_v_LF_medium'] = eurusd[\"EURUSD\"] - eurusd['LF_medium']\n",
    "eurusd['spot_v_LF_long'] = eurusd[\"EURUSD\"] - eurusd['LF_long']\n",
    "eurusd['spot_v_LF_longest'] = eurusd[\"EURUSD\"] - eurusd['LF_longest'] \n",
    "\n",
    "# average of both spot distance and each ema distance\n",
    "# take simple average of the divergences at each time frame\n",
    "eurusd['spot_v_HF'] = (eurusd['spot_v_HF_short'] + eurusd['spot_v_HF_medium'] + eurusd['spot_v_HF_long'] + eurusd['spot_v_HF_longest'])/4\n",
    "eurusd['spot_v_MF'] = (eurusd['spot_v_MF_short'] + eurusd['spot_v_MF_medium'] + eurusd['spot_v_MF_long'] + eurusd['spot_v_MF_longest'])/4\n",
    "eurusd['spot_v_LF'] = (eurusd['spot_v_LF_short'] + eurusd['spot_v_LF_medium'] + eurusd['spot_v_LF_long'] + eurusd['spot_v_LF_longest'])/4 \n",
    "#differences to each ema\n",
    "# This can capture the divergences between the EMAs, which allows us to grasp the speed of the move\n",
    "eurusd['HF_ema_diff'] = (eurusd['HF_short']-eurusd['HF_medium']) + (eurusd['HF_medium']-eurusd['HF_long']) + (eurusd['HF_long']-eurusd['HF_longest'])\n",
    "eurusd['MF_ema_diff'] = (eurusd['MF_short']-eurusd['MF_medium']) + (eurusd['MF_medium']-eurusd['MF_long']) + (eurusd['MF_long']-eurusd['MF_longest'])\n",
    "eurusd['LF_ema_diff'] = (eurusd['LF_short']-eurusd['LF_medium']) + (eurusd['LF_medium']-eurusd['LF_long']) + (eurusd['LF_long']-eurusd['LF_longest'])\n",
    "# Add in hourly feature times. Think this is important as there can be certain patterns that occur into and out\n",
    "# of these time frames\n",
    "# London and NY liquid hours\n",
    "eurusd['LDN'] = 0\n",
    "eurusd['NY'] = 0\n",
    "eurusd['Asia'] = 0\n",
    "# adding in timezone changes\n",
    "eurusd['LDN'].loc[(eurusd[\"timestamp\"] >= datetime.time(7,0)) & (eurusd[\"timestamp\"] <= datetime.time(12,0))] = 1\n",
    "eurusd['LDN'].loc[(eurusd[\"timestamp\"] >= datetime.time(13,0)) & (eurusd[\"timestamp\"] <= datetime.time(17,0))] = 0.5\n",
    "eurusd['NY'].loc[(eurusd[\"timestamp\"] >= datetime.time(13,0)) & (eurusd[\"timestamp\"] <= datetime.time(17,0))] = 0.5\n",
    "eurusd['NY'].loc[(eurusd[\"timestamp\"] >= datetime.time(18,0)) & (eurusd[\"timestamp\"] <= datetime.time(22,0))] = 1\n",
    "eurusd['Asia'].loc[(eurusd[\"timestamp\"] >= datetime.time(23,0))] = 1\n",
    "eurusd['Asia'].loc[(eurusd[\"timestamp\"] <= datetime.time(6,0))] = 1\n",
    "\n",
    "# Now adding the target vector\n",
    "targetlkbk = 24\n",
    "# Using a shift = 2 so that the forward return starts from exactly the next future time step.\n",
    "eurusd[\"target\"] = eurusd['logret'].iloc[::-1].shift(2).rolling(targetlkbk).sum().values[::-1]\n",
    "eurusd['target_binary'] = eurusd['target'].apply(np.sign) \n"
   ]
  },
  {
   "cell_type": "code",
   "execution_count": 3,
   "metadata": {},
   "outputs": [
    {
     "name": "stdout",
     "output_type": "stream",
     "text": [
      "(56352, 13)\n"
     ]
    }
   ],
   "source": [
    "# train size should be at least 5 years?\n",
    "eurusd_train = eurusd.loc[eurusd['Date'] < \"2009-01-01 00:00\"].reset_index(drop = False)\n",
    "eurusd_test = eurusd.loc[eurusd['Date'] > \"2009-02-01 00:00\"].reset_index(drop = False)\n",
    "\n",
    "# Very important step is to truncate the data so that we do not see the last 1 year of data.\n",
    "# Q. should we not have a rolling window type of model? or just always aggregate the data from the start?\n",
    "# Standardise the data using sklearn\n",
    "from sklearn.preprocessing import StandardScaler\n",
    "scaler = StandardScaler()\n",
    "# standardise the data now.\n",
    "# remove dates\n",
    "# data_cols = [col for col in eurusd_train.columns if col not in [\"Date\", \"timestamp\", \"target\", \"target_binary\", \"LDN\", \"NY\", \"Asia\"]]\n",
    "# this feature set is a small sample that incorporates the features from most of the array\n",
    "# must functionise this code so that we can compute the train and from there move ahead with the test scaling.\n",
    "data_cols = [\"spot_v_HF\", \"spot_v_MF\", \"spot_v_LF\", \"HF_ema_diff\",\t\"MF_ema_diff\",\"LF_ema_diff\"]\n",
    "data_train = eurusd_train.loc[:, data_cols]\n",
    "data_test = eurusd_test.loc[:, data_cols]\n",
    "# this applies te standardisation across the while data set\n",
    "eurusd_train_normed = pd.DataFrame(scaler.fit_transform(data_train), columns = list(data_train.columns))\n",
    "# need to add, date , EURUSD also the log rets.\n",
    "eurusd_train_normed['Date'] = eurusd_train['Date']\n",
    "eurusd_train_normed['CCY'] = eurusd_train['EURUSD']\n",
    "eurusd_train_normed['logret'] = eurusd_train['logret']\n",
    "eurusd_train_normed['LDN'] = eurusd_train['LDN']\n",
    "eurusd_train_normed['NY'] = eurusd_train['NY']\n",
    "eurusd_train_normed['Asia'] = eurusd_train['Asia']\n",
    "eurusd_train_normed['target'] = eurusd_train['target_binary']\n",
    "eurusd_test_normed = pd.DataFrame(scaler.transform(data_test), columns = list(data_test.columns))\n",
    "eurusd_test_normed['Date'] = eurusd_test['Date']\n",
    "eurusd_test_normed['CCY'] = eurusd_test['EURUSD']\n",
    "eurusd_test_normed['logret'] = eurusd_test['logret']\n",
    "eurusd_test_normed['LDN'] = eurusd_test['LDN']\n",
    "eurusd_test_normed['NY'] = eurusd_test['NY']\n",
    "eurusd_test_normed['Asia'] = eurusd_test['Asia']\n",
    "eurusd_test_normed['target_raw'] = eurusd_test['target']\n",
    "eurusd_test_normed['target'] = eurusd_test['target_binary']\n",
    "#print(eurusd_train_normed.tail(50))\n",
    "print(eurusd_train_normed.shape)\n",
    "# send to a a csv so we can pick up for the LSTM\n",
    "eurusd_train_normed.to_csv(r\"C:\\Users\\edgil\\Documents\\Masters\\dissertation\\code64\\data_set\\eurusd_train_normed.csv\", index = False)\n",
    "eurusd_test_normed.to_csv(r\"C:\\Users\\edgil\\Documents\\Masters\\dissertation\\code64\\data_set\\eurusd_test_normed.csv\", index = False)"
   ]
  },
  {
   "cell_type": "code",
   "execution_count": 12,
   "metadata": {},
   "outputs": [],
   "source": [
    ""
   ]
  },
  {
   "cell_type": "code",
   "execution_count": 4,
   "metadata": {},
   "outputs": [
    {
     "data": {
      "text/plain": [
       "True"
      ]
     },
     "execution_count": 4,
     "metadata": {},
     "output_type": "execute_result"
    }
   ],
   "source": [
    "#### This is where we choose and set up the random forest model for some quick tests.\n",
    "# Decision trees\n",
    "from sklearn import tree\n",
    "from sklearn.ensemble import RandomForestClassifier\n",
    "# need to re do the models here.\n",
    "X = eurusd_train_normed[['spot_v_HF', 'spot_v_MF',\n",
    "       'spot_v_LF', 'HF_ema_diff', 'MF_ema_diff', 'LF_ema_diff', 'LDN', 'NY',\n",
    "       'Asia']]\n",
    "Y = eurusd_train[\"target_binary\"]\n",
    "X_test = eurusd_test_normed[['spot_v_HF', 'spot_v_MF',\n",
    "       'spot_v_LF', 'HF_ema_diff', 'MF_ema_diff', 'LF_ema_diff', 'LDN', 'NY',\n",
    "       'Asia']]\n",
    "Y_test = eurusd_test[\"target_binary\"]\n",
    "# clean the data and nan values\n",
    "X = X.replace(np.nan, 0)\n",
    "Y = Y.replace(np.nan, 0)\n",
    "X_test = X_test.replace(np.nan, 0)\n",
    "Y_test = Y_test.replace(np.nan, 0)\n",
    "#RF = RandomForestClassifier(n_estimators = 150, max_features = 5)\n",
    "#RF.fit(X, Y)\n",
    "clf = tree.DecisionTreeClassifier(max_leaf_nodes = 10)\n",
    "clf = clf.fit(X, Y)\n",
    "# visualise the data\n",
    "from sklearn.externals.six import StringIO  \n",
    "from IPython.display import Image  \n",
    "from sklearn.tree import export_graphviz\n",
    "import pydotplus\n",
    "\n",
    "dot_data = StringIO()\n",
    "\"\"\"export_graphviz(clf, out_file=dot_data,  \n",
    "                filled=True, rounded=True,\n",
    "                special_characters=True)\n",
    "                \"\"\"\n",
    "tree.export_graphviz(clf, out_file=dot_data, class_names=['Sell',\"Hold\",\"Buy\"], feature_names= ['spot_v_HF', 'spot_v_MF',\n",
    "       'spot_v_LF', 'HF_ema_diff', 'MF_ema_diff', 'LF_ema_diff', 'LDN', 'NY',\n",
    "       'Asia'], filled=True, rounded=True, special_characters = True) \n",
    "graph = pydotplus.graph_from_dot_data(dot_data.getvalue()) \n",
    "graph.write_pdf(\"trend.pdf\")"
   ]
  },
  {
   "cell_type": "code",
   "execution_count": 74,
   "metadata": {},
   "outputs": [
    {
     "data": {
      "text/plain": [
       "<matplotlib.axes._subplots.AxesSubplot at 0x1637fd30>"
      ]
     },
     "execution_count": 74,
     "metadata": {},
     "output_type": "execute_result"
    },
    {
     "data": {
      "image/png": "[encoded data removed]",
      "text/plain": [
       "<matplotlib.figure.Figure at 0x15e41bd0>"
      ]
     },
     "metadata": {},
     "output_type": "display_data"
    }
   ],
   "source": [
    "# creating some interesting plots\n",
    "fig , ax = plt.subplots(4,1)\n",
    "eurusd.plot(x = \"Date\", y = \"EURUSD\" , ax = ax[0], c = \"g\")\n",
    "eurusd.plot(x = \"Date\", y = \"HF_longest\" , ax = ax[0])\n",
    "eurusd.plot(x = \"Date\", y = \"MF_longest\", ax = ax[0], c = \"r\")\n",
    "eurusd.plot(x = \"Date\", y = \"LF_longest\", ax = ax[0], c = \"g\")\n",
    "# plot on the second axis.\n",
    "eurusd.plot(x = \"Date\", y = 'LDN', ax = ax[1], c = \"r\")\n",
    "eurusd.plot(x = \"Date\", y = 'NY', ax = ax[2], c = \"g\")\n",
    "eurusd.plot(x = \"Date\", y = 'Asia', ax = ax[3], c = \"b\")\n",
    "\n"
   ]
  },
  {
   "cell_type": "code",
   "execution_count": 6,
   "metadata": {},
   "outputs": [
    {
     "name": "stderr",
     "output_type": "stream",
     "text": [
      "C:\\Users\\edgil\\AppData\\Local\\Programs\\Python\\Python36\\lib\\site-packages\\pandas\\core\\indexing.py:194: SettingWithCopyWarning: \nA value is trying to be set on a copy of a slice from a DataFrame\n\nSee the caveats in the documentation: http://pandas.pydata.org/pandas-docs/stable/indexing.html#indexing-view-versus-copy\n  self._setitem_with_indexer(indexer, value)\n"
     ]
    }
   ],
   "source": [
    "#eurusd['timestamp'].loc[(eurusd[\"timestamp\"] >= datetime.time(8,0) & eurusd[\"timestamp\"] <= datetime.time(17,0) )]\n",
    "#eurusd[\"timestamp\"].loc[1] > datetime.time(8,0)\n",
    "#eurusd['LDN'] = eurusd['timestamp'].loc[(eurusd[\"timestamp\"] >= datetime.time(8,0)) & (eurusd[\"timestamp\"] <= datetime.time(12,0))] = 1\n",
    "#eurusd['LDN'] = 0\n",
    "#eurusd['NY'] = 0\n",
    "eurusd['Asia'] = 0\n",
    "# adding in timezone changes\n",
    "eurusd['LDN'] = eurusd['LDN'].loc[(eurusd[\"timestamp\"] >= datetime.time(7,0)) & (eurusd[\"timestamp\"] <= datetime.time(12,0))] = 1\n",
    "eurusd['LDN'].loc[(eurusd[\"timestamp\"] >= datetime.time(13,0)) & (eurusd[\"timestamp\"] <= datetime.time(17,0))] = 0.5\n",
    "eurusd['NY'].loc[(eurusd[\"timestamp\"] >= datetime.time(13,0)) & (eurusd[\"timestamp\"] <= datetime.time(17,0))] = 0.5\n",
    "eurusd['NY'].loc[(eurusd[\"timestamp\"] >= datetime.time(18,0)) & (eurusd[\"timestamp\"] <= datetime.time(22,0))] = 1\n",
    "eurusd['Asia'].loc[(eurusd[\"timestamp\"] >= datetime.time(23,0))] = 1\n",
    "eurusd['Asia'].loc[(eurusd[\"timestamp\"] <= datetime.time(6,0))] = 1"
   ]
  },
  {
   "cell_type": "code",
   "execution_count": 7,
   "metadata": {},
   "outputs": [
    {
     "ename": "ValueError",
     "evalue": "Classification metrics can't handle a mix of multiclass and continuous-multioutput targets",
     "traceback": [
      "\u001b[1;31m---------------------------------------------------------------------------\u001b[0m",
      "\u001b[1;31mValueError\u001b[0m                                Traceback (most recent call last)",
      "\u001b[1;32m<ipython-input-7-15672f948f8d>\u001b[0m in \u001b[0;36m<module>\u001b[1;34m\u001b[0m\n\u001b[0;32m      6\u001b[0m \u001b[1;32mfrom\u001b[0m \u001b[0msklearn\u001b[0m\u001b[1;33m.\u001b[0m\u001b[0mmetrics\u001b[0m \u001b[1;32mimport\u001b[0m \u001b[0maccuracy_score\u001b[0m\u001b[1;33m\u001b[0m\u001b[0m\n\u001b[0;32m      7\u001b[0m \u001b[1;32mfrom\u001b[0m \u001b[0msklearn\u001b[0m\u001b[1;33m.\u001b[0m\u001b[0mmetrics\u001b[0m \u001b[1;32mimport\u001b[0m \u001b[0mconfusion_matrix\u001b[0m\u001b[1;33m\u001b[0m\u001b[0m\n\u001b[1;32m----> 8\u001b[1;33m \u001b[0mprint\u001b[0m\u001b[1;33m(\u001b[0m\u001b[0maccuracy_score\u001b[0m\u001b[1;33m(\u001b[0m\u001b[0mY_test\u001b[0m\u001b[1;33m,\u001b[0m \u001b[0mY_predict\u001b[0m\u001b[1;33m)\u001b[0m\u001b[1;33m)\u001b[0m\u001b[1;33m\u001b[0m\u001b[0m\n\u001b[0m\u001b[0;32m      9\u001b[0m \u001b[1;33m\u001b[0m\u001b[0m\n\u001b[0;32m     10\u001b[0m print(pd.DataFrame(\n",
      "\u001b[1;32m~\\AppData\\Local\\Programs\\Python\\Python36\\lib\\site-packages\\sklearn\\metrics\\classification.py\u001b[0m in \u001b[0;36maccuracy_score\u001b[1;34m(y_true, y_pred, normalize, sample_weight)\u001b[0m\n\u001b[0;32m    174\u001b[0m \u001b[1;33m\u001b[0m\u001b[0m\n\u001b[0;32m    175\u001b[0m     \u001b[1;31m# Compute accuracy for each possible representation\u001b[0m\u001b[1;33m\u001b[0m\u001b[1;33m\u001b[0m\u001b[0m\n\u001b[1;32m--> 176\u001b[1;33m     \u001b[0my_type\u001b[0m\u001b[1;33m,\u001b[0m \u001b[0my_true\u001b[0m\u001b[1;33m,\u001b[0m \u001b[0my_pred\u001b[0m \u001b[1;33m=\u001b[0m \u001b[0m_check_targets\u001b[0m\u001b[1;33m(\u001b[0m\u001b[0my_true\u001b[0m\u001b[1;33m,\u001b[0m \u001b[0my_pred\u001b[0m\u001b[1;33m)\u001b[0m\u001b[1;33m\u001b[0m\u001b[0m\n\u001b[0m\u001b[0;32m    177\u001b[0m     \u001b[0mcheck_consistent_length\u001b[0m\u001b[1;33m(\u001b[0m\u001b[0my_true\u001b[0m\u001b[1;33m,\u001b[0m \u001b[0my_pred\u001b[0m\u001b[1;33m,\u001b[0m \u001b[0msample_weight\u001b[0m\u001b[1;33m)\u001b[0m\u001b[1;33m\u001b[0m\u001b[0m\n\u001b[0;32m    178\u001b[0m     \u001b[1;32mif\u001b[0m \u001b[0my_type\u001b[0m\u001b[1;33m.\u001b[0m\u001b[0mstartswith\u001b[0m\u001b[1;33m(\u001b[0m\u001b[1;34m'multilabel'\u001b[0m\u001b[1;33m)\u001b[0m\u001b[1;33m:\u001b[0m\u001b[1;33m\u001b[0m\u001b[0m\n",
      "\u001b[1;32m~\\AppData\\Local\\Programs\\Python\\Python36\\lib\\site-packages\\sklearn\\metrics\\classification.py\u001b[0m in \u001b[0;36m_check_targets\u001b[1;34m(y_true, y_pred)\u001b[0m\n\u001b[0;32m     79\u001b[0m     \u001b[1;32mif\u001b[0m \u001b[0mlen\u001b[0m\u001b[1;33m(\u001b[0m\u001b[0my_type\u001b[0m\u001b[1;33m)\u001b[0m \u001b[1;33m>\u001b[0m \u001b[1;36m1\u001b[0m\u001b[1;33m:\u001b[0m\u001b[1;33m\u001b[0m\u001b[0m\n\u001b[0;32m     80\u001b[0m         raise ValueError(\"Classification metrics can't handle a mix of {0} \"\n\u001b[1;32m---> 81\u001b[1;33m                          \"and {1} targets\".format(type_true, type_pred))\n\u001b[0m\u001b[0;32m     82\u001b[0m \u001b[1;33m\u001b[0m\u001b[0m\n\u001b[0;32m     83\u001b[0m     \u001b[1;31m# We can't have more than one value on y_type => The set is no more needed\u001b[0m\u001b[1;33m\u001b[0m\u001b[1;33m\u001b[0m\u001b[0m\n",
      "\u001b[1;31mValueError\u001b[0m: Classification metrics can't handle a mix of multiclass and continuous-multioutput targets"
     ],
     "output_type": "error"
    }
   ],
   "source": [
    "#eurusd['LDN'] = 0\n",
    "#eurusd['LDN'].loc[(eurusd[\"timestamp\"] >= datetime.time(7,0)) & (eurusd[\"timestamp\"] <= datetime.time(12,0))] = 1\n",
    "#print(eurusd[[\"Date\", \"Asia\", 'LDN', \"NY\"]].head(50))\n",
    "Y_predict = clf.predict_log_proba(X_test)\n",
    "\n",
    "from sklearn.metrics import accuracy_score\n",
    "from sklearn.metrics import confusion_matrix\n",
    "print(accuracy_score(Y_test, Y_predict))\n",
    "\n",
    "print(pd.DataFrame(\n",
    "    confusion_matrix(Y_test, Y_predict),\n",
    "    columns=['Predicted Buy', 'Predicted Hold','Predicted Sell'],\n",
    "    index=['True Buy', \"True Hold\", 'True Sell']\n",
    "))"
   ]
  },
  {
   "cell_type": "code",
   "execution_count": 8,
   "metadata": {},
   "outputs": [
    {
     "name": "stderr",
     "output_type": "stream",
     "text": [
      "C:\\Users\\edgil\\AppData\\Local\\Programs\\Python\\Python36\\lib\\site-packages\\pandas\\core\\indexing.py:194: SettingWithCopyWarning: \nA value is trying to be set on a copy of a slice from a DataFrame\n\nSee the caveats in the documentation: http://pandas.pydata.org/pandas-docs/stable/indexing.html#indexing-view-versus-copy\n  self._setitem_with_indexer(indexer, value)\n"
     ]
    }
   ],
   "source": [
    "Y_predict = clf.predict_proba(X_test)\n",
    "#plt.hist(Y_predict)\n",
    "signal_thold = 0.52\n",
    "eurusd_test['sell'] = pd.Series(Y_predict[:,0])\n",
    "eurusd_test['hold'] = pd.Series(Y_predict[:,1])\n",
    "eurusd_test['buy'] = pd.Series(Y_predict[:,2])\n",
    "eurusd_test['signal'] = 0\n",
    "eurusd_test['signal'].loc[eurusd_test['sell'] > signal_thold ] = -1\n",
    "eurusd_test['signal'].loc[eurusd_test['buy'] > signal_thold ] = 1\n",
    "eurusd_test['return'] = eurusd_test['signal']*eurusd_test['logret'].shift(2)\n",
    "eurusd_test['cumul_return'] = eurusd_test['return'].cumsum()\n"
   ]
  },
  {
   "cell_type": "code",
   "execution_count": 157,
   "metadata": {},
   "outputs": [
    {
     "data": {
      "text/plain": [
       "<matplotlib.axes._subplots.AxesSubplot at 0x34283cd0>"
      ]
     },
     "execution_count": 157,
     "metadata": {},
     "output_type": "execute_result"
    },
    {
     "data": {
      "image/png": "[encoded data removed]",
      "text/plain": [
       "<matplotlib.figure.Figure at 0x3427a0b0>"
      ]
     },
     "metadata": {},
     "output_type": "display_data"
    }
   ],
   "source": [
    ""
   ]
  }
 ],
 "metadata": {
  "kernelspec": {
   "display_name": "Python 2",
   "language": "python",
   "name": "python2"
  },
  "language_info": {
   "codemirror_mode": {
    "name": "ipython",
    "version": 2
   },
   "file_extension": ".py",
   "mimetype": "text/x-python",
   "name": "python",
   "nbconvert_exporter": "python",
   "pygments_lexer": "ipython2",
   "version": "2.7.6"
  }
 },
 "nbformat": 4,
 "nbformat_minor": 0
}
