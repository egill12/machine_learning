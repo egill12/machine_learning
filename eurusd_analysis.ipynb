{
 "cells": [
  {
   "cell_type": "code",
   "execution_count": 26,
   "metadata": {
    "collapsed": true
   },
   "outputs": [],
   "source": [
    "import pandas as pd\n",
    "import numpy as np\n",
    "import datetime \n",
    "from matplotlib import pyplot as plt\n",
    "csv_path = r\"C:/Users/edgil/Documents/Masters/dissertation/data/eurusd_hour.csv\""
   ]
  },
  {
   "cell_type": "code",
   "execution_count": 21,
   "metadata": {},
   "outputs": [],
   "source": [
    "eurusd = pd.read_csv(csv_path)\n",
    "eurusd['date'] = pd.to_datetime(eurusd['Date'])"
   ]
  },
  {
   "cell_type": "code",
   "execution_count": 37,
   "metadata": {},
   "outputs": [
    {
     "name": "stderr",
     "output_type": "stream",
     "text": [
      "C:\\Users\\edgil\\AppData\\Local\\Programs\\Python\\Python36\\lib\\site-packages\\numpy\\core\\fromnumeric.py:52: FutureWarning: reshape is deprecated and will raise in a subsequent release. Please use .values.reshape(...) instead\n  return getattr(obj, method)(*args, **kwds)\nC:\\Users\\edgil\\AppData\\Local\\Programs\\Python\\Python36\\lib\\site-packages\\numpy\\lib\\function_base.py:4291: RuntimeWarning: Invalid value encountered in percentile\n  interpolation=interpolation)\nC:\\Users\\edgil\\AppData\\Local\\Programs\\Python\\Python36\\lib\\site-packages\\matplotlib\\cbook\\__init__.py:1856: RuntimeWarning: invalid value encountered in less_equal\n  wiskhi = np.compress(x <= hival, x)\nC:\\Users\\edgil\\AppData\\Local\\Programs\\Python\\Python36\\lib\\site-packages\\matplotlib\\cbook\\__init__.py:1863: RuntimeWarning: invalid value encountered in greater_equal\n  wisklo = np.compress(x >= loval, x)\nC:\\Users\\edgil\\AppData\\Local\\Programs\\Python\\Python36\\lib\\site-packages\\matplotlib\\cbook\\__init__.py:1871: RuntimeWarning: invalid value encountered in less\n  np.compress(x < stats['whislo'], x),\nC:\\Users\\edgil\\AppData\\Local\\Programs\\Python\\Python36\\lib\\site-packages\\matplotlib\\cbook\\__init__.py:1872: RuntimeWarning: invalid value encountered in greater\n  np.compress(x > stats['whishi'], x)\n"
     ]
    },
    {
     "data": {
      "text/plain": [
       "{'whiskers': [<matplotlib.lines.Line2D at 0xadd1130>,\n  <matplotlib.lines.Line2D at 0xacaae70>,\n  <matplotlib.lines.Line2D at 0xadc7250>,\n  <matplotlib.lines.Line2D at 0xacaa510>],\n 'caps': [<matplotlib.lines.Line2D at 0xacaa7f0>,\n  <matplotlib.lines.Line2D at 0xacaadf0>,\n  <matplotlib.lines.Line2D at 0xadc77f0>,\n  <matplotlib.lines.Line2D at 0xadc7ab0>],\n 'boxes': [<matplotlib.lines.Line2D at 0xadd1090>,\n  <matplotlib.lines.Line2D at 0xacaa7b0>],\n 'medians': [<matplotlib.lines.Line2D at 0xacaa4d0>,\n  <matplotlib.lines.Line2D at 0xadc7df0>],\n 'fliers': [<matplotlib.lines.Line2D at 0xacaa350>,\n  <matplotlib.lines.Line2D at 0xadc7fb0>],\n 'means': []}"
      ]
     },
     "execution_count": 37,
     "metadata": {},
     "output_type": "execute_result"
    },
    {
     "data": {
      "image/png": "[encoded data removed]",
      "text/plain": [
       "<matplotlib.figure.Figure at 0xaf69f30>"
      ]
     },
     "metadata": {},
     "output_type": "display_data"
    }
   ],
   "source": [
    "# create the code to display box plots of each year, in terms of volatility, you need to create timesereis return\n",
    "fig = plt.figure(1, figsize=(9, 6))\n",
    "ax = fig.add_subplot(111)\n",
    "eurusd['bidClose_pct_chg'] = eurusd.BidClose.pct_change()\n",
    "#eurusd[eurusd['date'] <= \"1/1/2010\"].boxplot(\"bidClose_pct_chg\")\n",
    "#eurusd[eurusd['date'] > \"1/1/2010\"].boxplot(\"bidClose_pct_chg\")\n",
    "plt.boxplot([eurusd.loc[eurusd['date'] <= \"1/1/2010\"]['bidClose_pct_chg'], eurusd.loc[eurusd['date'] > \"1/1/2010\"]['bidClose_pct_chg']])\n"
   ]
  }
 ],
 "metadata": {
  "kernelspec": {
   "display_name": "Python 2",
   "language": "python",
   "name": "python2"
  },
  "language_info": {
   "codemirror_mode": {
    "name": "ipython",
    "version": 2
   },
   "file_extension": ".py",
   "mimetype": "text/x-python",
   "name": "python",
   "nbconvert_exporter": "python",
   "pygments_lexer": "ipython2",
   "version": "2.7.6"
  }
 },
 "nbformat": 4,
 "nbformat_minor": 0
}
