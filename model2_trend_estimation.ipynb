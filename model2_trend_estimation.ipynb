{
 "cells": [
  {
   "cell_type": "code",
   "execution_count": 1,
   "metadata": {
    "collapsed": false
   },
   "outputs": [
    {
     "name": "stderr",
     "output_type": "stream",
     "text": [
      "C:\\Users\\edgil\\Documents\\Masters\\dissertation\\code\\create_model_features.py:29: RuntimeWarning: divide by zero encountered in log\n  data[\"logret\"] = np.log(data[CCY_COL]) - np.log(data[CCY_COL].shift(1))\nC:\\Users\\edgil\\Documents\\Masters\\dissertation\\code\\create_model_features.py:29: RuntimeWarning: invalid value encountered in log\n  data[\"logret\"] = np.log(data[CCY_COL]) - np.log(data[CCY_COL].shift(1))\n"
     ]
    },
    {
     "name": "stdout",
     "output_type": "stream",
     "text": [
      "Index(['EDI_EURUSD_spread', 'EDI_G10_normalised', 'EDI_Global_normalised',\n       'Date', 'EDI_EURUSD_spread_spotvma', 'EDI_EURUSD_spread_madiff',\n       'EDI_G10_normalised_spotvma', 'EDI_G10_normalised_madiff',\n       'EDI_Global_normalised_spotvma', 'EDI_Global_normalised_madiff'],\n      dtype='object')\n"
     ]
    }
   ],
   "source": [
    "import numpy as np\n",
    "import pandas as pd\n",
    "from create_model_features import trends_features\n",
    "from copy import deepcopy\n",
    "import datetime\n",
    "################## INSERT CCY You want to RUN\n",
    "ccy = \"EURUSD\"\n",
    "ccy1 = ccy[:3]\n",
    "ccy2 = ccy[3:]\n",
    "edi_location = r\"C:\\Users\\edgil\\Documents\\Masters\\dissertation\\data\\EDI.csv\"\n",
    "esi_location = r\"C:\\Users\\edgil\\Documents\\Masters\\dissertation\\data\\ESI.csv\"\n",
    "features = [\"EDI_\"+ccy1 + ccy2 + \"_spread\", \"EDI_G10_normalised\", \"EDI_Global_normalised\",\n",
    "            \"ESI_\"+ccy1 + ccy2 + \"_spread\", \"ESI_G10_normalised\", \"ESI_Global_normalised\"]\n",
    "EDI = pd.read_csv(edi_location)\n",
    "ESI = pd.read_csv(esi_location)\n",
    "EDI['Date'] =  pd.to_datetime(EDI['Date'], format= '%d/%m/%Y')\n",
    "ESI['Date'] =  pd.to_datetime(ESI['Date'], format= '%d/%m/%Y')\n",
    "EDI['Date'] =  EDI['Date'].dt.date\n",
    "ESI['Date'] =  ESI['Date'].dt.date\n",
    "EDI[\"EDI_\"+ ccy1 + ccy2 + \"_spread\"] = EDI[\"EDI_\" +ccy1 + \"_normalised\"] - EDI[\"EDI_\" +ccy2 + \"_normalised\"]\n",
    "ESI[\"ESI_\"+ ccy1 + ccy2 + \"_spread\"] = ESI[\"ESI_\" +ccy1 + \"_normalised\"] - ESI[\"ESI_\" + ccy2 + \"_normalised\"]\n",
    "EDI_tradable = EDI[[\"EDI_\"+ccy1 + ccy2 + \"_spread\", \"EDI_G10_normalised\", \"EDI_Global_normalised\"]].cumsum()\n",
    "ESI_tradable = ESI[[\"ESI_\"+ccy1 + ccy2 + \"_spread\", \"ESI_G10_normalised\", \"ESI_Global_normalised\"]].cumsum()\n",
    "EDI_tradable['Date'] = EDI['Date']\n",
    "ESI_tradable['Date'] = ESI['Date']\n",
    "short, medium, long, longest, medium_multiplier,long_multplier = 21, 55, 100, 200, 1, 1 # as all in days.\n",
    "for col in features:\n",
    "    if col in list(EDI_tradable.columns):\n",
    "        data = deepcopy(EDI_tradable)\n",
    "        data = trends_features(data,col, short, medium, long,longest,medium_multiplier,long_multplier)\n",
    "        EDI_tradable[col+\"_spotvma\"] = data['spot_v_HF']\n",
    "        EDI_tradable[col+\"_madiff\"] = data['HF_ema_diff']\n",
    "    if col in list(ESI_tradable.columns):\n",
    "        data = deepcopy(ESI_tradable)\n",
    "        data = trends_features(data,col, short, medium, long, longest,medium_multiplier,long_multplier)\n",
    "        ESI_tradable[col+\"_spotvma\"] = data['spot_v_HF']\n",
    "        ESI_tradable[col+\"_madiff\"] = data['HF_ema_diff']\n",
    "print(EDI_tradable.columns)\n",
    "signal_location = r\"C:\\Users\\edgil\\Documents\\Masters\\dissertation\\data\\best_results\\Signals.csv\"\n",
    "signals = pd.read_csv(signal_location)\n",
    "signals['Date'] = pd.to_datetime(signals['Date'], format= '%d/%m/%Y %H:%M')\n",
    "signals['DDMMYY'] = signals['Date'].dt.date # signals['Date'].apply(get_ddmmyy)\n",
    "#signals['DDMMYY'] = pd.to_datetime(signals['DDMMYY'])\n",
    "trend_estimation = signals.groupby('DDMMYY').sum().reset_index(drop = False)\n",
    "# i.e. the average of the ccy kevel across each hour\n",
    "trend_estimation['CCY'] = signals.groupby('DDMMYY').mean().reset_index(drop = False)['CCY']\n",
    "# overwriting the dte arg as its easier to understand\n",
    "trend_estimation['Date'] = trend_estimation['DDMMYY']\n",
    "trend_estimation[ccy1+ccy2 +\"_vol\"] = trend_estimation['logret'].rolling(60).std()*np.sqrt(260)\n",
    "trend_estimation = pd.merge(trend_estimation,EDI_tradable,how=\"left\" ,on= \"Date\")\n",
    "trend_estimation = pd.merge(trend_estimation,ESI_tradable,how=\"left\" ,on= \"Date\")\n",
    "trend_location = r\"C:\\Users\\edgil\\Documents\\Masters\\dissertation\\data\\best_results\\trendestimation.csv\"\n",
    "trend_estimation.replace(np.nan,0).to_csv(trend_location)"
   ]
  },
  {
   "cell_type": "code",
   "execution_count": 31,
   "metadata": {},
   "outputs": [
    {
     "data": {
      "text/plain": [
       "array([  0.        ,  -0.39104105,  -0.25810771, ...,  -9.83269382,\n       -10.32362597,  -8.81085717])"
      ]
     },
     "execution_count": 31,
     "metadata": {},
     "output_type": "execute_result"
    }
   ],
   "source": [
    "from matplotlib import pyplot as plt\n",
    "# model features\n",
    "features = [\"EDI_\"+ccy1 + ccy2 + \"_spread\", \"EDI_G10_normalised\", \"EDI_Global_normalised\",\n",
    "            \"ESI_\"+ccy1 + ccy2 + \"_spread\", \"ESI_G10_normalised\", \"ESI_Global_normalised\"]\n"
   ]
  },
  {
   "cell_type": "code",
   "execution_count": 2,
   "metadata": {},
   "outputs": [
    {
     "name": "stderr",
     "output_type": "stream",
     "text": [
      "C:\\Users\\edgil\\AppData\\Local\\Programs\\Python\\Python36\\lib\\site-packages\\ipykernel_launcher.py:28: SettingWithCopyWarning: \nA value is trying to be set on a copy of a slice from a DataFrame.\nTry using .loc[row_indexer,col_indexer] = value instead\n\nSee the caveats in the documentation: http://pandas.pydata.org/pandas-docs/stable/indexing.html#indexing-view-versus-copy\n"
     ]
    }
   ],
   "source": [
    "# next steps--> creating an engine to run a rf on the 1 month head returns of the startegy based on the features\n",
    "# use var imp type module.\n",
    "from model_functions import standardise_data\n",
    "from sklearn.preprocessing import StandardScaler\n",
    "from model_functions import create_train_test_file\n",
    "from run_decision_tree import set_params_trend_estimate, set_params_random_forests\n",
    "rf_dict = set_params_random_forests()\n",
    "trend_estimate_dict = set_params_trend_estimate()\n",
    "trade_horizon = trend_estimate_dict['trade_horizon'] # roughly 1 month ahead.\n",
    "std_window = trend_estimate_dict['std_window'] # 1 year\n",
    "train_size = trend_estimate_dict['train_size']# no. data points in the train\n",
    "test_split = trend_estimate_dict['test_split']\n",
    "test_buffer = trend_estimate_dict['test_buffer']\n",
    "concat_results = False\n",
    "# list of available strats\n",
    "trend_strats = [\"Linear\",\"SVM_erf\",\"RF_erf\",\"LSTM1_erf\",\"LSTM2_erf\"]\n",
    "# trend features\n",
    "T_features = [\"ESI_EURUSD_spread_spotvma\", \"ESI_EURUSD_spread_madiff\",       \"ESI_G10_normalised_spotvma\",\n",
    "                   \"ESI_G10_normalised_madiff\", \"ESI_Global_normalised_spotvma\", \"ESI_Global_normalised_madiff\",\n",
    "                   \"EDI_EURUSD_spread_spotvma\", \"EDI_EURUSD_spread_madiff\",       \"EDI_G10_normalised_spotvma\",\n",
    "                   \"EDI_G10_normalised_madiff\", \"EDI_Global_normalised_spotvma\",  \"EDI_Global_normalised_madiff\"]\n",
    "trend_model = \"SVM_erf\"\n",
    "feats = deepcopy(T_features)\n",
    "feats.append(\"Date\")\n",
    "feats.append(trend_model)\n",
    "# now kick off the learning approach\n",
    "df = trend_estimation[feats]\n",
    "df['target'] = df[trend_model].iloc[::-1].shift(2).rolling(trade_horizon).sum().values[::-1]\n",
    "# maybe best to standardise on the sklearn methods\n",
    "# df = standardise_data(df, feats, T_features , std_window)\n",
    "data_size = int(df.shape[0]*train_size) # data size implies the size of the training set\n",
    "train, test = create_train_test_file(df, data_size, test_split, test_buffer, concat_results)"
   ]
  },
  {
   "cell_type": "code",
   "execution_count": 11,
   "metadata": {},
   "outputs": [],
   "source": [
    "from sklearn import tree\n",
    "from run_decision_tree import decision_tree\n",
    "from sklearn.ensemble import RandomForestClassifier, RandomForestRegressor\n",
    "scaler = StandardScaler() \n",
    "use_RF = rf_dict['use_RF']\n",
    "train_sample = pd.DataFrame(scaler.fit_transform(train[T_features]), columns = list(T_features))\n",
    "test_sample = pd.DataFrame(scaler.transform(test[T_features]), columns = list(T_features))\n",
    "use_classifier = rf_dict['use_classifier']\n",
    "use_risk_adjusted = rf_dict['use_risk_adjusted']\n",
    "ntree = rf_dict['ntrees'][0]\n",
    "max_features = rf_dict['max_features']\n",
    "max_depth = rf_dict['max_depth']\n",
    "# if you want to run a random forest.\n",
    "if use_RF:\n",
    "    train_sample['target'] = train['target']\n",
    "    test_sample['target'] = test['target']\n",
    "    results, acc_score = decision_tree(train_sample, test_sample,use_classifier, use_risk_adjusted,\n",
    "                                       ntree, max_features, max_depth)\n",
    "if use_classifier:\n",
    "    clf = tree.DecisionTreeClassifier(max_leaf_nodes = 12, max_depth = 32)\n",
    "    RF = RandomForestClassifier(n_estimators=ntree, max_features= max_features,max_depth = max_depth, verbose=0)\n",
    "else:\n",
    "    clf = tree.DecisionTreeRegressor(max_leaf_nodes = 12, max_depth = 32)\n",
    "    RF = RandomForestRegressor(n_estimators=ntree, max_features= max_features, max_depth = max_depth,verbose=0)\n",
    "clf_model = clf.fit(train_sample[[\"EDI_Global_normalised_spotvma\",\"EDI_EURUSD_spread_spotvma\",\"ESI_Global_normalised_spotvma\"]], train['target'])\n",
    "rf_model = RF.fit(train_sample.iloc[:,:-1], train['target'])"
   ]
  },
  {
   "cell_type": "code",
   "execution_count": 6,
   "metadata": {},
   "outputs": [
    {
     "data": {
      "image/png": "[encoded data removed]",
      "text/plain": [
       "<matplotlib.figure.Figure at 0x15810270>"
      ]
     },
     "metadata": {},
     "output_type": "display_data"
    }
   ],
   "source": [
    "from matplotlib import pyplot as plt\n",
    "importances = rf_model.feature_importances_\n",
    "indices = np.argsort(importances)\n",
    "\n",
    "plt.figure(figsize=(20,8))\n",
    "plt.title('Feature Importances')\n",
    "plt.barh(range(len(importances)), importances, color='b', align='center', alpha = 0.5)\n",
    "#plt.yticks(range(len(indices)), )\n",
    "plt.xlabel('Relative Importance')\n",
    "plt.yticks(range(len(importances)), T_features, fontsize=8)\n",
    "plt.show()"
   ]
  },
  {
   "cell_type": "code",
   "execution_count": 7,
   "metadata": {},
   "outputs": [
    {
     "ename": "NameError",
     "evalue": "name 'results' is not defined",
     "traceback": [
      "\u001b[1;31m---------------------------------------------------------------------------\u001b[0m",
      "\u001b[1;31mNameError\u001b[0m                                 Traceback (most recent call last)",
      "\u001b[1;32m<ipython-input-7-e0fad2adf728>\u001b[0m in \u001b[0;36m<module>\u001b[1;34m\u001b[0m\n\u001b[0;32m      9\u001b[0m     \u001b[0mtest_results\u001b[0m\u001b[1;33m[\u001b[0m\u001b[1;34m'strat_returns_sum'\u001b[0m\u001b[1;33m]\u001b[0m \u001b[1;33m=\u001b[0m \u001b[0mtest_results\u001b[0m\u001b[1;33m[\u001b[0m\u001b[1;34m'strat_returns'\u001b[0m\u001b[1;33m]\u001b[0m\u001b[1;33m.\u001b[0m\u001b[0mcumsum\u001b[0m\u001b[1;33m(\u001b[0m\u001b[1;33m)\u001b[0m\u001b[1;33m\u001b[0m\u001b[0m\n\u001b[0;32m     10\u001b[0m     \u001b[1;32mreturn\u001b[0m \u001b[0mtest_results\u001b[0m\u001b[1;33m\u001b[0m\u001b[0m\n\u001b[1;32m---> 11\u001b[1;33m \u001b[0mtest_results\u001b[0m \u001b[1;33m=\u001b[0m \u001b[0mtrend_estimate_backtester\u001b[0m\u001b[1;33m(\u001b[0m\u001b[0mtest\u001b[0m\u001b[1;33m,\u001b[0m\u001b[0mresults\u001b[0m\u001b[1;33m,\u001b[0m\u001b[0mtrend_model\u001b[0m\u001b[1;33m)\u001b[0m\u001b[1;33m\u001b[0m\u001b[0m\n\u001b[0m\u001b[0;32m     12\u001b[0m test_location = r\"C:\\Users\\edgil\\Documents\\Masters\\dissertation\\data\\best_results\\trend_estimate_results\\model%s_TH%s_ntree%s_classifier%s_riskadj%s.csv\" % (\n\u001b[0;32m     13\u001b[0m     trend_model, trade_horizon, ntree ,use_classifier, use_risk_adjusted)\n",
      "\u001b[1;31mNameError\u001b[0m: name 'results' is not defined"
     ],
     "output_type": "error"
    }
   ],
   "source": [
    "#from run_decision_tree import trend_estimate_backtester\n",
    "\n",
    "def trend_estimate_backtester(test, results, trend_model):\n",
    "    predictions = pd.DataFrame({\"Date\": test['Date'], \"Predictions\": results})\n",
    "    test_results = pd.merge(test, predictions, how=\"left\", on=\"Date\").fillna(0)\n",
    "    # calculate the returns of the signal\n",
    "    test_results[\"scaled_signal\"] = test_results['Predictions'].shift(2).rolling(trade_horizon).sum() / trade_horizon\n",
    "    test_results['strat_returns'] = test_results[trend_model] * test_results['scaled_signal']\n",
    "    test_results['strat_returns_sum'] = test_results['strat_returns'].cumsum()\n",
    "    return test_results\n",
    "test_results = trend_estimate_backtester(test,results,trend_model)\n",
    "test_location = r\"C:\\Users\\edgil\\Documents\\Masters\\dissertation\\data\\best_results\\trend_estimate_results\\model%s_TH%s_ntree%s_classifier%s_riskadj%s.csv\" % (\n",
    "    trend_model, trade_horizon, ntree ,use_classifier, use_risk_adjusted)\n",
    "test_results.to_csv(test_location, index = False)"
   ]
  },
  {
   "cell_type": "code",
   "execution_count": 13,
   "metadata": {},
   "outputs": [
    {
     "data": {
      "text/plain": [
       "True"
      ]
     },
     "execution_count": 13,
     "metadata": {},
     "output_type": "execute_result"
    }
   ],
   "source": [
    "# save the tree from clf\n",
    "# visualise the data\n",
    "from sklearn.externals.six import StringIO  \n",
    "from IPython.display import Image  \n",
    "from sklearn.tree import export_graphviz\n",
    "import pydotplus\n",
    "\n",
    "dot_data = StringIO()\n",
    "\n",
    "tree.export_graphviz(clf, out_file=dot_data, class_names=['Reduce Exp',\"Increase Exp\"]\n",
    "                     , filled=True, rounded=True, special_characters = True) \n",
    "graph = pydotplus.graph_from_dot_data(dot_data.getvalue()) \n",
    "tree_location = r\"C:\\Users\\edgil\\Documents\\Masters\\dissertation\\data\\best_results\\trend_estimate_results\\model%s_TH%s_ntree%s_classifier%s_riskadj%s.pdf\" % (\n",
    "    trend_model, trade_horizon, ntree ,use_classifier, use_risk_adjusted)\n",
    "graph.write_pdf(tree_location) "
   ]
  }
 ],
 "metadata": {
  "kernelspec": {
   "display_name": "Python 2",
   "language": "python",
   "name": "python2"
  },
  "language_info": {
   "codemirror_mode": {
    "name": "ipython",
    "version": 2
   },
   "file_extension": ".py",
   "mimetype": "text/x-python",
   "name": "python",
   "nbconvert_exporter": "python",
   "pygments_lexer": "ipython2",
   "version": "2.7.6"
  }
 },
 "nbformat": 4,
 "nbformat_minor": 0
}
