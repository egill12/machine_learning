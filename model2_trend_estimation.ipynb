{
 "cells": [
  {
   "cell_type": "code",
   "execution_count": null,
   "metadata": {
    "collapsed": false
   },
   "outputs": [
    {
     "name": "stderr",
     "output_type": "stream",
     "text": [
      "C:\\Users\\edgil\\Documents\\Masters\\dissertation\\code\\create_model_features.py:29: RuntimeWarning: divide by zero encountered in log\n  data[\"logret\"] = np.log(data[CCY_COL]) - np.log(data[CCY_COL].shift(1))\nC:\\Users\\edgil\\Documents\\Masters\\dissertation\\code\\create_model_features.py:29: RuntimeWarning: invalid value encountered in log\n  data[\"logret\"] = np.log(data[CCY_COL]) - np.log(data[CCY_COL].shift(1))\n"
     ]
    },
    {
     "name": "stdout",
     "output_type": "stream",
     "text": [
      "Index(['EDI_EURUSD_spread', 'EDI_G10_normalised', 'EDI_Global_normalised',\n       'Date', 'EDI_EURUSD_spread_spotvma', 'EDI_EURUSD_spread_madiff',\n       'EDI_G10_normalised_spotvma', 'EDI_G10_normalised_madiff',\n       'EDI_Global_normalised_spotvma', 'EDI_Global_normalised_madiff'],\n      dtype='object')\n"
     ]
    }
   ],
   "source": [
    "import numpy as np\n",
    "import pandas as pd\n",
    "from create_model_features import trends_features\n",
    "from copy import deepcopy\n",
    "import datetime\n",
    "################## INSERT CCY You want to RUN\n",
    "ccy = \"EURUSD\"\n",
    "ccy1 = ccy[:3]\n",
    "ccy2 = ccy[3:]\n",
    "edi_location = r\"C:\\Users\\edgil\\Documents\\Masters\\dissertation\\data\\EDI.csv\"\n",
    "esi_location = r\"C:\\Users\\edgil\\Documents\\Masters\\dissertation\\data\\ESI.csv\"\n",
    "features = [\"EDI_\"+ccy1 + ccy2 + \"_spread\", \"EDI_G10_normalised\", \"EDI_Global_normalised\",\n",
    "            \"ESI_\"+ccy1 + ccy2 + \"_spread\", \"ESI_G10_normalised\", \"ESI_Global_normalised\"]\n",
    "EDI = pd.read_csv(edi_location)\n",
    "ESI = pd.read_csv(esi_location)\n",
    "EDI['Date'] =  pd.to_datetime(EDI['Date'], format= '%d/%m/%Y')\n",
    "ESI['Date'] =  pd.to_datetime(ESI['Date'], format= '%d/%m/%Y')\n",
    "EDI['Date'] =  EDI['Date'].dt.date\n",
    "ESI['Date'] =  ESI['Date'].dt.date\n",
    "EDI[\"EDI_\"+ ccy1 + ccy2 + \"_spread\"] = EDI[\"EDI_\" +ccy1 + \"_normalised\"] - EDI[\"EDI_\" +ccy2 + \"_normalised\"]\n",
    "ESI[\"ESI_\"+ ccy1 + ccy2 + \"_spread\"] = ESI[\"ESI_\" +ccy1 + \"_normalised\"] - ESI[\"ESI_\" + ccy2 + \"_normalised\"]\n",
    "EDI_tradable = EDI[[\"EDI_\"+ccy1 + ccy2 + \"_spread\", \"EDI_G10_normalised\", \"EDI_Global_normalised\"]].cumsum()\n",
    "ESI_tradable = ESI[[\"ESI_\"+ccy1 + ccy2 + \"_spread\", \"ESI_G10_normalised\", \"ESI_Global_normalised\"]].cumsum()\n",
    "EDI_tradable['Date'] = EDI['Date']\n",
    "ESI_tradable['Date'] = ESI['Date']\n",
    "short, medium, long, longest, medium_multiplier,long_multplier = 21, 55, 100, 200, 1, 1 # as all in days.\n",
    "for col in features:\n",
    "    if col in list(EDI_tradable.columns):\n",
    "        data = deepcopy(EDI_tradable)\n",
    "        data = trends_features(data,col, short, medium, long,longest,medium_multiplier,long_multplier)\n",
    "        EDI_tradable[col+\"_spotvma\"] = data['spot_v_HF']\n",
    "        EDI_tradable[col+\"_madiff\"] = data['HF_ema_diff']\n",
    "    if col in list(ESI_tradable.columns):\n",
    "        data = deepcopy(ESI_tradable)\n",
    "        data = trends_features(data,col, short, medium, long, longest,medium_multiplier,long_multplier)\n",
    "        ESI_tradable[col+\"_spotvma\"] = data['spot_v_HF']\n",
    "        ESI_tradable[col+\"_madiff\"] = data['HF_ema_diff']\n",
    "print(EDI_tradable.columns)\n",
    "signal_location = r\"C:\\Users\\edgil\\Documents\\Masters\\dissertation\\data\\best_results\\Signals.csv\"\n",
    "signals = pd.read_csv(signal_location)\n",
    "signals['Date'] = pd.to_datetime(signals['Date'], format= '%d/%m/%Y %H:%M')\n",
    "signals['DDMMYY'] = signals['Date'].dt.date # signals['Date'].apply(get_ddmmyy)\n",
    "#signals['DDMMYY'] = pd.to_datetime(signals['DDMMYY'])\n",
    "trend_estimation = signals.groupby('DDMMYY').sum().reset_index(drop = False)\n",
    "# i.e. the average of the ccy kevel across each hour\n",
    "trend_estimation['CCY'] = signals.groupby('DDMMYY').mean().reset_index(drop = False)['CCY']\n",
    "# overwriting the dte arg as its easier to understand\n",
    "trend_estimation['Date'] = trend_estimation['DDMMYY']\n",
    "trend_estimation[ccy1+ccy2 +\"_vol\"] = trend_estimation['logret'].rolling(60).std()*np.sqrt(260)\n",
    "trend_estimation = pd.merge(trend_estimation,EDI_tradable,how=\"left\" ,on= \"Date\")\n",
    "trend_estimation = pd.merge(trend_estimation,ESI_tradable,how=\"left\" ,on= \"Date\")\n",
    "trend_location = r\"C:\\Users\\edgil\\Documents\\Masters\\dissertation\\data\\best_results\\trendestimation.csv\"\n",
    "trend_estimation.replace(np.nan,0).to_csv(trend_location)"
   ]
  },
  {
   "cell_type": "code",
   "execution_count": 31,
   "metadata": {},
   "outputs": [
    {
     "data": {
      "text/plain": [
       "array([  0.        ,  -0.39104105,  -0.25810771, ...,  -9.83269382,\n       -10.32362597,  -8.81085717])"
      ]
     },
     "execution_count": 31,
     "metadata": {},
     "output_type": "execute_result"
    }
   ],
   "source": [
    "from matplotlib import pyplot as plt\n",
    "# model features\n",
    "features = [\"EDI_\"+ccy1 + ccy2 + \"_spread\", \"EDI_G10_normalised\", \"EDI_Global_normalised\",\n",
    "            \"ESI_\"+ccy1 + ccy2 + \"_spread\", \"ESI_G10_normalised\", \"ESI_Global_normalised\"]\n"
   ]
  },
  {
   "cell_type": "code",
   "execution_count": 14,
   "metadata": {},
   "outputs": [
    {
     "name": "stderr",
     "output_type": "stream",
     "text": [
      "C:\\Users\\edgil\\AppData\\Local\\Programs\\Python\\Python36\\lib\\site-packages\\ipykernel_launcher.py:38: SettingWithCopyWarning: \nA value is trying to be set on a copy of a slice from a DataFrame.\nTry using .loc[row_indexer,col_indexer] = value instead\n\nSee the caveats in the documentation: http://pandas.pydata.org/pandas-docs/stable/indexing.html#indexing-view-versus-copy\n"
     ]
    }
   ],
   "source": [
    "# next steps--> creating an engine to run a rf on the 1 month head returns of the startegy based on the features\n",
    "# use var imp type module.\n",
    "from model_functions import standardise_data\n",
    "import numpy as np\n",
    "import pandas as pd\n",
    "from create_model_features import trends_features\n",
    "from copy import deepcopy\n",
    "from sklearn.preprocessing import StandardScaler\n",
    "from model_functions import create_train_test_file\n",
    "from run_decision_tree import set_params_trend_estimate, set_params_random_forests\n",
    "rf_dict = set_params_random_forests()\n",
    "trend_estimate_dict = set_params_trend_estimate()\n",
    "trade_horizon = trend_estimate_dict['trade_horizon'] # roughly 1 month ahead.\n",
    "std_window = trend_estimate_dict['std_window'] # 1 year\n",
    "train_size = trend_estimate_dict['train_size']# no. data points in the train\n",
    "test_split = trend_estimate_dict['test_split']\n",
    "test_buffer = trend_estimate_dict['test_buffer']\n",
    "concat_results = False\n",
    "# open trend estimation file from here\n",
    "trend_location = r\"C:\\Users\\edgil\\Documents\\Masters\\dissertation\\data\\best_results\\trendestimation.csv\"\n",
    "trend_estimation = pd.read_csv(trend_location)\n",
    "# list of available strats\n",
    "trend_strats = [\"Linear\",\"SVM_erf\",\"RF_erf\",\"LSTM1_erf\",\"LSTM2_erf\"]\n",
    "# trend features\n",
    "T_features = [\"EURUSD_vol\",\"ESI_EURUSD_spread_spotvma\", \"ESI_EURUSD_spread_madiff\",       \"ESI_G10_normalised_spotvma\",\n",
    "                   \"ESI_G10_normalised_madiff\", \"ESI_Global_normalised_spotvma\", \"ESI_Global_normalised_madiff\",\n",
    "                   \"EDI_EURUSD_spread_spotvma\", \"EDI_EURUSD_spread_madiff\",       \"EDI_G10_normalised_spotvma\",\n",
    "                   \"EDI_G10_normalised_madiff\", \"EDI_Global_normalised_spotvma\",  \"EDI_Global_normalised_madiff\"]\n",
    "dynamic_T_features = [\"ESI_Global_normalised_madiff\", \"EDI_EURUSD_spread_spotvma\", \"EDI_G10_normalised_spotvma\", \n",
    "                      \"EDI_Global_normalised_madiff\"]\n",
    "feats_to_use = dynamic_T_features  # can place t feats here too if needed\n",
    "trend_model = \"LSTM2_erf\"\n",
    "feats = deepcopy(feats_to_use)\n",
    "feats.append(\"Date\")\n",
    "feats.append(trend_model)\n",
    "# now kick off the learning approach\n",
    "df = trend_estimation[feats]\n",
    "df['target'] = df[trend_model].iloc[::-1].shift(2).rolling(trade_horizon).sum().values[::-1]\n",
    "# maybe best to standardise on the sklearn methods\n",
    "# df = standardise_data(df, feats, T_features , std_window)\n",
    "data_size = int(df.shape[0]*train_size) # data size implies the size of the training set\n",
    "train, test = create_train_test_file(df, data_size, test_split, test_buffer, concat_results)"
   ]
  },
  {
   "cell_type": "code",
   "execution_count": 15,
   "metadata": {},
   "outputs": [],
   "source": [
    "from sklearn import tree\n",
    "from run_decision_tree import decision_tree\n",
    "from sklearn.ensemble import RandomForestClassifier, RandomForestRegressor\n",
    "scaler = StandardScaler() \n",
    "use_RF = rf_dict['use_RF']\n",
    "train_sample = pd.DataFrame(scaler.fit_transform(train[feats_to_use]), columns = list(feats_to_use))\n",
    "test_sample = pd.DataFrame(scaler.transform(test[feats_to_use]), columns = list(feats_to_use))\n",
    "use_classifier = rf_dict['use_classifier']\n",
    "use_risk_adjusted = rf_dict['use_risk_adjusted']\n",
    "ntree = rf_dict['ntrees'][0]\n",
    "max_features = rf_dict['max_features']\n",
    "max_depth = rf_dict['max_depth']\n",
    "# if you want to run a random forest.\n",
    "if use_RF:\n",
    "    train_sample['target'] = train['target']\n",
    "    test_sample['target'] = test['target']\n",
    "    results, acc_score = decision_tree(train_sample, test_sample,use_classifier, use_risk_adjusted,\n",
    "                                       ntree, max_features, max_depth)\n",
    "if use_classifier:\n",
    "    train_sample['target'] = train['target'].apply(np.sign)\n",
    "    test_sample['target'] = test['target'].apply(np.sign)\n",
    "    clf = tree.DecisionTreeClassifier(max_leaf_nodes = 6, max_depth = 12)\n",
    "    RF = RandomForestClassifier(n_estimators=ntree, max_features= max_features,max_depth = max_depth, verbose=0)\n",
    "else:\n",
    "    clf = tree.DecisionTreeRegressor(max_leaf_nodes = 6, max_depth = 12)\n",
    "    RF = RandomForestRegressor(n_estimators=ntree, max_features= max_features, max_depth = max_depth,verbose=0)\n",
    "#clf_model = clf.fit(train_sample[[\"EDI_EURUSD_spread_spotvma\",\"EDI_G10_normalised_spotvma\"]],train_sample['target'])\n",
    "#rf_model = RF.fit(train_sample.iloc[:,:-1], train_sample['target'])"
   ]
  },
  {
   "cell_type": "code",
   "execution_count": 8,
   "metadata": {},
   "outputs": [
    {
     "data": {
      "image/png": "[encoded data removed]",
      "text/plain": [
       "<matplotlib.figure.Figure at 0x61c8850>"
      ]
     },
     "metadata": {},
     "output_type": "display_data"
    }
   ],
   "source": [
    "from matplotlib import pyplot as plt\n",
    "importances = rf_model.feature_importances_\n",
    "indices = np.argsort(importances)\n",
    "\n",
    "plt.figure(figsize=(30,8))\n",
    "plt.title('Feature Importances')\n",
    "plt.barh(range(len(importances)), importances, color='b', align='center')\n",
    "#plt.yticks(range(len(indices)), )\n",
    "plt.xlabel('Relative Importance')\n",
    "plt.yticks(range(len(importances)), T_features, fontsize=14)\n",
    "varimp_location = r\"C:\\Users\\edgil\\Documents\\Masters\\dissertation\\document\\images\\varimp_%s.png\" % (trend_model)\n",
    "#plt.savefig(varimp_location)\n",
    "plt.show()"
   ]
  },
  {
   "cell_type": "code",
   "execution_count": 16,
   "metadata": {},
   "outputs": [],
   "source": [
    "#from run_decision_tree import trend_estimate_backtester\n",
    "def get_trade(row):\n",
    "    '''\n",
    "    \n",
    "    :param row: \n",
    "    :return: \n",
    "    '''\n",
    "    if row > 0:\n",
    "        return 1\n",
    "    else:\n",
    "        return 0\n",
    "\n",
    "def trend_estimate_backtester(test, results, trend_model):\n",
    "    predictions = pd.DataFrame({\"Date\": test['Date'], \"Predictions\": results})\n",
    "    test_results = pd.merge(test, predictions, how=\"left\", on=\"Date\").fillna(0)\n",
    "    # calculate the returns of the signal\n",
    "    test_results[\"scaled_signal\"] = test_results['Predictions'].shift(2).rolling(trade_horizon).sum() / trade_horizon\n",
    "    test_results['trend_buy_sell'] = test_results['scaled_signal'].apply(get_trade)\n",
    "    test_results['strat_returns'] = test_results[trend_model] * test_results['trend_buy_sell']\n",
    "    test_results['strat_returns_sum'] = test_results['strat_returns'].cumsum()\n",
    "    test_results['nonfiltered_ret'] = test_results[trend_model].cumsum()\n",
    "    return test_results\n",
    "test_results = trend_estimate_backtester(test,results,trend_model)\n",
    "test_location = r\"C:\\Users\\edgil\\Documents\\Masters\\dissertation\\data\\best_results\\trend_estimate_results\\model%s_TH%s_ntree%s_classifier%s_riskadj%s.csv\" % (\n",
    "    trend_model, trade_horizon, ntree ,use_classifier, use_risk_adjusted)\n",
    "test_results.to_csv(test_location, index = False)"
   ]
  },
  {
   "cell_type": "code",
   "execution_count": 30,
   "metadata": {},
   "outputs": [
    {
     "data": {
      "text/plain": [
       "True"
      ]
     },
     "execution_count": 30,
     "metadata": {},
     "output_type": "execute_result"
    }
   ],
   "source": [
    "# save the tree from clf\n",
    "# visualise the data\n",
    "from sklearn.externals.six import StringIO  \n",
    "from IPython.display import Image  \n",
    "from sklearn.tree import export_graphviz\n",
    "import pydotplus\n",
    "import collections\n",
    "dot_data = StringIO()\n",
    "\n",
    "tree.export_graphviz(clf, out_file=dot_data, class_names=['Reduce Exp',\"Increase Exp\"],\n",
    "                     feature_names = [\"Global Econ. Data\",\"EU vs US Econ. Data\", \"Econ. Surprise EU vs US\"], \n",
    "                     filled=True, rounded=True, special_characters = True) \n",
    "graph = pydotplus.graph_from_dot_data(dot_data.getvalue()) \n",
    "tree_location = r\"C:\\Users\\edgil\\Documents\\Masters\\dissertation\\data\\best_results\\trend_estimate_results\\model%s_TH%s_ntree%s_classifier%s_riskadj%s.pdf\" % (\n",
    "    trend_model, trade_horizon, ntree ,use_classifier, use_risk_adjusted)\n",
    "\n",
    "colors = ('brown', 'forestgreen')\n",
    "edges = collections.defaultdict(list)\n",
    "# code from https://stackoverflow.com/questions/42891148/changing-colors-for-decision-tree-plot-created-using-export-graphviz\n",
    "for edge in graph.get_edge_list():\n",
    "    edges[edge.get_source()].append(int(edge.get_destination()))\n",
    "\n",
    "for edge in edges:\n",
    "    edges[edge].sort()    \n",
    "    for i in range(2):\n",
    "        dest = graph.get_node(str(edges[edge][i]))[0]\n",
    "        dest.set_fillcolor(colors[i])\n",
    "graph.write_pdf(tree_location) "
   ]
  },
  {
   "cell_type": "code",
   "execution_count": 20,
   "metadata": {},
   "outputs": [
    {
     "data": {
      "text/plain": [
       "False"
      ]
     },
     "execution_count": 20,
     "metadata": {},
     "output_type": "execute_result"
    }
   ],
   "source": [
    "use_classifier"
   ]
  }
 ],
 "metadata": {
  "kernelspec": {
   "display_name": "Python 2",
   "language": "python",
   "name": "python2"
  },
  "language_info": {
   "codemirror_mode": {
    "name": "ipython",
    "version": 2
   },
   "file_extension": ".py",
   "mimetype": "text/x-python",
   "name": "python",
   "nbconvert_exporter": "python",
   "pygments_lexer": "ipython2",
   "version": "2.7.6"
  }
 },
 "nbformat": 4,
 "nbformat_minor": 0
}
