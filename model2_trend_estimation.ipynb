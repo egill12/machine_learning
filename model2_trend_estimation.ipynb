{
 "cells": [
  {
   "cell_type": "code",
   "execution_count": 2,
   "metadata": {
    "collapsed": false
   },
   "outputs": [
    {
     "name": "stdout",
     "output_type": "stream",
     "text": [
      "Index(['EDI_EURUSD_spread', 'EDI_G10_normalised', 'EDI_Global_normalised',\n       'Date', 'EDI_EURUSD_spread_spotvma', 'EDI_EURUSD_spread_madiff',\n       'EDI_G10_normalised_spotvma', 'EDI_G10_normalised_madiff',\n       'EDI_Global_normalised_spotvma', 'EDI_Global_normalised_madiff'],\n      dtype='object')\n"
     ]
    }
   ],
   "source": [
    "import numpy as np\n",
    "import pandas as pd\n",
    "from create_model_features import trends_features\n",
    "from copy import deepcopy\n",
    "import datetime\n",
    "################## INSERT CCY You want to RUN\n",
    "ccy = \"EURUSD\"\n",
    "ccy1 = ccy[:3]\n",
    "ccy2 = ccy[3:]\n",
    "edi_location = r\"C:\\Users\\edgil\\Documents\\Masters\\dissertation\\data\\EDI.csv\"\n",
    "esi_location = r\"C:\\Users\\edgil\\Documents\\Masters\\dissertation\\data\\ESI.csv\"\n",
    "features = [\"EDI_\"+ccy1 + ccy2 + \"_spread\", \"EDI_G10_normalised\", \"EDI_Global_normalised\",\n",
    "            \"ESI_\"+ccy1 + ccy2 + \"_spread\", \"ESI_G10_normalised\", \"ESI_Global_normalised\"]\n",
    "EDI = pd.read_csv(edi_location)\n",
    "ESI = pd.read_csv(esi_location)\n",
    "EDI['Date'] =  pd.to_datetime(EDI['Date'], format= '%d/%m/%Y')\n",
    "ESI['Date'] =  pd.to_datetime(ESI['Date'], format= '%d/%m/%Y')\n",
    "EDI['Date'] =  EDI['Date'].dt.date\n",
    "ESI['Date'] =  ESI['Date'].dt.date\n",
    "EDI[\"EDI_\"+ ccy1 + ccy2 + \"_spread\"] = EDI[\"EDI_\" +ccy1 + \"_normalised\"] - EDI[\"EDI_\" +ccy2 + \"_normalised\"]\n",
    "ESI[\"ESI_\"+ ccy1 + ccy2 + \"_spread\"] = ESI[\"ESI_\" +ccy1 + \"_normalised\"] - ESI[\"ESI_\" + ccy2 + \"_normalised\"]\n",
    "EDI_tradable = EDI[[\"EDI_\"+ccy1 + ccy2 + \"_spread\", \"EDI_G10_normalised\", \"EDI_Global_normalised\"]].cumsum()\n",
    "ESI_tradable = ESI[[\"ESI_\"+ccy1 + ccy2 + \"_spread\", \"ESI_G10_normalised\", \"ESI_Global_normalised\"]].cumsum()\n",
    "EDI_tradable['Date'] = EDI['Date']\n",
    "ESI_tradable['Date'] = ESI['Date']\n",
    "short, medium, long, longest, medium_multiplier,long_multplier = 21, 55, 100, 200, 1, 1 # as all in days.\n",
    "for col in features:\n",
    "    if col in list(EDI_tradable.columns):\n",
    "        data = deepcopy(EDI_tradable)\n",
    "        data = trends_features(data,col, short, medium, long,longest,medium_multiplier,long_multplier)\n",
    "        EDI_tradable[col+\"_spotvma\"] = data['spot_v_HF']\n",
    "        EDI_tradable[col+\"_madiff\"] = data['HF_ema_diff']\n",
    "    if col in list(ESI_tradable.columns):\n",
    "        data = deepcopy(ESI_tradable)\n",
    "        data = trends_features(data,col, short, medium, long, longest,medium_multiplier,long_multplier)\n",
    "        ESI_tradable[col+\"_spotvma\"] = data['spot_v_HF']\n",
    "        ESI_tradable[col+\"_madiff\"] = data['HF_ema_diff']\n",
    "print(EDI_tradable.columns)\n",
    "signal_location = r\"C:\\Users\\edgil\\Documents\\Masters\\dissertation\\data\\best_results\\Signals.csv\"\n",
    "signals = pd.read_csv(signal_location)\n",
    "signals['Date'] = pd.to_datetime(signals['Date'], format= '%d/%m/%Y %H:%M')\n",
    "signals['DDMMYY'] = signals['Date'].dt.date # signals['Date'].apply(get_ddmmyy)\n",
    "#signals['DDMMYY'] = pd.to_datetime(signals['DDMMYY'])\n",
    "trend_estimation = signals.groupby('DDMMYY').sum().reset_index(drop = False)\n",
    "# i.e. the average of the ccy kevel across each hour\n",
    "trend_estimation['CCY'] = signals.groupby('DDMMYY').mean().reset_index(drop = False)['CCY']\n",
    "# overwriting the dte arg as its easier to understand\n",
    "trend_estimation['Date'] = trend_estimation['DDMMYY']\n",
    "trend_estimation[ccy1+ccy2 +\"_vol\"] = trend_estimation['CCY'].rolling(60).std()*np.sqrt(260)\n",
    "trend_estimation = pd.merge(trend_estimation,EDI_tradable,how=\"left\" ,on= \"Date\")\n",
    "trend_estimation = pd.merge(trend_estimation,ESI_tradable,how=\"left\" ,on= \"Date\")\n",
    "trend_location = r\"C:\\Users\\edgil\\Documents\\Masters\\dissertation\\data\\best_results\\trendestimation.csv\"\n",
    "trend_estimation.replace(np.nan,0).to_csv(trend_location)"
   ]
  },
  {
   "cell_type": "code",
   "execution_count": 31,
   "metadata": {},
   "outputs": [
    {
     "data": {
      "text/plain": [
       "array([  0.        ,  -0.39104105,  -0.25810771, ...,  -9.83269382,\n       -10.32362597,  -8.81085717])"
      ]
     },
     "execution_count": 31,
     "metadata": {},
     "output_type": "execute_result"
    }
   ],
   "source": [
    "from matplotlib import pyplot as plt\n",
    "# model features\n",
    "features = [\"EDI_\"+ccy1 + ccy2 + \"_spread\", \"EDI_G10_normalised\", \"EDI_Global_normalised\",\n",
    "            \"ESI_\"+ccy1 + ccy2 + \"_spread\", \"ESI_G10_normalised\", \"ESI_Global_normalised\"]\n",
    "\n",
    "trends_features(EDI_tradable,\"EDI_G10_normalised\", short, medium, long, longest,medium_multiplier,\n",
    "                long_multplier)['spot_v_HF'].values"
   ]
  },
  {
   "cell_type": "code",
   "execution_count": 38,
   "metadata": {},
   "outputs": [
    {
     "data": {
      "text/plain": [
       "str"
      ]
     },
     "execution_count": 38,
     "metadata": {},
     "output_type": "execute_result"
    }
   ],
   "source": [
    "x = signals['Date'].loc[1]\n",
    "#datetime.datetime.strptime(x,\"%d/%m/%y HH:MM\")\n",
    "type(x)\n",
    "#datetime.datetime.strftime(x,\"%d/%m/%YY\")"
   ]
  }
 ],
 "metadata": {
  "kernelspec": {
   "display_name": "Python 2",
   "language": "python",
   "name": "python2"
  },
  "language_info": {
   "codemirror_mode": {
    "name": "ipython",
    "version": 2
   },
   "file_extension": ".py",
   "mimetype": "text/x-python",
   "name": "python",
   "nbconvert_exporter": "python",
   "pygments_lexer": "ipython2",
   "version": "2.7.6"
  }
 },
 "nbformat": 4,
 "nbformat_minor": 0
}
