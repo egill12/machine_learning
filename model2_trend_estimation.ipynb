{
 "cells": [
  {
   "cell_type": "code",
   "execution_count": 2,
   "metadata": {
    "collapsed": false
   },
   "outputs": [
    {
     "name": "stderr",
     "output_type": "stream",
     "text": [
      "C:\\Users\\edgil\\Documents\\Masters\\dissertation\\code\\create_model_features.py:29: RuntimeWarning: divide by zero encountered in log\n  data[\"logret\"] = np.log(data[CCY_COL]) - np.log(data[CCY_COL].shift(1))\nC:\\Users\\edgil\\Documents\\Masters\\dissertation\\code\\create_model_features.py:29: RuntimeWarning: invalid value encountered in log\n  data[\"logret\"] = np.log(data[CCY_COL]) - np.log(data[CCY_COL].shift(1))\n"
     ]
    },
    {
     "name": "stdout",
     "output_type": "stream",
     "text": [
      "Index(['EDI_EURUSD_spread', 'EDI_G10_normalised', 'EDI_Global_normalised',\n       'Date', 'EDI_EURUSD_spread_spotvma', 'EDI_EURUSD_spread_madiff',\n       'EDI_G10_normalised_spotvma', 'EDI_G10_normalised_madiff',\n       'EDI_Global_normalised_spotvma', 'EDI_Global_normalised_madiff'],\n      dtype='object')\n"
     ]
    }
   ],
   "source": [
    "import numpy as np\n",
    "import pandas as pd\n",
    "from create_model_features import trends_features\n",
    "from copy import deepcopy\n",
    "import datetime\n",
    "################## INSERT CCY You want to RUN\n",
    "ccy = \"EURUSD\"\n",
    "ccy1 = ccy[:3]\n",
    "ccy2 = ccy[3:]\n",
    "edi_location = r\"C:\\Users\\edgil\\Documents\\Masters\\dissertation\\data\\EDI.csv\"\n",
    "esi_location = r\"C:\\Users\\edgil\\Documents\\Masters\\dissertation\\data\\ESI.csv\"\n",
    "features = [\"EDI_\"+ccy1 + ccy2 + \"_spread\", \"EDI_G10_normalised\", \"EDI_Global_normalised\",\n",
    "            \"ESI_\"+ccy1 + ccy2 + \"_spread\", \"ESI_G10_normalised\", \"ESI_Global_normalised\"]\n",
    "EDI = pd.read_csv(edi_location)\n",
    "ESI = pd.read_csv(esi_location)\n",
    "EDI['Date'] =  pd.to_datetime(EDI['Date'], format= '%d/%m/%Y')\n",
    "ESI['Date'] =  pd.to_datetime(ESI['Date'], format= '%d/%m/%Y')\n",
    "EDI['Date'] =  EDI['Date'].dt.date\n",
    "ESI['Date'] =  ESI['Date'].dt.date\n",
    "EDI[\"EDI_\"+ ccy1 + ccy2 + \"_spread\"] = EDI[\"EDI_\" +ccy1 + \"_normalised\"] - EDI[\"EDI_\" +ccy2 + \"_normalised\"]\n",
    "ESI[\"ESI_\"+ ccy1 + ccy2 + \"_spread\"] = ESI[\"ESI_\" +ccy1 + \"_normalised\"] - ESI[\"ESI_\" + ccy2 + \"_normalised\"]\n",
    "EDI_tradable = EDI[[\"EDI_\"+ccy1 + ccy2 + \"_spread\", \"EDI_G10_normalised\", \"EDI_Global_normalised\"]].cumsum()\n",
    "ESI_tradable = ESI[[\"ESI_\"+ccy1 + ccy2 + \"_spread\", \"ESI_G10_normalised\", \"ESI_Global_normalised\"]].cumsum()\n",
    "EDI_tradable['Date'] = EDI['Date']\n",
    "ESI_tradable['Date'] = ESI['Date']\n",
    "short, medium, long, longest, medium_multiplier,long_multplier = 21, 55, 100, 200, 1, 1 # as all in days.\n",
    "for col in features:\n",
    "    if col in list(EDI_tradable.columns):\n",
    "        data = deepcopy(EDI_tradable)\n",
    "        data = trends_features(data,col, short, medium, long,longest,medium_multiplier,long_multplier)\n",
    "        EDI_tradable[col+\"_spotvma\"] = data['spot_v_HF']\n",
    "        EDI_tradable[col+\"_madiff\"] = data['HF_ema_diff']\n",
    "    if col in list(ESI_tradable.columns):\n",
    "        data = deepcopy(ESI_tradable)\n",
    "        data = trends_features(data,col, short, medium, long, longest,medium_multiplier,long_multplier)\n",
    "        ESI_tradable[col+\"_spotvma\"] = data['spot_v_HF']\n",
    "        ESI_tradable[col+\"_madiff\"] = data['HF_ema_diff']\n",
    "print(EDI_tradable.columns)\n",
    "signal_location = r\"C:\\Users\\edgil\\Documents\\Masters\\dissertation\\data\\best_results\\Signals.csv\"\n",
    "signals = pd.read_csv(signal_location)\n",
    "signals['Date'] = pd.to_datetime(signals['Date'], format= '%d/%m/%Y %H:%M')\n",
    "signals['DDMMYY'] = signals['Date'].dt.date # signals['Date'].apply(get_ddmmyy)\n",
    "#signals['DDMMYY'] = pd.to_datetime(signals['DDMMYY'])\n",
    "trend_estimation = signals.groupby('DDMMYY').sum().reset_index(drop = False)\n",
    "# i.e. the average of the ccy kevel across each hour\n",
    "trend_estimation['CCY'] = signals.groupby('DDMMYY').mean().reset_index(drop = False)['CCY']\n",
    "# overwriting the dte arg as its easier to understand\n",
    "trend_estimation['Date'] = trend_estimation['DDMMYY']\n",
    "trend_estimation[ccy1+ccy2 +\"_vol\"] = trend_estimation['logret'].rolling(60).std()*np.sqrt(260)\n",
    "trend_estimation = pd.merge(trend_estimation,EDI_tradable,how=\"left\" ,on= \"Date\")\n",
    "trend_estimation = pd.merge(trend_estimation,ESI_tradable,how=\"left\" ,on= \"Date\")\n",
    "trend_location = r\"C:\\Users\\edgil\\Documents\\Masters\\dissertation\\data\\best_results\\trendestimation.csv\"\n",
    "trend_estimation.replace(np.nan,0).to_csv(trend_location)"
   ]
  },
  {
   "cell_type": "code",
   "execution_count": 31,
   "metadata": {},
   "outputs": [
    {
     "data": {
      "text/plain": [
       "array([  0.        ,  -0.39104105,  -0.25810771, ...,  -9.83269382,\n       -10.32362597,  -8.81085717])"
      ]
     },
     "execution_count": 31,
     "metadata": {},
     "output_type": "execute_result"
    }
   ],
   "source": [
    "from matplotlib import pyplot as plt\n",
    "# model features\n",
    "features = [\"EDI_\"+ccy1 + ccy2 + \"_spread\", \"EDI_G10_normalised\", \"EDI_Global_normalised\",\n",
    "            \"ESI_\"+ccy1 + ccy2 + \"_spread\", \"ESI_G10_normalised\", \"ESI_Global_normalised\"]\n"
   ]
  },
  {
   "cell_type": "code",
   "execution_count": 3,
   "metadata": {},
   "outputs": [
    {
     "name": "stderr",
     "output_type": "stream",
     "text": [
      "C:\\Users\\edgil\\AppData\\Local\\Programs\\Python\\Python36\\lib\\site-packages\\ipykernel_launcher.py:24: SettingWithCopyWarning: \nA value is trying to be set on a copy of a slice from a DataFrame.\nTry using .loc[row_indexer,col_indexer] = value instead\n\nSee the caveats in the documentation: http://pandas.pydata.org/pandas-docs/stable/indexing.html#indexing-view-versus-copy\n"
     ]
    }
   ],
   "source": [
    "# next steps--> creating an engine to run a rf on the 1 month head returns of the startegy based on the features\n",
    "# use var imp type module.\n",
    "from model_functions import standardise_data\n",
    "from sklearn.preprocessing import StandardScaler\n",
    "from model_functions import create_train_test_file\n",
    "from run_decision_tree import set_params_trend_estimate\n",
    "trend_estimate_dict = set_params_trend_estimate()\n",
    "trade_horizon = trend_estimate_dict['trade_horizon'] # roughly 1 month ahead.\n",
    "std_window = trend_estimate_dict['std_window'] # 1 year\n",
    "train_size = trend_estimate_dict['train_size']# no. data points in the train\n",
    "test_split = trend_estimate_dict['test_split']\n",
    "test_buffer = trend_estimate_dict['test_buffer']\n",
    "concat_results = False\n",
    "trend_strats = [\"Linear\",\"SVM_erf\",\"RF_erf\",\"LSTM1_erf\",\"LSTM2_erf\"]\n",
    "T_features = [\"ESI_EURUSD_spread_spotvma\", \"ESI_EURUSD_spread_madiff\",       \"ESI_G10_normalised_spotvma\",\n",
    "                   \"ESI_G10_normalised_madiff\", \"ESI_Global_normalised_spotvma\", \"ESI_Global_normalised_madiff\",\n",
    "                   \"EDI_EURUSD_spread_spotvma\", \"EDI_EURUSD_spread_madiff\",       \"EDI_G10_normalised_spotvma\",\n",
    "                   \"EDI_G10_normalised_madiff\", \"EDI_Global_normalised_spotvma\",  \"EDI_Global_normalised_madiff\"]\n",
    "\n",
    "feats = deepcopy(T_features)\n",
    "feats.append(\"Date\")\n",
    "feats.append(\"SVM_erf\")\n",
    "# now kick off the learning approach\n",
    "df = trend_estimation[feats]\n",
    "df['target'] = df[\"SVM_erf\"].iloc[::-1].shift(2).rolling(trade_horizon).sum().values[::-1]\n",
    "# maybe best to standardise on the skleanr methos\n",
    "# df = standardise_data(df, feats, T_features , std_window)\n",
    "data_size = int(df.shape[0]*train_size) # data size implies the size of the training set\n",
    "train, test = create_train_test_file(df, data_size, test_split, test_buffer, concat_results)"
   ]
  },
  {
   "cell_type": "code",
   "execution_count": 6,
   "metadata": {},
   "outputs": [
    {
     "ename": "TypeError",
     "evalue": "fit_transform() missing 1 required positional argument: 'X'",
     "traceback": [
      "\u001b[1;31m---------------------------------------------------------------------------\u001b[0m",
      "\u001b[1;31mTypeError\u001b[0m                                 Traceback (most recent call last)",
      "\u001b[1;32m<ipython-input-6-b95cd42267da>\u001b[0m in \u001b[0;36m<module>\u001b[1;34m\u001b[0m\n\u001b[1;32m----> 1\u001b[1;33m \u001b[0mtrain_sample\u001b[0m \u001b[1;33m=\u001b[0m \u001b[0mStandardScaler\u001b[0m\u001b[1;33m.\u001b[0m\u001b[0mfit_transform\u001b[0m\u001b[1;33m(\u001b[0m\u001b[0mtrain\u001b[0m\u001b[1;33m[\u001b[0m\u001b[0mT_features\u001b[0m\u001b[1;33m]\u001b[0m\u001b[1;33m)\u001b[0m\u001b[1;33m\u001b[0m\u001b[0m\n\u001b[0m\u001b[0;32m      2\u001b[0m \u001b[0mtrain_sample\u001b[0m\u001b[1;33m[\u001b[0m\u001b[1;34m'target'\u001b[0m\u001b[1;33m]\u001b[0m \u001b[1;33m=\u001b[0m \u001b[0mtrain\u001b[0m\u001b[1;33m[\u001b[0m\u001b[1;34m'target'\u001b[0m\u001b[1;33m]\u001b[0m\u001b[1;33m\u001b[0m\u001b[0m\n\u001b[0;32m      3\u001b[0m \u001b[0mtest_sample\u001b[0m \u001b[1;33m=\u001b[0m \u001b[0mStandardScaler\u001b[0m\u001b[1;33m.\u001b[0m\u001b[0mtransform\u001b[0m\u001b[1;33m(\u001b[0m\u001b[0mtest\u001b[0m\u001b[1;33m[\u001b[0m\u001b[0mT_features\u001b[0m\u001b[1;33m]\u001b[0m\u001b[1;33m)\u001b[0m\u001b[1;33m\u001b[0m\u001b[0m\n\u001b[0;32m      4\u001b[0m \u001b[1;33m\u001b[0m\u001b[0m\n\u001b[0;32m      5\u001b[0m \u001b[1;31m#decision_tree(train_sample, test_sample,use_classifier, use_risk_adjusted,ntree, max_features)\u001b[0m\u001b[1;33m\u001b[0m\u001b[1;33m\u001b[0m\u001b[0m\n",
      "\u001b[1;31mTypeError\u001b[0m: fit_transform() missing 1 required positional argument: 'X'"
     ],
     "output_type": "error"
    }
   ],
   "source": [
    "train_sample = StandardScaler.fit_transform(train[T_features])\n",
    "train_sample['target'] = train['target']\n",
    "test_sample = StandardScaler.transform(test[T_features])\n",
    "test_sample['target'] = test['target']\n",
    "rf_dict = set_params_random_forests()\n",
    "ntree = rf_dict['ntree']\n",
    "max_features = rf_dict['max_features']\n",
    "decision_tree(train_sample, test_sample,use_classifier, use_risk_adjusted,ntree, max_features)"
   ]
  }
 ],
 "metadata": {
  "kernelspec": {
   "display_name": "Python 2",
   "language": "python",
   "name": "python2"
  },
  "language_info": {
   "codemirror_mode": {
    "name": "ipython",
    "version": 2
   },
   "file_extension": ".py",
   "mimetype": "text/x-python",
   "name": "python",
   "nbconvert_exporter": "python",
   "pygments_lexer": "ipython2",
   "version": "2.7.6"
  }
 },
 "nbformat": 4,
 "nbformat_minor": 0
}
