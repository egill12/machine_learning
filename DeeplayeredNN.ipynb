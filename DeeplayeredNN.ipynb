{
 "cells": [
  {
   "cell_type": "code",
   "execution_count": 3,
   "metadata": {
    "collapsed": true
   },
   "outputs": [],
   "source": [
    "import numpy as np"
   ]
  },
  {
   "cell_type": "code",
   "execution_count": 4,
   "metadata": {},
   "outputs": [],
   "source": [
    "# sigmoid fn\n",
    "def nonlin(x, deriv = False):\n",
    "    if(deriv==True):\n",
    "        return x*(1-x)\n",
    "    return 1/(1+np.exp(-x))"
   ]
  },
  {
   "cell_type": "code",
   "execution_count": 96,
   "metadata": {},
   "outputs": [],
   "source": [
    "X = np.array([[0, 0, 1], [0, 1, 1], [1, 0, 1], [1, 1, 1]])\n",
    "y = np.array([[0, .75, .90, 0]])\n",
    "np.random.seed(10)\n",
    "# this has three weights to match the input features\n",
    "# for each row vector\n",
    "syn0 = 2*np.random.random((3,4)) - 1\n",
    "# weights of the second hidden network\n",
    "# this has 4 rows, sa we multiply the observations by a final set of\n",
    "# weights across the obversations, so this weight updates for each \n",
    "# obversation.\n",
    "syn1 = 2*np.random.random((4,1)) - 1\n",
    "first_ovbs = []"
   ]
  },
  {
   "cell_type": "code",
   "execution_count": 97,
   "metadata": {},
   "outputs": [],
   "source": [
    "# iterate through as far as poss\n",
    "for i in range(0,10000):\n",
    "    # input layer, 4 obvs and 3 features\n",
    "    l0 = X\n",
    "    # hidden layer. we calculate the matrix product of synapse weights\n",
    "    # and the input values. gives us a 4x4 matrix which we then use the sigmoid fn\n",
    "    # to mult by the next layer of weights\n",
    "    # this will be a 4x4 by 4x1, this gives a final 4x1 output matrix \n",
    "    l1 = nonlin(np.dot(l0,syn0))\n",
    "    l2 = nonlin(np.dot(l1,syn1))\n",
    "    # this should converge to 1 (y value)\n",
    "    first_ovbs.append(l2[0][0])\n",
    "    # find error of our predictions\n",
    "    l2_error = y.T - l2\n",
    "    # find out where we are on the sigmoid function and what the slope is at that point\n",
    "    # given we only look at the slope, then if it is at either side of the \n",
    "    # sigmoid, the update will be small? i.e. if we are v incorrect \n",
    "    # then we never get to a good solution?\n",
    "    l2_delta = l2_error*nonlin(l2, deriv = True)\n",
    "    # we also need to find out the update needed to l1\n",
    "    l1_error = l2_delta.dot(syn1.T)\n",
    "    # get the update needed\n",
    "    l1_delta = l1_error*nonlin(l1, deriv = True)\n",
    "    # update the weights as needed\n",
    "    # here we adjust the weights of the synapse by the input values and\n",
    "    # the slope of the direction from the sigmoid function\n",
    "    syn0 += np.dot(l0.T, l1_delta) \n",
    "    syn1 += np.dot(l1.T, l2_delta)\n",
    "    i += 1\n"
   ]
  },
  {
   "cell_type": "code",
   "execution_count": 98,
   "metadata": {},
   "outputs": [
    {
     "data": {
      "image/png": "[encoded data removed]",
      "text/plain": [
       "<matplotlib.figure.Figure at 0xa0c9ff0>"
      ]
     },
     "metadata": {},
     "output_type": "display_data"
    }
   ],
   "source": [
    "from matplotlib import pyplot as plt\n",
    "plt.plot(first_ovbs)\n",
    "plt.show()\n",
    "#np.dot(X,syn0)"
   ]
  },
  {
   "cell_type": "code",
   "execution_count": 99,
   "metadata": {},
   "outputs": [],
   "source": [
    "# input layer, 4 obvs and 3 features\n",
    "l0 = X\n",
    "# hidden layer. we calculate the matrix product of synapse weights\n",
    "# and the input values. gives us a 4x1 matrix which we then use the sigmoid fn\n",
    "# to get to the output layer, this gives a 4x1 matrix \n",
    "l1 = nonlin(np.dot(l0,syn0))\n",
    "l2 = nonlin(np.dot(l1,syn1))\n"
   ]
  },
  {
   "cell_type": "code",
   "execution_count": 100,
   "metadata": {},
   "outputs": [
    {
     "data": {
      "text/plain": [
       "array([[0.00731246],\n       [0.74948426],\n       [0.89966541],\n       [0.00895585]])"
      ]
     },
     "execution_count": 100,
     "metadata": {},
     "output_type": "execute_result"
    }
   ],
   "source": [
    "lay1 = nonlin(X.dot(syn0))\n",
    "lay2 = nonlin(lay1.dot(syn1))\n",
    "lay2"
   ]
  },
  {
   "cell_type": "code",
   "execution_count": 102,
   "metadata": {},
   "outputs": [
    {
     "data": {
      "text/plain": [
       "<matplotlib.collections.PathCollection at 0xc19dfb0>"
      ]
     },
     "execution_count": 102,
     "metadata": {},
     "output_type": "execute_result"
    },
    {
     "data": {
      "image/png": "[encoded data removed]",
      "text/plain": [
       "<matplotlib.figure.Figure at 0xc1533b0>"
      ]
     },
     "metadata": {},
     "output_type": "display_data"
    }
   ],
   "source": [
    "plt.scatter(y,lay2)"
   ]
  }
 ],
 "metadata": {
  "kernelspec": {
   "display_name": "Python 2",
   "language": "python",
   "name": "python2"
  },
  "language_info": {
   "codemirror_mode": {
    "name": "ipython",
    "version": 2
   },
   "file_extension": ".py",
   "mimetype": "text/x-python",
   "name": "python",
   "nbconvert_exporter": "python",
   "pygments_lexer": "ipython2",
   "version": "2.7.6"
  }
 },
 "nbformat": 4,
 "nbformat_minor": 0
}
