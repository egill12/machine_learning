{
 "cells": [
  {
   "cell_type": "code",
   "execution_count": 2,
   "metadata": {
    "collapsed": true
   },
   "outputs": [],
   "source": [
    "import pandas as pd\n",
    "import numpy as np\n",
    "import matplotlib.pyplot as plt\n",
    "# Decision trees\n",
    "from sklearn import tree\n",
    "from sklearn.ensemble import RandomForestClassifier\n",
    "from sklearn import metrics\n",
    "#import graphviz\n",
    "import os"
   ]
  },
  {
   "cell_type": "code",
   "execution_count": 27,
   "metadata": {},
   "outputs": [],
   "source": [
    "# Set up the data that we want to create a DT on.\n",
    "# import the fx data , econ and value data for EURUSD.\n",
    "# then create the features (on trend and econ data) standardise and run a DT on the x_train sample.\n",
    "# what is  target? 1 day ahead or long days ahead? trade on binary data.\n",
    "csv_file = {\"FXData\" : r\"C:\\Users\\edgil\\Documents\\Masters\\dissertation\\data\\CurrencyData.csv\",\n",
    "            \"ValueData\" : r\"\",\n",
    "            \"EconData\" : r\"\",\n",
    "            }\n",
    "fxdata = pd.read_csv(csv_file[\"FXData\"])"
   ]
  },
  {
   "cell_type": "code",
   "execution_count": 29,
   "metadata": {},
   "outputs": [],
   "source": [
    "# use this to make sure the dates are imported correctly as UK dates\n",
    "fxdata['Date'] = pd.to_datetime(fxdata['Date'], format= '%d/%m/%Y %H:%M')\n",
    "# Separate out the EURUSD factor\n",
    "eurusd = fxdata[[\"Date\", \"EURUSD\"]]\n"
   ]
  },
  {
   "cell_type": "code",
   "execution_count": 75,
   "metadata": {},
   "outputs": [],
   "source": [
    "# Build out the featur set on price, this may need to be created using funcional process.\n",
    "eurusd[\"logret\"] = np.log(eurusd[\"EURUSD\"]) - np.log(eurusd[\"EURUSD\"].shift(1))\n",
    "# Standardising the daily rets and accumulating the standardised returns, or should we sum the % ret and standardise by its own history\n",
    "# is difference between different accumulated retusn horizons the same as the macd?\n",
    "# should we standardise by the 1 year forward vol?\n",
    "targetlkbk = 5\n",
    "lkbk1M = 22\n",
    "lkbk3M = 66\n",
    "lkbk6M = 132\n",
    "lkbk9M = 198\n",
    "eurusd['1MRet'] = eurusd[\"logret\"].rolling(lkbk1M).sum()\n",
    "eurusd['3MRet'] = eurusd[\"logret\"].rolling(lkbk3M).sum()\n",
    "eurusd['6MRet'] = eurusd[\"logret\"].rolling(lkbk6M).sum()\n",
    "eurusd['9MRet'] = eurusd[\"logret\"].rolling(lkbk9M).sum()\n",
    "eurusd['1Mv3MRet'] = eurusd[\"1MRet\"].sub(eurusd[\"3MRet\"])\n",
    "eurusd['1Mv6MRet'] = eurusd[\"1MRet\"].sub(eurusd[\"6MRet\"])\n",
    "# create a target vector to train on.\n",
    "# must think deeply about what this will look like\n",
    "# to start, this is a 1M forard return calculation, is it right to use overlapping 1M fwd rets? it seems not...\n",
    "eurusd[\"target\"] = eurusd['logret'].iloc[::-1].rolling(targetlkbk).sum().values[::-1]\n",
    "eurusd['target_binary'] = eurusd['target'].apply(np.sign) "
   ]
  },
  {
   "cell_type": "code",
   "execution_count": 76,
   "metadata": {},
   "outputs": [],
   "source": [
    "# Very important step is to truncate the data so that we do not see the last 1 year of data.\n",
    "# Q. should we not have a rollign window type of model? or just always aggregate the data from the start?\n",
    "# how ong is testing? we should we the train and test to sizes which make sense to the type of model we use going forward.\n",
    "eurusd = eurusd.loc[eurusd['Date'] < \"2018-01-01 00:00\"]\n",
    "# train size should be at least 5 years?\n",
    "eurusd_train = eurusd.loc[eurusd['Date'] < \"2010-01-01 00:00\"]\n",
    "eurusd_test = eurusd.loc[eurusd['Date'] > \"2010-02-01 00:00\"]\n",
    "# create a target vector to train on.\n",
    "# must think deeply about what this will look like\n",
    "\n"
   ]
  },
  {
   "cell_type": "code",
   "execution_count": 83,
   "metadata": {
    "collapsed": false
   },
   "outputs": [
    {
     "name": "stdout",
     "output_type": "stream",
     "text": [
      "      EURUSD    logret     1MRet  3MRet  6MRet  9MRet  1Mv3MRet  1Mv6MRet\n0  -0.857575       NaN       NaN    NaN    NaN    NaN       NaN       NaN\n1  -0.857575 -0.004084       NaN    NaN    NaN    NaN       NaN       NaN\n2  -0.834812  3.374106       NaN    NaN    NaN    NaN       NaN       NaN\n3  -0.834812 -0.004084       NaN    NaN    NaN    NaN       NaN       NaN\n4  -0.838484 -0.547908       NaN    NaN    NaN    NaN       NaN       NaN\n5  -0.838484 -0.004084       NaN    NaN    NaN    NaN       NaN       NaN\n6  -0.837750  0.104713       NaN    NaN    NaN    NaN       NaN       NaN\n7  -0.837750 -0.004084       NaN    NaN    NaN    NaN       NaN       NaN\n8  -0.853169 -2.292195       NaN    NaN    NaN    NaN       NaN       NaN\n9  -0.853169 -0.004084       NaN    NaN    NaN    NaN       NaN       NaN\n10 -0.863449 -1.533444       NaN    NaN    NaN    NaN       NaN       NaN\n11 -0.863449 -0.004084       NaN    NaN    NaN    NaN       NaN       NaN\n12 -0.879359 -2.377221       NaN    NaN    NaN    NaN       NaN       NaN\n13 -0.879359 -0.004084       NaN    NaN    NaN    NaN       NaN       NaN\n14 -0.877401  0.288407       NaN    NaN    NaN    NaN       NaN       NaN\n15 -0.877401 -0.004084       NaN    NaN    NaN    NaN       NaN       NaN\n16 -0.843379  5.059514       NaN    NaN    NaN    NaN       NaN       NaN\n17 -0.843379 -0.004084       NaN    NaN    NaN    NaN       NaN       NaN\n18 -0.824532  2.786039       NaN    NaN    NaN    NaN       NaN       NaN\n19 -0.824532 -0.004084       NaN    NaN    NaN    NaN       NaN       NaN\n20 -0.782189  6.226400       NaN    NaN    NaN    NaN       NaN       NaN\n21 -0.782189 -0.004084       NaN    NaN    NaN    NaN       NaN       NaN\n22 -0.795406 -1.943215  1.947552    NaN    NaN    NaN       NaN       NaN\n23 -0.795406 -0.004084  1.947552    NaN    NaN    NaN       NaN       NaN\n24 -0.802994 -1.119597  0.985839    NaN    NaN    NaN       NaN       NaN\n25 -0.802994 -0.004084  0.985839    NaN    NaN    NaN       NaN       NaN\n26 -0.798343  0.679818  1.248589    NaN    NaN    NaN       NaN       NaN\n27 -0.798343 -0.004084  1.248589    NaN    NaN    NaN       NaN       NaN\n28 -0.798098  0.031893  1.233005    NaN    NaN    NaN       NaN       NaN\n29 -0.798098 -0.004084  1.233005    NaN    NaN    NaN       NaN       NaN\n30 -0.800301 -0.327942  1.653381    NaN    NaN    NaN       NaN       NaN\n31 -0.800301 -0.004084  1.653381    NaN    NaN    NaN       NaN       NaN\n32 -0.794916  0.787319  2.150056    NaN    NaN    NaN       NaN       NaN\n33 -0.794916 -0.004084  2.150056    NaN    NaN    NaN       NaN       NaN\n34 -0.807644 -1.876043  2.257315    NaN    NaN    NaN       NaN       NaN\n35 -0.807644 -0.004084  2.257315    NaN    NaN    NaN       NaN       NaN\n36 -0.764321  6.348435  3.554243    NaN    NaN    NaN       NaN       NaN\n37 -0.764321 -0.004084  3.554243    NaN    NaN    NaN       NaN       NaN\n38 -0.765545 -0.182785  2.432320    NaN    NaN    NaN       NaN       NaN\n39 -0.765545 -0.004084  2.432320    NaN    NaN    NaN       NaN       NaN\n40 -0.773867 -1.220398  1.574888    NaN    NaN    NaN       NaN       NaN\n41 -0.773867 -0.004084  1.574888    NaN    NaN    NaN       NaN       NaN\n42 -0.771420  0.353864  0.318085    NaN    NaN    NaN       NaN       NaN\n43 -0.771420 -0.004084  0.318085    NaN    NaN    NaN       NaN       NaN\n44 -0.774357 -0.433642  0.641155    NaN    NaN    NaN       NaN       NaN\n45 -0.774357 -0.004084  0.641155    NaN    NaN    NaN       NaN       NaN\n46 -0.773867  0.067527  0.895215    NaN    NaN    NaN       NaN       NaN\n47 -0.773867 -0.004084  0.895215    NaN    NaN    NaN       NaN       NaN\n48 -0.777539 -0.541332  0.633872    NaN    NaN    NaN       NaN       NaN\n49 -0.777539 -0.004084  0.633872    NaN    NaN    NaN       NaN       NaN\n"
     ]
    }
   ],
   "source": [
    "print(eurusd_train_normed.head(50))\n",
    "# Standardise the data using sklearn\n",
    "from sklearn.preprocessing import StandardScaler\n",
    "scaler = StandardScaler()\n",
    "# standardise the data now.\n",
    "# remove dates\n",
    "data_cols = [col for col in eurusd_train.columns if col not in [\"Date\", \"target\", \"target_binary\"]]\n",
    "data_train = eurusd_train.loc[:, data_cols]\n",
    "data_test = eurusd_test.loc[:, data_cols]\n",
    "eurusd_train_normed = pd.DataFrame(scaler.fit_transform(data_train), columns = list(data_train.columns))\n",
    "eurusd_test_normed = pd.DataFrame(scaler.transform(data_test), columns = list(data_test.columns)) "
   ]
  },
  {
   "cell_type": "code",
   "execution_count": 84,
   "metadata": {},
   "outputs": [],
   "source": [
    "#### This is where we choose and set up the models!\n",
    "# need to re do the models here.\n",
    "X = eurusd_train_normed\n",
    "Y = eurusd_train[\"target_binary\"]\n",
    "X_test = eurusd_test_normed\n",
    "Y_test = eurusd_test[\"target_binary\"]\n",
    "# clean the data and nan values\n",
    "X = X.replace(np.nan, 0)\n",
    "Y = Y.replace(np.nan, 0)\n",
    "X_test = X_test.replace(np.nan, 0)\n",
    "Y_test = Y_test.replace(np.nan, 0)\n",
    "RF = RandomForestClassifier(n_estimators = 150, max_features = 5)\n",
    "RF.fit(X, Y)\n",
    "clf = tree.DecisionTreeClassifier()\n",
    "clf = clf.fit(X, Y)"
   ]
  },
  {
   "cell_type": "code",
   "execution_count": 86,
   "metadata": {},
   "outputs": [
    {
     "data": {
      "text/plain": [
       "array([0.13750854, 0.20331236, 0.10579135, 0.10831787, 0.10659457,\n       0.12786601, 0.10707631, 0.10353298])"
      ]
     },
     "execution_count": 86,
     "metadata": {},
     "output_type": "execute_result"
    }
   ],
   "source": [
    "clf.feature_importances_"
   ]
  },
  {
   "cell_type": "code",
   "execution_count": 81,
   "metadata": {},
   "outputs": [
    {
     "name": "stdout",
     "output_type": "stream",
     "text": [
      "['EURUSD', 'logret', '1MRet', '3MRet', '6MRet', '9MRet', '1Mv3MRet', '1Mv6MRet']\n"
     ]
    }
   ],
   "source": [
    "# Rough work\n",
    "#eurusd = eurusd.replace(np.nan, 0)\n",
    "#print(eurusd.tail(25))\n",
    "#eurusd[\"target\"] = eurusd['logret'].iloc[::-1].rolling(2).sum().values[::-1]\n",
    "#print(eurusd.head(10))\n",
    "data_cols = [col for col in eurusd_train.columns if col not in [\"Date\", \"target\", \"target_binary\"]]\n",
    "print(data_cols)"
   ]
  }
 ],
 "metadata": {
  "kernelspec": {
   "display_name": "Python 2",
   "language": "python",
   "name": "python2"
  },
  "language_info": {
   "codemirror_mode": {
    "name": "ipython",
    "version": 2
   },
   "file_extension": ".py",
   "mimetype": "text/x-python",
   "name": "python",
   "nbconvert_exporter": "python",
   "pygments_lexer": "ipython2",
   "version": "2.7.6"
  }
 },
 "nbformat": 4,
 "nbformat_minor": 0
}
