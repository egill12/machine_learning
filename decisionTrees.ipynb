{
 "cells": [
  {
   "cell_type": "code",
   "execution_count": 2,
   "metadata": {
    "collapsed": true
   },
   "outputs": [],
   "source": [
    "import pandas as pd\n",
    "import numpy as np\n",
    "import matplotlib.pyplot as plt\n",
    "# Decision trees\n",
    "from sklearn import tree\n",
    "from sklearn.ensemble import RandomForestClassifier\n",
    "from sklearn import metrics\n",
    "#import graphviz\n",
    "import os"
   ]
  },
  {
   "cell_type": "code",
   "execution_count": 27,
   "metadata": {},
   "outputs": [],
   "source": [
    "# Set up the data that we want to create a DT on.\n",
    "# import the fx data , econ and value data for EURUSD.\n",
    "# then create the features (on trend and econ data) standardise and run a DT on the x_train sample.\n",
    "# what is  target? 1 day ahead or long days ahead? trade on binary data.\n",
    "csv_file = {\"FXData\" : r\"C:\\Users\\edgil\\Documents\\Masters\\dissertation\\data\\CurrencyData.csv\",\n",
    "            \"ValueData\" : r\"\",\n",
    "            \"EconData\" : r\"\",\n",
    "            }\n",
    "fxdata = pd.read_csv(csv_file[\"FXData\"])"
   ]
  },
  {
   "cell_type": "code",
   "execution_count": 29,
   "metadata": {},
   "outputs": [],
   "source": [
    "# use this to make sure the dates are imported correctly as UK dates\n",
    "fxdata['Date'] = pd.to_datetime(fxdata['Date'], format= '%d/%m/%Y %H:%M')\n",
    "# Separate out the EURUSD factor\n",
    "eurusd = fxdata[[\"Date\", \"EURUSD\"]]\n"
   ]
  },
  {
   "cell_type": "code",
   "execution_count": 40,
   "metadata": {},
   "outputs": [
    {
     "name": "stderr",
     "output_type": "stream",
     "text": [
      "C:\\Users\\edgil\\AppData\\Local\\Programs\\Python\\Python36\\lib\\site-packages\\ipykernel_launcher.py:2: SettingWithCopyWarning: \nA value is trying to be set on a copy of a slice from a DataFrame.\nTry using .loc[row_indexer,col_indexer] = value instead\n\nSee the caveats in the documentation: http://pandas.pydata.org/pandas-docs/stable/indexing.html#indexing-view-versus-copy\n  \nC:\\Users\\edgil\\AppData\\Local\\Programs\\Python\\Python36\\lib\\site-packages\\ipykernel_launcher.py:10: SettingWithCopyWarning: \nA value is trying to be set on a copy of a slice from a DataFrame.\nTry using .loc[row_indexer,col_indexer] = value instead\n\nSee the caveats in the documentation: http://pandas.pydata.org/pandas-docs/stable/indexing.html#indexing-view-versus-copy\n  # Remove the CWD from sys.path while we load stuff.\nC:\\Users\\edgil\\AppData\\Local\\Programs\\Python\\Python36\\lib\\site-packages\\ipykernel_launcher.py:11: SettingWithCopyWarning: \nA value is trying to be set on a copy of a slice from a DataFrame.\nTry using .loc[row_indexer,col_indexer] = value instead\n\nSee the caveats in the documentation: http://pandas.pydata.org/pandas-docs/stable/indexing.html#indexing-view-versus-copy\n  # This is added back by InteractiveShellApp.init_path()\nC:\\Users\\edgil\\AppData\\Local\\Programs\\Python\\Python36\\lib\\site-packages\\ipykernel_launcher.py:12: SettingWithCopyWarning: \nA value is trying to be set on a copy of a slice from a DataFrame.\nTry using .loc[row_indexer,col_indexer] = value instead\n\nSee the caveats in the documentation: http://pandas.pydata.org/pandas-docs/stable/indexing.html#indexing-view-versus-copy\n  if sys.path[0] == '':\nC:\\Users\\edgil\\AppData\\Local\\Programs\\Python\\Python36\\lib\\site-packages\\ipykernel_launcher.py:13: SettingWithCopyWarning: \nA value is trying to be set on a copy of a slice from a DataFrame.\nTry using .loc[row_indexer,col_indexer] = value instead\n\nSee the caveats in the documentation: http://pandas.pydata.org/pandas-docs/stable/indexing.html#indexing-view-versus-copy\n  del sys.path[0]\n"
     ]
    },
    {
     "name": "stderr",
     "output_type": "stream",
     "text": [
      "C:\\Users\\edgil\\AppData\\Local\\Programs\\Python\\Python36\\lib\\site-packages\\ipykernel_launcher.py:14: SettingWithCopyWarning: \nA value is trying to be set on a copy of a slice from a DataFrame.\nTry using .loc[row_indexer,col_indexer] = value instead\n\nSee the caveats in the documentation: http://pandas.pydata.org/pandas-docs/stable/indexing.html#indexing-view-versus-copy\n  \n"
     ]
    }
   ],
   "source": [
    "# Build out the featur set on price, this may need to be created using funcional process.\n",
    "eurusd[\"logret\"] = np.log(eurusd[\"EURUSD\"]) - np.log(eurusd[\"EURUSD\"].shift(1))\n",
    "# Standardising the daily rets and accumulating the standardised returns, or should we sum the % ret and standardise by its own history\n",
    "# is difference between different accumulated retusn horizons the same as the macd?\n",
    "# should we standardise by the 1 year forward vol?\n",
    "lkbk1M = 22\n",
    "lkbk3M = 66\n",
    "lkbk6M = 132\n",
    "lkbk9M = 198\n",
    "eurusd['1MRet'] = eurusd[\"logret\"].rolling(lkbk1M).sum()\n",
    "eurusd['3MRet'] = eurusd[\"logret\"].rolling(lkbk3M).sum()\n",
    "eurusd['6MRet'] = eurusd[\"logret\"].rolling(lkbk6M).sum()\n",
    "eurusd['9MRet'] = eurusd[\"logret\"].rolling(lkbk9M).sum()\n",
    "eurusd['1Mv3MRet'] = eurusd[\"1MRet\"].sub(eurusd[\"3MRet\"])\n",
    "eurusd['1Mv6MRet'] = eurusd[\"1MRet\"].sub(eurusd[\"6MRet\"])"
   ]
  },
  {
   "cell_type": "code",
   "execution_count": 51,
   "metadata": {},
   "outputs": [
    {
     "name": "stdout",
     "output_type": "stream",
     "text": [
      "                      Date   EURUSD    logret     1MRet     3MRet     6MRet  \\\n112675 2017-12-29 19:00:00  1.20140 -0.000666  0.006179  0.012648  0.013154   \n112676 2017-12-29 20:00:00  1.20095 -0.000375  0.005553  0.012442  0.013117   \n112677 2017-12-29 21:00:00  1.19980 -0.000958  0.004971  0.011231  0.011990   \n112678 2017-12-29 22:00:00  1.20035  0.000458  0.005346  0.011690  0.012955   \n112679 2017-12-29 23:00:00  1.20035  0.000000  0.004885  0.010763  0.013039   \n\n           9MRet  1Mv3MRet  1Mv6MRet  \n112675  0.015518 -0.006470 -0.006976  \n112676  0.015313 -0.006890 -0.007564  \n112677  0.015793 -0.006260 -0.007019  \n112678  0.016252 -0.006344 -0.007609  \n112679  0.015236 -0.005877 -0.008154  \n"
     ]
    }
   ],
   "source": [
    "# Standardise the data using sklearn\n",
    "from sklearn.preprocessing import StandardScaler\n",
    "# Very important step is to truncate the data so that we do not see the last 1 year of data.\n",
    "# Q. should we not have a rollign window type of model? or just always aggregate the data from the start?\n",
    "# how ong is testing? we should we the train and test to sizes which make sense to the type of model we use going forward.\n",
    "eurusd = eurusd.loc[eurusd['Date'] < \"2018-01-01 00:00\"]\n",
    "# train size should be at least 5 years?\n",
    "eurusd_train = eurusd.loc[eurusd['Date'] < \"2010-01-01 00:00\"]\n",
    "eurusd_test = eurusd.loc[eurusd['Date'] > \"2010-02-01 00:00\"]"
   ]
  },
  {
   "cell_type": "code",
   "execution_count": null,
   "metadata": {},
   "outputs": [],
   "source": [
    "X_test, Y_test = X_test_norm, Y_test # we need to change the X_test to pca version \n",
    "                                     # if using that (X_test_norm,principalDf_test, X_test_norm\n",
    "X , Y = X_train, y_train # set X_train = principalDf\n",
    "#### This is where we choose and set up the models!\n",
    "RF = RandomForestClassifier(n_estimators=150,max_features=5)\n",
    "RF.fit(X, Y)\n",
    "clf = tree.DecisionTreeClassifier()\n",
    "clf = clf.fit(X, Y)"
   ]
  },
  {
   "cell_type": "code",
   "execution_count": 43,
   "metadata": {},
   "outputs": [
    {
     "name": "stdout",
     "output_type": "stream",
     "text": [
      "                      Date   EURUSD    logret     1MRet     3MRet     6MRet  \\\n121055 2019-05-02 23:00:00  1.11720  0.000000 -0.002682 -0.001431  0.003407   \n121056 2019-05-03 00:00:00  1.11750  0.000268 -0.002770 -0.001252  0.003765   \n121057 2019-05-03 01:00:00  1.11730 -0.000179 -0.003217 -0.000537  0.004395   \n121058 2019-05-03 02:00:00  1.11780  0.000447 -0.002145 -0.000447  0.004214   \n121059 2019-05-03 03:00:00  1.11750 -0.000268 -0.002770 -0.000984  0.002957   \n121060 2019-05-03 04:00:00  1.11750  0.000000 -0.002949 -0.002770  0.002778   \n121061 2019-05-03 05:00:00  1.11740 -0.000089 -0.002770 -0.003306  0.003047   \n121062 2019-05-03 06:00:00  1.11690 -0.000448 -0.002236 -0.003843  0.002869   \n121063 2019-05-03 07:00:00  1.11720  0.000269 -0.003752 -0.004287  0.003228   \n121064 2019-05-03 08:00:00  1.11620 -0.000895 -0.004202 -0.005183  0.003051   \n121065 2019-05-03 09:00:00  1.11680  0.000537 -0.003040 -0.005180  0.003049   \n121066 2019-05-03 10:00:00  1.11655 -0.000224 -0.003264 -0.003621  0.003005   \n121067 2019-05-03 11:00:00  1.11550 -0.000941 -0.004472 -0.004115  0.001839   \n121068 2019-05-03 12:00:00  1.11530 -0.000179 -0.003937 -0.005722  0.001346   \n121069 2019-05-03 13:00:00  1.11530  0.000000 -0.002954 -0.005989  0.001525   \n121070 2019-05-03 14:00:00  1.11600  0.000627 -0.001969 -0.005540  0.002692   \n121071 2019-05-03 15:00:00  1.11670  0.000627 -0.001611 -0.004467  0.002870   \n121072 2019-05-03 16:00:00  1.11870  0.001789  0.000805 -0.002500  0.004300   \n121073 2019-05-03 17:00:00  1.11880  0.000089  0.000805 -0.002410  0.004659   \n121074 2019-05-03 18:00:00  1.11960  0.000715  0.001877 -0.001339  0.005373   \n121075 2019-05-03 19:00:00  1.11930 -0.000268  0.001788 -0.002053  0.004746   \n121076 2019-05-03 20:00:00  1.11940  0.000089  0.001967 -0.002231  0.004387   \n121077 2019-05-03 21:00:00  1.12000  0.000536  0.002503 -0.001606  0.005282   \n121078 2019-05-03 22:00:00  1.12020  0.000179  0.002413 -0.001249  0.005281   \n121079 2019-05-03 23:00:00  1.12025  0.000045  0.002637 -0.001472  0.005864   \n\n           9MRet  1Mv3MRet  1Mv6MRet  \n121055 -0.007668 -0.001251 -0.006089  \n121056 -0.007489 -0.001518 -0.006536  \n121057 -0.007845 -0.002680 -0.007612  \n121058 -0.007220 -0.001698 -0.006358  \n121059 -0.007489 -0.001786 -0.005728  \n121060 -0.007311 -0.000178 -0.005727  \n121061 -0.007489  0.000535 -0.005818  \n121062 -0.008115  0.001607 -0.005105  \n121063 -0.007757  0.000535 -0.006980  \n121064 -0.007408  0.000981 -0.007253  \n121065 -0.007316  0.002140 -0.006089  \n121066 -0.007539  0.000357 -0.006268  \n121067 -0.008747 -0.000357 -0.006312  \n121068 -0.008660  0.001785 -0.005283  \n121069 -0.008660  0.003035 -0.004480  \n121070 -0.007854  0.003571 -0.004661  \n121071 -0.007050  0.002857 -0.004480  \n121072 -0.005705  0.003305 -0.003495  \n121073 -0.006148  0.003215 -0.003854  \n121074 -0.005078  0.003216 -0.003496  \n121075 -0.004813  0.003841 -0.002958  \n121076 -0.002142  0.004198 -0.002420  \n121077 -0.000982  0.004109 -0.002779  \n121078 -0.000446  0.003662 -0.002868  \n121079 -0.000937  0.004109 -0.003227  \n"
     ]
    }
   ],
   "source": [
    "eurusd = eurusd.replace(np.nan, 0)\n",
    "print(eurusd.tail(25))"
   ]
  }
 ],
 "metadata": {
  "kernelspec": {
   "display_name": "Python 2",
   "language": "python",
   "name": "python2"
  },
  "language_info": {
   "codemirror_mode": {
    "name": "ipython",
    "version": 2
   },
   "file_extension": ".py",
   "mimetype": "text/x-python",
   "name": "python",
   "nbconvert_exporter": "python",
   "pygments_lexer": "ipython2",
   "version": "2.7.6"
  }
 },
 "nbformat": 4,
 "nbformat_minor": 0
}
